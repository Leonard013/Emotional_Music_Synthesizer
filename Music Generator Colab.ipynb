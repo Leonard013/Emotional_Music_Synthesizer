{
  "cells": [
    {
      "cell_type": "markdown",
      "metadata": {
        "id": "0DH9bjZD_Cfi"
      },
      "source": [
        "##### Copyright 2021 The TensorFlow Authors."
      ]
    },
    {
      "cell_type": "code",
      "execution_count": null,
      "metadata": {
        "cellView": "form",
        "execution": {
          "iopub.execute_input": "2023-10-27T05:48:48.384796Z",
          "iopub.status.busy": "2023-10-27T05:48:48.384229Z",
          "iopub.status.idle": "2023-10-27T05:48:48.387846Z",
          "shell.execute_reply": "2023-10-27T05:48:48.387284Z"
        },
        "id": "JO1GUwC1_T2x"
      },
      "outputs": [],
      "source": [
        "#@title Licensed under the Apache License, Version 2.0 (the \"License\");\n",
        "# you may not use this file except in compliance with the License.\n",
        "# You may obtain a copy of the License at\n",
        "#\n",
        "# https://www.apache.org/licenses/LICENSE-2.0\n",
        "#\n",
        "# Unless required by applicable law or agreed to in writing, software\n",
        "# distributed under the License is distributed on an \"AS IS\" BASIS,\n",
        "# WITHOUT WARRANTIES OR CONDITIONS OF ANY KIND, either express or implied.\n",
        "# See the License for the specific language governing permissions and\n",
        "# limitations under the License."
      ]
    },
    {
      "cell_type": "markdown",
      "metadata": {
        "id": "M4xOsFiu-1-c"
      },
      "source": [
        "# Generate music with an RNN"
      ]
    },
    {
      "cell_type": "markdown",
      "metadata": {
        "id": "hr78EkAY-FFg"
      },
      "source": [
        "This notebook shows how to generate musical notes using a Recurrent Neural Network. The model is trained using a collection of piano MIDI files from the [MAESTRO dataset](https://magenta.tensorflow.org/datasets/maestro). Given a sequence of notes, the model learns to predict the next note in the sequence.\n"
      ]
    },
    {
      "cell_type": "markdown",
      "metadata": {},
      "source": [
        "After the training phase, the model is used to generate notes based on the detected emotion of the user. The differences between emotions are expressed by a kmeans model, trained on a MIDI files dataset to divide them in two major clusters based on notes elements (pitch, step, duration and their mean and std values for each file)"
      ]
    },
    {
      "cell_type": "markdown",
      "metadata": {},
      "source": [
        "!!! forse da aggiungere qui una breve spiegazione della generazione"
      ]
    },
    {
      "cell_type": "markdown",
      "metadata": {},
      "source": [
        "## Setup"
      ]
    },
    {
      "cell_type": "code",
      "execution_count": null,
      "metadata": {},
      "outputs": [],
      "source": [
        "!pip install basic-pitch\n",
        "!basic-pitch /content/ voice.wav"
      ]
    },
    {
      "cell_type": "markdown",
      "metadata": {},
      "source": [
        "The `pretty_midi` library is used to create and parse MIDI files, and `pyfluidsynth` library for generating audio from the MIDI files."
      ]
    },
    {
      "cell_type": "code",
      "execution_count": null,
      "metadata": {},
      "outputs": [],
      "source": [
        "!pip install fluidsynth\n",
        "!pip install --upgrade pyfluidsynth\n",
        "!pip install pretty_midi"
      ]
    },
    {
      "cell_type": "code",
      "execution_count": null,
      "metadata": {},
      "outputs": [],
      "source": [
        "import collections\n",
        "import datetime\n",
        "import fluidsynth\n",
        "import glob\n",
        "import numpy as np\n",
        "import pathlib\n",
        "import pandas as pd\n",
        "import pretty_midi\n",
        "import seaborn as sns\n",
        "import tensorflow as tf\n",
        "import cv2\n",
        "import dlib\n",
        "import time\n",
        "import threading\n",
        "import pickle\n",
        "\n",
        "\n",
        "from IPython import display\n",
        "from matplotlib import pyplot as plt\n",
        "from typing import Optional\n",
        "\n",
        "from IPython.display import Javascript\n",
        "from google.colab import output\n",
        "from base64 import b64decode\n",
        "from io import BytesIO\n",
        "\n",
        "!pip -q install pydub\n",
        "from pydub import AudioSegment\n"
      ]
    },
    {
      "cell_type": "code",
      "execution_count": null,
      "metadata": {},
      "outputs": [],
      "source": [
        "seed = 42\n",
        "tf.random.set_seed(seed)\n",
        "np.random.seed(seed)\n",
        "\n",
        "# Sampling rate for audio playback\n",
        "_SAMPLING_RATE = 16000\n"
      ]
    },
    {
      "cell_type": "markdown",
      "metadata": {
        "id": "gVRtQvOG2ZKN"
      },
      "source": [
        "## Record Voice"
      ]
    },
    {
      "cell_type": "code",
      "execution_count": 1,
      "metadata": {
        "id": "-p33NTHx2ZKN"
      },
      "outputs": [],
      "source": [
        "RECORD = \"\"\"\n",
        "const sleep  = time => new Promise(resolve => setTimeout(resolve, time))\n",
        "const b2text = blob => new Promise(resolve => {\n",
        "  const reader = new FileReader()\n",
        "  reader.onloadend = e => resolve(e.srcElement.result)\n",
        "  reader.readAsDataURL(blob)\n",
        "})\n",
        "var record = time => new Promise(async resolve => {\n",
        "  stream = await navigator.mediaDevices.getUserMedia({ audio: true })\n",
        "  recorder = new MediaRecorder(stream)\n",
        "  chunks = []\n",
        "  recorder.ondataavailable = e => chunks.push(e.data)\n",
        "  recorder.start()\n",
        "  await sleep(time)\n",
        "  recorder.onstop = async ()=>{\n",
        "    blob = new Blob(chunks)\n",
        "    text = await b2text(blob)\n",
        "    resolve(text)\n",
        "  }\n",
        "  recorder.stop()\n",
        "})\n",
        "\"\"\"\n",
        "\n",
        "def record(sec=10): # change here the duration of the recording\n",
        "  display(Javascript(RECORD))\n",
        "  s = output.eval_js('record(%d)' % (sec*1000))\n",
        "  b = b64decode(s.split(',')[1])\n",
        "  audio = AudioSegment.from_file(BytesIO(b)) # remove this line if you want to save the audio without playing it\n",
        "  with open('voice.wav','wb') as f:\n",
        "    f.write(b)\n",
        "  return audio"
      ]
    },
    {
      "cell_type": "code",
      "execution_count": 2,
      "metadata": {
        "colab": {
          "base_uri": "https://localhost:8080/",
          "height": 52
        },
        "id": "7GX1JHOE2ZKP",
        "outputId": "0bc0dde2-7916-44e7-da51-84c101cf3493"
      },
      "outputs": [
        {
          "data": {
            "application/javascript": "\nconst sleep  = time => new Promise(resolve => setTimeout(resolve, time))\nconst b2text = blob => new Promise(resolve => {\n  const reader = new FileReader()\n  reader.onloadend = e => resolve(e.srcElement.result)\n  reader.readAsDataURL(blob)\n})\nvar record = time => new Promise(async resolve => {\n  stream = await navigator.mediaDevices.getUserMedia({ audio: true })\n  recorder = new MediaRecorder(stream)\n  chunks = []\n  recorder.ondataavailable = e => chunks.push(e.data)\n  recorder.start()\n  await sleep(time)\n  recorder.onstop = async ()=>{\n    blob = new Blob(chunks)\n    text = await b2text(blob)\n    resolve(text)\n  }\n  recorder.stop()\n})\n",
            "text/plain": [
              "<IPython.core.display.Javascript object>"
            ]
          },
          "metadata": {},
          "output_type": "display_data"
        },
        {
          "data": {
            "text/html": [
              "\n",
              "                    <audio controls>\n",
              "                        <source src=\"data:audio/mpeg;base64,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\" type=\"audio/mpeg\"/>\n",
              "                        Your browser does not support the audio element.\n",
              "                    </audio>\n",
              "                  "
            ],
            "text/plain": [
              "<pydub.audio_segment.AudioSegment at 0x7f24a19e9f30>"
            ]
          },
          "execution_count": 2,
          "metadata": {},
          "output_type": "execute_result"
        }
      ],
      "source": [
        "record()"
      ]
    },
    {
      "cell_type": "markdown",
      "metadata": {
        "id": "pFsjcJxJ2ZKP"
      },
      "source": [
        "Modify the paths:\n",
        "1) Where to save the midi file\n",
        "2) The file to convert"
      ]
    },
    {
      "cell_type": "markdown",
      "metadata": {
        "id": "V0PFBkOa2ZKS"
      },
      "source": [
        "## Smile Detection"
      ]
    },
    {
      "cell_type": "code",
      "execution_count": 9,
      "metadata": {
        "id": "uuCgj0wU2ZKS"
      },
      "outputs": [],
      "source": [
        "def is_smiling(landmarks):\n",
        "    # Get the coordinates of the mouth landmarks\n",
        "    # Points for the left and right of the mouth\n",
        "    left_mouth = (landmarks.part(48).x, landmarks.part(48).y)\n",
        "    right_mouth = (landmarks.part(54).x, landmarks.part(54).y)\n",
        "\n",
        "    # Points for the top and bottom of the mouth\n",
        "    top_mouth = (landmarks.part(51).x, landmarks.part(51).y)\n",
        "    bottom_mouth = (landmarks.part(57).x, landmarks.part(57).y)\n",
        "\n",
        "    # Calculate distances\n",
        "    horizontal_dist = np.linalg.norm(np.array(left_mouth) - np.array(right_mouth))\n",
        "    vertical_dist = np.linalg.norm(np.array(top_mouth) - np.array(bottom_mouth))\n",
        "\n",
        "    # Aspect ratio\n",
        "    aspect_ratio = vertical_dist / horizontal_dist\n",
        "\n",
        "    # Threshold can be adjusted based on empirical data\n",
        "    smile_threshold = 0.30\n",
        "\n",
        "    return aspect_ratio < smile_threshold\n"
      ]
    },
    {
      "cell_type": "code",
      "execution_count": 10,
      "metadata": {
        "id": "wQTQV8yxNeiF"
      },
      "outputs": [],
      "source": [
        "# function to convert the JavaScript object into an OpenCV image\n",
        "def js_to_image(js_reply):\n",
        "  \"\"\"\n",
        "  Params:\n",
        "          js_reply: JavaScript object containing image from webcam\n",
        "  Returns:\n",
        "          img: OpenCV BGR image\n",
        "  \"\"\"\n",
        "  # decode base64 image\n",
        "  image_bytes = b64decode(js_reply.split(',')[1])\n",
        "  # convert bytes to numpy array\n",
        "  jpg_as_np = np.frombuffer(image_bytes, dtype=np.uint8)\n",
        "  # decode numpy array into OpenCV BGR image\n",
        "  img = cv2.imdecode(jpg_as_np, flags=1)\n",
        "\n",
        "  return img\n",
        "\n",
        "# function to convert OpenCV Rectangle bounding box image into base64 byte string to be overlayed on video stream\n",
        "def bbox_to_bytes(bbox_array):\n",
        "  \"\"\"\n",
        "  Params:\n",
        "          bbox_array: Numpy array (pixels) containing rectangle to overlay on video stream.\n",
        "  Returns:\n",
        "        bytes: Base64 image byte string\n",
        "  \"\"\"\n",
        "  # convert array into PIL image\n",
        "  bbox_PIL = PIL.Image.fromarray(bbox_array, 'RGBA')\n",
        "  iobuf = io.BytesIO()\n",
        "  # format bbox into png for return\n",
        "  bbox_PIL.save(iobuf, format='png')\n",
        "  # format return string\n",
        "  bbox_bytes = 'data:image/png;base64,{}'.format((str(b64encode(iobuf.getvalue()), 'utf-8')))\n",
        "\n",
        "  return bbox_bytes\n",
        "# initialize the Haar Cascade face detection model\n",
        "face_cascade = cv2.CascadeClassifier(cv2.samples.findFile(cv2.data.haarcascades + 'haarcascade_frontalface_default.xml'))"
      ]
    },
    {
      "cell_type": "code",
      "execution_count": 11,
      "metadata": {
        "id": "BzRlbR9JNKWX"
      },
      "outputs": [],
      "source": [
        "def take_photo(filename='photo.jpg', quality=0.8):\n",
        "  js = Javascript('''\n",
        "    async function takePhoto(quality) {\n",
        "      const div = document.createElement('div');\n",
        "      const capture = document.createElement('button');\n",
        "      capture.textContent = 'Capture';\n",
        "      div.appendChild(capture);\n",
        "\n",
        "      const video = document.createElement('video');\n",
        "      video.style.display = 'block';\n",
        "      const stream = await navigator.mediaDevices.getUserMedia({video: true});\n",
        "\n",
        "      document.body.appendChild(div);\n",
        "      div.appendChild(video);\n",
        "      video.srcObject = stream;\n",
        "      await video.play();\n",
        "\n",
        "      // Resize the output to fit the video element.\n",
        "      google.colab.output.setIframeHeight(document.documentElement.scrollHeight, true);\n",
        "\n",
        "      // Wait for Capture to be clicked.\n",
        "      await new Promise((resolve) => capture.onclick = resolve);\n",
        "\n",
        "      const canvas = document.createElement('canvas');\n",
        "      canvas.width = video.videoWidth;\n",
        "      canvas.height = video.videoHeight;\n",
        "      canvas.getContext('2d').drawImage(video, 0, 0);\n",
        "      stream.getVideoTracks()[0].stop();\n",
        "      div.remove();\n",
        "      return canvas.toDataURL('image/jpeg', quality);\n",
        "    }\n",
        "    ''')\n",
        "  display(js)\n",
        "\n",
        "  # get photo data\n",
        "  data = output.eval_js('takePhoto({})'.format(quality))\n",
        "  # get OpenCV format image\n",
        "  img = js_to_image(data)\n",
        "  # grayscale img\n",
        "  gray = cv2.cvtColor(img, cv2.COLOR_RGB2GRAY)\n",
        "  print(gray.shape)\n",
        "  # get face bounding box coordinates using Haar Cascade\n",
        "  faces = face_cascade.detectMultiScale(gray)\n",
        "  # draw face bounding box on image\n",
        "  #for (x,y,w,h) in faces:\n",
        "  #    img = cv2.rectangle(img,(x,y),(x+w,y+h),(255,0,0),2)\n",
        "  # save image\n",
        "  cv2.imwrite(filename, img)\n",
        "\n",
        "  return filename"
      ]
    },
    {
      "cell_type": "code",
      "execution_count": 13,
      "metadata": {
        "id": "ak3osOqz2ZKS"
      },
      "outputs": [],
      "source": [
        "# Initialize dlib's face detector and facial landmark predictor\n",
        "detector = dlib.get_frontal_face_detector()\n",
        "predictor = dlib.shape_predictor(\"shape_predictor_68_face_landmarks.dat\")  # You need to download this file"
      ]
    },
    {
      "cell_type": "code",
      "execution_count": 14,
      "metadata": {
        "colab": {
          "base_uri": "https://localhost:8080/",
          "height": 548
        },
        "id": "zegq7rieQNNa",
        "outputId": "57695be5-ba11-4f27-a5d8-c55dfcb45a1b"
      },
      "outputs": [
        {
          "data": {
            "application/javascript": "\n    async function takePhoto(quality) {\n      const div = document.createElement('div');\n      const capture = document.createElement('button');\n      capture.textContent = 'Capture';\n      div.appendChild(capture);\n\n      const video = document.createElement('video');\n      video.style.display = 'block';\n      const stream = await navigator.mediaDevices.getUserMedia({video: true});\n\n      document.body.appendChild(div);\n      div.appendChild(video);\n      video.srcObject = stream;\n      await video.play();\n\n      // Resize the output to fit the video element.\n      google.colab.output.setIframeHeight(document.documentElement.scrollHeight, true);\n\n      // Wait for Capture to be clicked.\n      await new Promise((resolve) => capture.onclick = resolve);\n\n      const canvas = document.createElement('canvas');\n      canvas.width = video.videoWidth;\n      canvas.height = video.videoHeight;\n      canvas.getContext('2d').drawImage(video, 0, 0);\n      stream.getVideoTracks()[0].stop();\n      div.remove();\n      return canvas.toDataURL('image/jpeg', quality);\n    }\n    ",
            "text/plain": [
              "<IPython.core.display.Javascript object>"
            ]
          },
          "metadata": {},
          "output_type": "display_data"
        },
        {
          "name": "stdout",
          "output_type": "stream",
          "text": [
            "(480, 640)\n",
            "Saved to photo.jpg\n",
            "face found\n"
          ]
        },
        {
          "data": {
            "image/jpeg": "[encoded data removed]",
            "text/plain": [
              "<IPython.core.display.Image object>"
            ]
          },
          "metadata": {},
          "output_type": "display_data"
        }
      ],
      "source": [
        "from IPython.display import display, Javascript, Image\n",
        "try:\n",
        "  filename = take_photo('photo.jpg')\n",
        "  print('Saved to {}'.format(filename))\n",
        "\n",
        "  photo = cv2.imread('photo.jpg')\n",
        "  gray = cv2.cvtColor(photo, cv2.COLOR_BGR2GRAY)\n",
        "\n",
        "  detector = dlib.get_frontal_face_detector()\n",
        "  predictor = dlib.shape_predictor(\"shape_predictor_68_face_landmarks.dat\")  # You need to download this file\n",
        "\n",
        "  faces = detector(gray)\n",
        "  if len(faces) == 0:\n",
        "    print(\"no face detected, please try again\")\n",
        "\n",
        "  else:\n",
        "    for face in faces:\n",
        "      print(\"face found\")\n",
        "      landmarks = predictor(gray, face)\n",
        "\n",
        "    if is_smiling(landmarks):\n",
        "      color = (0, 255, 0) # Green\n",
        "    else:\n",
        "      color = (0, 0, 255) # Red\n",
        "\n",
        "    x1, y1, x2, y2 = face.left(), face.top(), face.right(), face.bottom()\n",
        "    cv2.rectangle(photo, (x1, y1), (x2, y2), color, 2)\n",
        "\n",
        "    cv2.imwrite(filename, photo)\n",
        "    # Show the image which was just taken.\n",
        "    display(Image(filename))\n",
        "    label = 1 if is_smiling(landmarks) else -1\n",
        "except Exception as err:\n",
        "  # Errors will be thrown if the user does not have a webcam or if they do not\n",
        "  # grant the page permission to access it.\n",
        "  print(str(err))"
      ]
    },
    {
      "cell_type": "markdown",
      "metadata": {},
      "source": [
        "## Import trained kmeans model, and define analyzer function"
      ]
    },
    {
      "cell_type": "code",
      "execution_count": null,
      "metadata": {},
      "outputs": [],
      "source": [
        "with open(\"model.pkl\", \"rb\") as f:\n",
        "    kmeans_model = pickle.load(f)"
      ]
    },
    {
      "cell_type": "code",
      "execution_count": 15,
      "metadata": {
        "id": "xoCTamzR2ZKS"
      },
      "outputs": [],
      "source": [
        "def analyze_midi(notes_sequence):\n",
        "\n",
        "    # suppose the triple for each note is: (pitch, step, duration)\n",
        "\n",
        "    # get notes steps\n",
        "    steps = [note[1] for note in notes_sequence]\n",
        "\n",
        "    avg_step = np.mean(steps)\n",
        "    max_step = np.max(steps)\n",
        "    std_step = np.std(steps)\n",
        "\n",
        "\n",
        "    # get note durations\n",
        "    durations = [note[2] for note in notes_sequence]\n",
        "\n",
        "    avg_duration = np.mean(durations)\n",
        "    max_duration = np.max(durations)\n",
        "    std_duration = np.std(durations)\n",
        "\n",
        "    # get note pitches\n",
        "    pitches = [note[0] for note in notes_sequence]\n",
        "    \n",
        "    avg_pitch = np.mean(pitches)\n",
        "    max_pitch = np.max(pitches)\n",
        "    std_pitch = np.std(pitches)\n",
        "\n",
        "\n",
        "    return {\n",
        "        'avg_step': avg_step,\n",
        "        'max_step': max_step,\n",
        "        'std_step': std_step,\n",
        "        'avg_duration': avg_duration,\n",
        "        'max_duration': max_duration,\n",
        "        'std_duration': std_duration,\n",
        "        'avg_pitch': avg_pitch,\n",
        "        'max_pitch': max_pitch,\n",
        "        'std_pitch': std_pitch\n",
        "    }"
      ]
    },
    {
      "cell_type": "markdown",
      "metadata": {
        "id": "FzIbfb-Ikgg7"
      },
      "source": [
        "## Download the Maestro dataset"
      ]
    },
    {
      "cell_type": "code",
      "execution_count": 16,
      "metadata": {
        "colab": {
          "base_uri": "https://localhost:8080/"
        },
        "execution": {
          "iopub.execute_input": "2023-10-27T05:49:17.515178Z",
          "iopub.status.busy": "2023-10-27T05:49:17.514526Z",
          "iopub.status.idle": "2023-10-27T05:49:18.943808Z",
          "shell.execute_reply": "2023-10-27T05:49:18.943068Z"
        },
        "id": "mwja4SWmibrL",
        "outputId": "1c8bc65f-79c6-45b3-99f4-8f3f61b5cea9"
      },
      "outputs": [
        {
          "name": "stdout",
          "output_type": "stream",
          "text": [
            "Downloading data from https://storage.googleapis.com/magentadata/datasets/maestro/v2.0.0/maestro-v2.0.0-midi.zip\n",
            "59243107/59243107 [==============================] - 0s 0us/step\n"
          ]
        }
      ],
      "source": [
        "data_dir = pathlib.Path('data/maestro-v2.0.0')\n",
        "if not data_dir.exists():\n",
        "  tf.keras.utils.get_file(\n",
        "      'maestro-v2.0.0-midi.zip',\n",
        "      origin='https://storage.googleapis.com/magentadata/datasets/maestro/v2.0.0/maestro-v2.0.0-midi.zip',\n",
        "      extract=True,\n",
        "      cache_dir='.', cache_subdir='data',\n",
        "  )"
      ]
    },
    {
      "cell_type": "markdown",
      "metadata": {
        "id": "k7UYBSxcINqJ"
      },
      "source": [
        "The dataset contains about 1,200 MIDI files."
      ]
    },
    {
      "cell_type": "code",
      "execution_count": 17,
      "metadata": {
        "colab": {
          "base_uri": "https://localhost:8080/"
        },
        "execution": {
          "iopub.execute_input": "2023-10-27T05:49:18.948352Z",
          "iopub.status.busy": "2023-10-27T05:49:18.947653Z",
          "iopub.status.idle": "2023-10-27T05:49:18.958186Z",
          "shell.execute_reply": "2023-10-27T05:49:18.957445Z"
        },
        "id": "72iFI1bPB9o1",
        "outputId": "d4222afa-ff07-4615-be7b-3fc73060e31a"
      },
      "outputs": [
        {
          "name": "stdout",
          "output_type": "stream",
          "text": [
            "Number of files: 1282\n"
          ]
        }
      ],
      "source": [
        "filenames = glob.glob(str(data_dir/'**/*.mid*'))\n",
        "print('Number of files:', len(filenames))"
      ]
    },
    {
      "cell_type": "markdown",
      "metadata": {
        "id": "8BlRafYDIRgA"
      },
      "source": [
        "## Function to play a MIDI file"
      ]
    },
    {
      "cell_type": "code",
      "execution_count": 20,
      "metadata": {
        "execution": {
          "iopub.execute_input": "2023-10-27T05:49:19.240245Z",
          "iopub.status.busy": "2023-10-27T05:49:19.239710Z",
          "iopub.status.idle": "2023-10-27T05:49:19.244009Z",
          "shell.execute_reply": "2023-10-27T05:49:19.243368Z"
        },
        "id": "vzoHAaVY_kyY"
      },
      "outputs": [],
      "source": [
        "def display_audio(pm: pretty_midi.PrettyMIDI, seconds=10):\n",
        "  waveform = pm.fluidsynth(fs=_SAMPLING_RATE)\n",
        "  # Take a sample of the generated waveform to mitigate kernel resets\n",
        "  waveform_short = waveform[:seconds*_SAMPLING_RATE]\n",
        "  return display.Audio(waveform_short, rate=_SAMPLING_RATE)"
      ]
    },
    {
      "cell_type": "code",
      "execution_count": 22,
      "metadata": {
        "colab": {
          "base_uri": "https://localhost:8080/"
        },
        "execution": {
          "iopub.execute_input": "2023-10-27T05:49:22.768476Z",
          "iopub.status.busy": "2023-10-27T05:49:22.767752Z",
          "iopub.status.idle": "2023-10-27T05:49:22.772057Z",
          "shell.execute_reply": "2023-10-27T05:49:22.771456Z"
        },
        "id": "SIGHYQPZQnRo",
        "outputId": "d050d24a-6341-423e-a59f-410ca594c85e"
      },
      "outputs": [
        {
          "name": "stdout",
          "output_type": "stream",
          "text": [
            "Number of instruments: 1\n",
            "Instrument name: Electric Piano 1\n"
          ]
        }
      ],
      "source": [
        "print('Number of instruments:', len(pm.instruments))\n",
        "instrument = pm.instruments[0]\n",
        "instrument_name = pretty_midi.program_to_instrument_name(instrument.program)\n",
        "print('Instrument name:', instrument_name)"
      ]
    },
    {
      "cell_type": "markdown",
      "metadata": {
        "id": "KVQfV2hVKB28"
      },
      "source": [
        "## Extract notes\n",
        "!!! vediamo se questo lasciarlo così o levare tutta la parte del plotting del file e delle distribuzioni tanto non credo ci servano"
      ]
    },
    {
      "cell_type": "code",
      "execution_count": null,
      "metadata": {
        "colab": {
          "base_uri": "https://localhost:8080/"
        },
        "execution": {
          "iopub.execute_input": "2023-10-27T05:49:22.775309Z",
          "iopub.status.busy": "2023-10-27T05:49:22.774778Z",
          "iopub.status.idle": "2023-10-27T05:49:22.778972Z",
          "shell.execute_reply": "2023-10-27T05:49:22.778333Z"
        },
        "id": "nYZm_VehYOTZ",
        "outputId": "e1fb8de5-9f8f-472f-e224-f2242f6b069a"
      },
      "outputs": [],
      "source": [
        "for i, note in enumerate(instrument.notes[:10]):\n",
        "  note_name = pretty_midi.note_number_to_name(note.pitch)\n",
        "  duration = note.end - note.start\n",
        "  print(f'{i}: pitch={note.pitch}, note_name={note_name},'\n",
        "        f' duration={duration:.4f}')"
      ]
    },
    {
      "cell_type": "markdown",
      "metadata": {
        "id": "jutzynyqX_GC"
      },
      "source": [
        "To train the model, three elements of each note are used: `pitch`, `step` and `duration`. \n",
        "- `pitch` is the perceptual quality of the sound as a MIDI note number.\n",
        "- `step` is the time elapsed from the previous note or start of the track.\n",
        "- `duration` is how long the note will be playing in seconds and is the difference between the note end and note start times.\n"
      ]
    },
    {
      "cell_type": "markdown",
      "metadata": {
        "id": "KGn7Juv_PTi6"
      },
      "source": [
        "Extract the notes from the sample MIDI file."
      ]
    },
    {
      "cell_type": "code",
      "execution_count": 24,
      "metadata": {
        "execution": {
          "iopub.execute_input": "2023-10-27T05:49:22.782152Z",
          "iopub.status.busy": "2023-10-27T05:49:22.781569Z",
          "iopub.status.idle": "2023-10-27T05:49:22.787191Z",
          "shell.execute_reply": "2023-10-27T05:49:22.786583Z"
        },
        "id": "Wyp_wdcEPWby"
      },
      "outputs": [],
      "source": [
        "def midi_to_notes(midi_file: str) -> pd.DataFrame:\n",
        "  pm = pretty_midi.PrettyMIDI(midi_file)\n",
        "  instrument = pm.instruments[0]\n",
        "  notes = collections.defaultdict(list)\n",
        "\n",
        "  # Sort the notes by start time\n",
        "  sorted_notes = sorted(instrument.notes, key=lambda note: note.start)\n",
        "  prev_start = sorted_notes[0].start\n",
        "\n",
        "  for note in sorted_notes:\n",
        "    start = note.start\n",
        "    end = note.end\n",
        "    notes['pitch'].append(note.pitch)\n",
        "    notes['start'].append(start)\n",
        "    notes['end'].append(end)\n",
        "    notes['step'].append(start - prev_start)\n",
        "    notes['duration'].append(end - start)\n",
        "    prev_start = start\n",
        "\n",
        "  return pd.DataFrame({name: np.array(value) for name, value in notes.items()})"
      ]
    },
    {
      "cell_type": "code",
      "execution_count": null,
      "metadata": {
        "colab": {
          "base_uri": "https://localhost:8080/",
          "height": 204
        },
        "execution": {
          "iopub.execute_input": "2023-10-27T05:49:22.790113Z",
          "iopub.status.busy": "2023-10-27T05:49:22.789536Z",
          "iopub.status.idle": "2023-10-27T05:49:23.059946Z",
          "shell.execute_reply": "2023-10-27T05:49:23.059286Z"
        },
        "id": "X0kPjLBlcnY6",
        "outputId": "17f13bb9-2758-410c-c512-83247a1814b7"
      },
      "outputs": [],
      "source": [
        "raw_notes = midi_to_notes(sample_file)\n",
        "raw_notes.head()"
      ]
    },
    {
      "cell_type": "markdown",
      "metadata": {
        "id": "-71LPvjubOSO"
      },
      "source": [
        "It may be easier to interpret the note names rather than the pitches, so you can use the function below to convert from the numeric pitch values to note names.\n",
        "The note name shows the type of note, accidental and octave number\n",
        "(e.g. C#4)."
      ]
    },
    {
      "cell_type": "code",
      "execution_count": 26,
      "metadata": {
        "colab": {
          "base_uri": "https://localhost:8080/"
        },
        "execution": {
          "iopub.execute_input": "2023-10-27T05:49:23.063434Z",
          "iopub.status.busy": "2023-10-27T05:49:23.062888Z",
          "iopub.status.idle": "2023-10-27T05:49:23.078053Z",
          "shell.execute_reply": "2023-10-27T05:49:23.077435Z"
        },
        "id": "WE9YXrGZbY2X",
        "outputId": "b7c82a5f-a380-4730-d0a0-74a818290c75"
      },
      "outputs": [
        {
          "data": {
            "text/plain": [
              "array(['D3', 'F3', 'B2', 'B2', 'C#3', 'A2', 'A#2', 'D5', 'A#2', 'D#3'],\n",
              "      dtype='<U3')"
            ]
          },
          "execution_count": 26,
          "metadata": {},
          "output_type": "execute_result"
        }
      ],
      "source": [
        "get_note_names = np.vectorize(pretty_midi.note_number_to_name)\n",
        "sample_note_names = get_note_names(raw_notes['pitch'])\n",
        "sample_note_names[:10]"
      ]
    },
    {
      "cell_type": "markdown",
      "metadata": {
        "id": "Q7sjqbp1e_f-"
      },
      "source": [
        "One can visualize the musical piece plotting the note pitch, start and end across the length of the track."
      ]
    },
    {
      "cell_type": "code",
      "execution_count": 27,
      "metadata": {
        "execution": {
          "iopub.execute_input": "2023-10-27T05:49:23.081233Z",
          "iopub.status.busy": "2023-10-27T05:49:23.080758Z",
          "iopub.status.idle": "2023-10-27T05:49:23.085712Z",
          "shell.execute_reply": "2023-10-27T05:49:23.085110Z"
        },
        "id": "liD2N7x_WOTp"
      },
      "outputs": [],
      "source": [
        "def plot_piano_roll(notes: pd.DataFrame, count: Optional[int] = None):\n",
        "  if count:\n",
        "    title = f'First {count} notes'\n",
        "  else:\n",
        "    title = f'Whole track'\n",
        "    count = len(notes['pitch'])\n",
        "  plt.figure(figsize=(20, 4))\n",
        "  plot_pitch = np.stack([notes['pitch'], notes['pitch']], axis=0)\n",
        "  plot_start_stop = np.stack([notes['start'], notes['end']], axis=0)\n",
        "  plt.plot(\n",
        "      plot_start_stop[:, :count], plot_pitch[:, :count], color=\"b\", marker=\".\")\n",
        "  plt.xlabel('Time [s]')\n",
        "  plt.ylabel('Pitch')\n",
        "  _ = plt.title(title)"
      ]
    },
    {
      "cell_type": "markdown",
      "metadata": {
        "id": "gcUyCXYhXeVA"
      },
      "source": [
        "Plot the notes for the entire track."
      ]
    },
    {
      "cell_type": "code",
      "execution_count": null,
      "metadata": {
        "colab": {
          "base_uri": "https://localhost:8080/",
          "height": 264
        },
        "execution": {
          "iopub.execute_input": "2023-10-27T05:49:23.534716Z",
          "iopub.status.busy": "2023-10-27T05:49:23.534439Z",
          "iopub.status.idle": "2023-10-27T05:49:26.630422Z",
          "shell.execute_reply": "2023-10-27T05:49:26.629758Z"
        },
        "id": "G7l76hEDZX8Z",
        "outputId": "8a5d5daa-bbd1-43a5-a507-6edca625d25f"
      },
      "outputs": [],
      "source": [
        "plot_piano_roll(raw_notes)"
      ]
    },
    {
      "cell_type": "markdown",
      "metadata": {
        "id": "5GM1bi3aX8rd"
      },
      "source": [
        "Check the distribution of each note variable."
      ]
    },
    {
      "cell_type": "code",
      "execution_count": 28,
      "metadata": {
        "execution": {
          "iopub.execute_input": "2023-10-27T05:49:26.634832Z",
          "iopub.status.busy": "2023-10-27T05:49:26.634282Z",
          "iopub.status.idle": "2023-10-27T05:49:26.639513Z",
          "shell.execute_reply": "2023-10-27T05:49:26.638888Z"
        },
        "id": "Pq9C9XBBaK7W"
      },
      "outputs": [],
      "source": [
        "def plot_distributions(notes: pd.DataFrame, drop_percentile=2.5):\n",
        "  plt.figure(figsize=[15, 5])\n",
        "  plt.subplot(1, 3, 1)\n",
        "  sns.histplot(notes, x=\"pitch\", bins=20)\n",
        "\n",
        "  plt.subplot(1, 3, 2)\n",
        "  max_step = np.percentile(notes['step'], 100 - drop_percentile)\n",
        "  sns.histplot(notes, x=\"step\", bins=np.linspace(0, max_step, 21))\n",
        "\n",
        "  plt.subplot(1, 3, 3)\n",
        "  max_duration = np.percentile(notes['duration'], 100 - drop_percentile)\n",
        "  sns.histplot(notes, x=\"duration\", bins=np.linspace(0, max_duration, 21))"
      ]
    },
    {
      "cell_type": "code",
      "execution_count": null,
      "metadata": {
        "colab": {
          "base_uri": "https://localhost:8080/",
          "height": 390
        },
        "execution": {
          "iopub.execute_input": "2023-10-27T05:49:26.642631Z",
          "iopub.status.busy": "2023-10-27T05:49:26.642105Z",
          "iopub.status.idle": "2023-10-27T05:49:27.107338Z",
          "shell.execute_reply": "2023-10-27T05:49:27.106549Z"
        },
        "id": "-Nu2Pw24acFD",
        "outputId": "c6ce00fe-9536-4343-8233-7acd49e493f7"
      },
      "outputs": [],
      "source": [
        "plot_distributions(raw_notes)"
      ]
    },
    {
      "cell_type": "markdown",
      "metadata": {
        "id": "poIivompcfS4"
      },
      "source": [
        "## Create a MIDI file from a list of notes"
      ]
    },
    {
      "cell_type": "code",
      "execution_count": 30,
      "metadata": {
        "execution": {
          "iopub.execute_input": "2023-10-27T05:49:27.111241Z",
          "iopub.status.busy": "2023-10-27T05:49:27.110601Z",
          "iopub.status.idle": "2023-10-27T05:49:27.116133Z",
          "shell.execute_reply": "2023-10-27T05:49:27.115497Z"
        },
        "id": "BD5rsMRARYoV"
      },
      "outputs": [],
      "source": [
        "def notes_to_midi(\n",
        "  notes: pd.DataFrame,\n",
        "  out_file: str,\n",
        "  instrument_name: str,\n",
        "  velocity: int = 100,  # note loudness\n",
        ") -> pretty_midi.PrettyMIDI:\n",
        "\n",
        "  pm = pretty_midi.PrettyMIDI()\n",
        "  instrument = pretty_midi.Instrument(\n",
        "      program=pretty_midi.instrument_name_to_program(\n",
        "          instrument_name))\n",
        "\n",
        "  prev_start = 0\n",
        "  for i, note in notes.iterrows():\n",
        "    start = float(prev_start + note['step'])\n",
        "    end = float(start + note['duration'])\n",
        "    note = pretty_midi.Note(\n",
        "        velocity=velocity,\n",
        "        pitch=int(note['pitch']),\n",
        "        start=start,\n",
        "        end=end,\n",
        "    )\n",
        "    instrument.notes.append(note)\n",
        "    prev_start = start\n",
        "\n",
        "  pm.instruments.append(instrument)\n",
        "  pm.write(out_file)\n",
        "  return pm"
      ]
    },
    {
      "cell_type": "markdown",
      "metadata": {
        "id": "pfRNk9tEScuf"
      },
      "source": [
        "## Create the training dataset\n"
      ]
    },
    {
      "cell_type": "markdown",
      "metadata": {
        "id": "b77zHR1udDrK"
      },
      "source": [
        "Create the training dataset by extracting notes from the MIDI files."
      ]
    },
    {
      "cell_type": "code",
      "execution_count": 32,
      "metadata": {
        "execution": {
          "iopub.execute_input": "2023-10-27T05:49:30.593454Z",
          "iopub.status.busy": "2023-10-27T05:49:30.592666Z",
          "iopub.status.idle": "2023-10-27T05:49:32.530301Z",
          "shell.execute_reply": "2023-10-27T05:49:32.529521Z"
        },
        "id": "GiaQiTnXSW-T"
      },
      "outputs": [],
      "source": [
        "num_files = 100\n",
        "all_notes = []\n",
        "for f in filenames[:num_files]:\n",
        "  notes = midi_to_notes(f)\n",
        "  all_notes.append(notes)\n",
        "\n",
        "all_notes = pd.concat(all_notes)"
      ]
    },
    {
      "cell_type": "code",
      "execution_count": null,
      "metadata": {
        "colab": {
          "base_uri": "https://localhost:8080/"
        },
        "execution": {
          "iopub.execute_input": "2023-10-27T05:49:32.534426Z",
          "iopub.status.busy": "2023-10-27T05:49:32.534127Z",
          "iopub.status.idle": "2023-10-27T05:49:32.538351Z",
          "shell.execute_reply": "2023-10-27T05:49:32.537668Z"
        },
        "id": "F4bMDeRvgWqx",
        "outputId": "0cfb932d-0d58-4b7f-f37a-762104d6434b"
      },
      "outputs": [
        {
          "name": "stdout",
          "output_type": "stream",
          "text": [
            "Number of notes parsed: 728774\n"
          ]
        }
      ],
      "source": [
        "n_notes = len(all_notes)\n",
        "print('Number of notes parsed:', n_notes)"
      ]
    },
    {
      "cell_type": "markdown",
      "metadata": {
        "id": "xIBLvj-cODWS"
      },
      "source": [
        "Create a `tf.data.Dataset` from the parsed notes."
      ]
    },
    {
      "cell_type": "code",
      "execution_count": null,
      "metadata": {
        "execution": {
          "iopub.execute_input": "2023-10-27T05:49:32.541778Z",
          "iopub.status.busy": "2023-10-27T05:49:32.541144Z",
          "iopub.status.idle": "2023-10-27T05:49:32.545241Z",
          "shell.execute_reply": "2023-10-27T05:49:32.544603Z"
        },
        "id": "mvNHCHZdXG2P"
      },
      "outputs": [],
      "source": [
        "key_order = ['pitch', 'step', 'duration']\n",
        "train_notes = np.stack([all_notes[key] for key in key_order], axis=1)"
      ]
    },
    {
      "cell_type": "code",
      "execution_count": null,
      "metadata": {
        "colab": {
          "base_uri": "https://localhost:8080/"
        },
        "execution": {
          "iopub.execute_input": "2023-10-27T05:49:32.548388Z",
          "iopub.status.busy": "2023-10-27T05:49:32.547812Z",
          "iopub.status.idle": "2023-10-27T05:49:34.742499Z",
          "shell.execute_reply": "2023-10-27T05:49:34.741818Z"
        },
        "id": "PLC_19tshyFk",
        "outputId": "2386f0e0-b2c3-4227-9e3d-940ae86dbe89"
      },
      "outputs": [
        {
          "data": {
            "text/plain": [
              "TensorSpec(shape=(3,), dtype=tf.float64, name=None)"
            ]
          },
          "execution_count": 38,
          "metadata": {},
          "output_type": "execute_result"
        }
      ],
      "source": [
        "notes_ds = tf.data.Dataset.from_tensor_slices(train_notes)\n",
        "notes_ds.element_spec"
      ]
    },
    {
      "cell_type": "markdown",
      "metadata": {
        "id": "Sj9SXRCjt3I7"
      },
      "source": [
        "We train the model on batches of sequences of notes. Each example will consist of a sequence of notes as the input features, and the next note as the label. In such way, the model will be trained to predict the next note in a sequence. \n",
        "\n",
        "Use the `window` function with size `seq_length` to create the features and labels in this format."
      ]
    },
    {
      "cell_type": "code",
      "execution_count": null,
      "metadata": {
        "execution": {
          "iopub.execute_input": "2023-10-27T05:49:34.746089Z",
          "iopub.status.busy": "2023-10-27T05:49:34.745838Z",
          "iopub.status.idle": "2023-10-27T05:49:34.751939Z",
          "shell.execute_reply": "2023-10-27T05:49:34.751356Z"
        },
        "id": "ZkEC-5s6wJJV"
      },
      "outputs": [],
      "source": [
        "def create_sequences(\n",
        "    dataset: tf.data.Dataset,\n",
        "    seq_length: int,\n",
        "    vocab_size = 128,\n",
        ") -> tf.data.Dataset:\n",
        "  \"\"\"Returns TF Dataset of sequence and label examples.\"\"\"\n",
        "  seq_length = seq_length+1\n",
        "\n",
        "  # Take 1 extra for the labels\n",
        "  windows = dataset.window(seq_length, shift=1, stride=1,\n",
        "                              drop_remainder=True)\n",
        "\n",
        "  # `flat_map` creates a dataset of tensors\n",
        "  flatten = lambda x: x.batch(seq_length, drop_remainder=True)\n",
        "  sequences = windows.flat_map(flatten)\n",
        "\n",
        "  # Normalize pitch\n",
        "  def scale_pitch(x):\n",
        "    x = x/[vocab_size,1.0,1.0]\n",
        "    return x\n",
        "\n",
        "  # Split the labels\n",
        "  def split_labels(sequences):\n",
        "    inputs = sequences[:-1]\n",
        "    labels_dense = sequences[-1]\n",
        "    labels = {key:labels_dense[i] for i,key in enumerate(key_order)}\n",
        "\n",
        "    return scale_pitch(inputs), labels\n",
        "\n",
        "  return sequences.map(split_labels, num_parallel_calls=tf.data.AUTOTUNE)"
      ]
    },
    {
      "cell_type": "markdown",
      "metadata": {
        "id": "2xDX5pVkegrv"
      },
      "source": [
        "Set the sequence length for each example.\n",
        "The size of the vocabulary `vocab_size` is set to 128 representing all the possible pitch values supported by `pretty_midi`."
      ]
    },
    {
      "cell_type": "code",
      "execution_count": null,
      "metadata": {
        "colab": {
          "base_uri": "https://localhost:8080/"
        },
        "execution": {
          "iopub.execute_input": "2023-10-27T05:49:34.755296Z",
          "iopub.status.busy": "2023-10-27T05:49:34.754816Z",
          "iopub.status.idle": "2023-10-27T05:49:34.850722Z",
          "shell.execute_reply": "2023-10-27T05:49:34.850146Z"
        },
        "id": "fGA3VxcFXZ4T",
        "outputId": "a6e13d80-2f6d-4318-82e9-1f697a09d24e"
      },
      "outputs": [
        {
          "data": {
            "text/plain": [
              "(TensorSpec(shape=(25, 3), dtype=tf.float64, name=None),\n",
              " {'pitch': TensorSpec(shape=(), dtype=tf.float64, name=None),\n",
              "  'step': TensorSpec(shape=(), dtype=tf.float64, name=None),\n",
              "  'duration': TensorSpec(shape=(), dtype=tf.float64, name=None)})"
            ]
          },
          "execution_count": 40,
          "metadata": {},
          "output_type": "execute_result"
        }
      ],
      "source": [
        "seq_length = 25\n",
        "vocab_size = 128\n",
        "seq_ds = create_sequences(notes_ds, seq_length, vocab_size)\n",
        "seq_ds.element_spec"
      ]
    },
    {
      "cell_type": "markdown",
      "metadata": {
        "id": "AX9nKmSYetGo"
      },
      "source": [
        "The shape of the dataset is ```(100,1)```, meaning that the model will take 100 notes as input, and learn to predict the following note as output."
      ]
    },
    {
      "cell_type": "code",
      "execution_count": null,
      "metadata": {
        "colab": {
          "base_uri": "https://localhost:8080/"
        },
        "execution": {
          "iopub.execute_input": "2023-10-27T05:49:34.854291Z",
          "iopub.status.busy": "2023-10-27T05:49:34.853656Z",
          "iopub.status.idle": "2023-10-27T05:49:34.913971Z",
          "shell.execute_reply": "2023-10-27T05:49:34.913266Z"
        },
        "id": "ESK9cL7__TF3",
        "outputId": "72bb9afa-9399-40dd-e9f5-6e560e68dcb4"
      },
      "outputs": [
        {
          "name": "stdout",
          "output_type": "stream",
          "text": [
            "sequence shape: (25, 3)\n",
            "sequence elements (first 10): tf.Tensor(\n",
            "[[0.6328125  0.         0.0703125 ]\n",
            " [0.6640625  0.02994792 0.07291667]\n",
            " [0.6875     0.03255208 0.046875  ]\n",
            " [0.59375    0.31510417 0.03776042]\n",
            " [0.5390625  0.0078125  0.03645833]\n",
            " [0.5703125  0.015625   0.03645833]\n",
            " [0.4765625  0.26953125 0.04166667]\n",
            " [0.5        0.0078125  0.02734375]\n",
            " [0.4453125  0.00130208 0.03385417]\n",
            " [0.4609375  0.32291667 0.04296875]], shape=(10, 3), dtype=float64)\n",
            "\n",
            "target: {'pitch': <tf.Tensor: shape=(), dtype=float64, numpy=71.0>, 'step': <tf.Tensor: shape=(), dtype=float64, numpy=0.013020833333333481>, 'duration': <tf.Tensor: shape=(), dtype=float64, numpy=0.02994791666666652>}\n"
          ]
        }
      ],
      "source": [
        "for seq, target in seq_ds.take(1):\n",
        "  print('sequence shape:', seq.shape)\n",
        "  print('sequence elements (first 10):', seq[0: 10])\n",
        "  print('target:', target)"
      ]
    },
    {
      "cell_type": "markdown",
      "metadata": {
        "id": "kR3TVZZGk5Qq"
      },
      "source": [
        "Batch the examples, and configure the dataset for performance."
      ]
    },
    {
      "cell_type": "code",
      "execution_count": null,
      "metadata": {
        "execution": {
          "iopub.execute_input": "2023-10-27T05:49:34.917542Z",
          "iopub.status.busy": "2023-10-27T05:49:34.916944Z",
          "iopub.status.idle": "2023-10-27T05:49:35.898556Z",
          "shell.execute_reply": "2023-10-27T05:49:35.897869Z"
        },
        "id": "fTpFoiM_AV_Y"
      },
      "outputs": [],
      "source": [
        "batch_size = 64\n",
        "buffer_size = n_notes - seq_length  # the number of items in the dataset\n",
        "train_ds = (seq_ds\n",
        "            .shuffle(buffer_size)\n",
        "            .batch(batch_size, drop_remainder=True)\n",
        "            .cache()\n",
        "            .prefetch(tf.data.experimental.AUTOTUNE))"
      ]
    },
    {
      "cell_type": "code",
      "execution_count": null,
      "metadata": {
        "colab": {
          "base_uri": "https://localhost:8080/"
        },
        "execution": {
          "iopub.execute_input": "2023-10-27T05:49:35.902303Z",
          "iopub.status.busy": "2023-10-27T05:49:35.902059Z",
          "iopub.status.idle": "2023-10-27T05:49:35.906779Z",
          "shell.execute_reply": "2023-10-27T05:49:35.906186Z"
        },
        "id": "LySbjV0GzXQu",
        "outputId": "0f2e5604-7faa-4f15-954d-8de04ff00a45"
      },
      "outputs": [
        {
          "data": {
            "text/plain": [
              "(TensorSpec(shape=(64, 25, 3), dtype=tf.float64, name=None),\n",
              " {'pitch': TensorSpec(shape=(64,), dtype=tf.float64, name=None),\n",
              "  'step': TensorSpec(shape=(64,), dtype=tf.float64, name=None),\n",
              "  'duration': TensorSpec(shape=(64,), dtype=tf.float64, name=None)})"
            ]
          },
          "execution_count": 46,
          "metadata": {},
          "output_type": "execute_result"
        }
      ],
      "source": [
        "train_ds.element_spec"
      ]
    },
    {
      "cell_type": "markdown",
      "metadata": {
        "id": "cWZmfkshqP8G"
      },
      "source": [
        "## Create the model"
      ]
    },
    {
      "cell_type": "markdown",
      "metadata": {
        "id": "iGQn32q-hdK2"
      },
      "source": [
        "The model will have three outputs, one for each note variable. For `step` and `duration`, use a loss function based on mean squared error that encourages the model to output non-negative values."
      ]
    },
    {
      "cell_type": "code",
      "execution_count": null,
      "metadata": {
        "execution": {
          "iopub.execute_input": "2023-10-27T05:49:35.910163Z",
          "iopub.status.busy": "2023-10-27T05:49:35.909617Z",
          "iopub.status.idle": "2023-10-27T05:49:35.913210Z",
          "shell.execute_reply": "2023-10-27T05:49:35.912637Z"
        },
        "id": "erxLOif08e8v"
      },
      "outputs": [],
      "source": [
        "def non_negative_mse(y_true: tf.Tensor, y_pred: tf.Tensor):\n",
        "  mse = (y_true - y_pred) ** 2\n",
        "  positive_pressure = 10 * tf.maximum(-y_pred, 0.0)\n",
        "  return tf.reduce_mean(mse + positive_pressure)"
      ]
    },
    {
      "cell_type": "code",
      "execution_count": null,
      "metadata": {
        "colab": {
          "base_uri": "https://localhost:8080/"
        },
        "execution": {
          "iopub.execute_input": "2023-10-27T05:49:35.916227Z",
          "iopub.status.busy": "2023-10-27T05:49:35.915840Z",
          "iopub.status.idle": "2023-10-27T05:49:36.321780Z",
          "shell.execute_reply": "2023-10-27T05:49:36.321133Z"
        },
        "id": "kNaVWcCzAm5V",
        "outputId": "c781c6a6-649f-4e7e-f7cd-81cdcd4e4ba7"
      },
      "outputs": [
        {
          "name": "stdout",
          "output_type": "stream",
          "text": [
            "Model: \"model\"\n",
            "__________________________________________________________________________________________________\n",
            " Layer (type)                Output Shape                 Param #   Connected to                  \n",
            "==================================================================================================\n",
            " input_1 (InputLayer)        [(None, 25, 3)]              0         []                            \n",
            "                                                                                                  \n",
            " lstm (LSTM)                 (None, 128)                  67584     ['input_1[0][0]']             \n",
            "                                                                                                  \n",
            " duration (Dense)            (None, 1)                    129       ['lstm[0][0]']                \n",
            "                                                                                                  \n",
            " pitch (Dense)               (None, 128)                  16512     ['lstm[0][0]']                \n",
            "                                                                                                  \n",
            " step (Dense)                (None, 1)                    129       ['lstm[0][0]']                \n",
            "                                                                                                  \n",
            "==================================================================================================\n",
            "Total params: 84354 (329.51 KB)\n",
            "Trainable params: 84354 (329.51 KB)\n",
            "Non-trainable params: 0 (0.00 Byte)\n",
            "__________________________________________________________________________________________________\n"
          ]
        }
      ],
      "source": [
        "input_shape = (seq_length, 3)\n",
        "learning_rate = 0.005\n",
        "\n",
        "inputs = tf.keras.Input(input_shape)\n",
        "x = tf.keras.layers.LSTM(128)(inputs)\n",
        "\n",
        "outputs = {\n",
        "  'pitch': tf.keras.layers.Dense(128, name='pitch')(x),\n",
        "  'step': tf.keras.layers.Dense(1, name='step')(x),\n",
        "  'duration': tf.keras.layers.Dense(1, name='duration')(x),\n",
        "}\n",
        "\n",
        "model = tf.keras.Model(inputs, outputs)\n",
        "\n",
        "loss = {\n",
        "      'pitch': tf.keras.losses.SparseCategoricalCrossentropy(\n",
        "          from_logits=True),\n",
        "      'step': non_negative_mse,\n",
        "      'duration': non_negative_mse,\n",
        "}\n",
        "\n",
        "optimizer = tf.keras.optimizers.Adam(learning_rate=learning_rate)\n",
        "\n",
        "model.compile(loss=loss, optimizer=optimizer)\n",
        "\n",
        "model.summary()"
      ]
    },
    {
      "cell_type": "markdown",
      "metadata": {
        "id": "VDL0Jypt3eU5"
      },
      "source": [
        "The `pitch` loss is significantly greater than the `step` and `duration` losses.\n",
        "One way balance this is to use the `loss_weights` argument to compile:"
      ]
    },
    {
      "cell_type": "code",
      "execution_count": null,
      "metadata": {
        "execution": {
          "iopub.execute_input": "2023-10-27T05:49:39.971964Z",
          "iopub.status.busy": "2023-10-27T05:49:39.971339Z",
          "iopub.status.idle": "2023-10-27T05:49:39.980154Z",
          "shell.execute_reply": "2023-10-27T05:49:39.979557Z"
        },
        "id": "9fQB5SiN3ufX"
      },
      "outputs": [],
      "source": [
        "model.compile(\n",
        "    loss=loss,\n",
        "    loss_weights={\n",
        "        'pitch': 0.05,\n",
        "        'step': 1.0,\n",
        "        'duration':1.0,\n",
        "    },\n",
        "    optimizer=optimizer,\n",
        ")"
      ]
    },
    {
      "cell_type": "markdown",
      "metadata": {
        "id": "nPMUnIMelHgR"
      },
      "source": [
        "The total `loss` then becomes the weighted sum of the individual losses."
      ]
    },
    {
      "cell_type": "code",
      "execution_count": null,
      "metadata": {
        "colab": {
          "base_uri": "https://localhost:8080/"
        },
        "execution": {
          "iopub.execute_input": "2023-10-27T05:49:39.983505Z",
          "iopub.status.busy": "2023-10-27T05:49:39.982993Z",
          "iopub.status.idle": "2023-10-27T05:49:41.529270Z",
          "shell.execute_reply": "2023-10-27T05:49:41.528538Z"
        },
        "id": "T7CzWmFR38ut",
        "outputId": "5f1e1a56-a062-4346-c290-1013775dd081"
      },
      "outputs": [
        {
          "name": "stdout",
          "output_type": "stream",
          "text": [
            "214/214 [==============================] - 2s 3ms/step - loss: 1.1704 - duration_loss: 0.7957 - pitch_loss: 4.8611 - step_loss: 0.1316\n"
          ]
        },
        {
          "data": {
            "text/plain": [
              "{'loss': 1.1704301834106445,\n",
              " 'duration_loss': 0.7957400679588318,\n",
              " 'pitch_loss': 4.861086368560791,\n",
              " 'step_loss': 0.13163532316684723}"
            ]
          },
          "execution_count": 40,
          "metadata": {},
          "output_type": "execute_result"
        }
      ],
      "source": [
        "model.evaluate(train_ds, return_dict=True)"
      ]
    },
    {
      "cell_type": "markdown",
      "metadata": {
        "id": "SJbn7HZgfosr"
      },
      "source": [
        "## Train the model"
      ]
    },
    {
      "cell_type": "code",
      "execution_count": null,
      "metadata": {
        "execution": {
          "iopub.execute_input": "2023-10-27T05:49:41.533240Z",
          "iopub.status.busy": "2023-10-27T05:49:41.532589Z",
          "iopub.status.idle": "2023-10-27T05:49:41.536815Z",
          "shell.execute_reply": "2023-10-27T05:49:41.536131Z"
        },
        "id": "uQA_rwKEgPjp"
      },
      "outputs": [],
      "source": [
        "callbacks = [\n",
        "    tf.keras.callbacks.ModelCheckpoint(\n",
        "        filepath='./training_checkpoints/ckpt_{epoch}',\n",
        "        save_weights_only=True),\n",
        "    tf.keras.callbacks.EarlyStopping(\n",
        "        monitor='loss',\n",
        "        patience=5,\n",
        "        verbose=1,\n",
        "        restore_best_weights=True),\n",
        "]"
      ]
    },
    {
      "cell_type": "code",
      "execution_count": null,
      "metadata": {
        "colab": {
          "base_uri": "https://localhost:8080/",
          "height": 453
        },
        "execution": {
          "iopub.execute_input": "2023-10-27T05:49:41.540069Z",
          "iopub.status.busy": "2023-10-27T05:49:41.539587Z",
          "iopub.status.idle": "2023-10-27T05:50:35.597977Z",
          "shell.execute_reply": "2023-10-27T05:50:35.597181Z"
        },
        "id": "aLoYY8-XaPFN",
        "outputId": "c4b0be51-a1f5-4dba-88df-380b36d7e953"
      },
      "outputs": [],
      "source": [
        "%%time\n",
        "epochs = 50\n",
        "\n",
        "history = model.fit(\n",
        "    train_ds,\n",
        "    epochs=epochs,\n",
        "    callbacks=callbacks,\n",
        ")"
      ]
    },
    {
      "cell_type": "code",
      "execution_count": null,
      "metadata": {
        "colab": {
          "base_uri": "https://localhost:8080/"
        },
        "id": "3xddocwY-tAL",
        "outputId": "2a2fb88c-7dff-4150-8eaa-25703662a96c"
      },
      "outputs": [],
      "source": [
        "model.save(\"music_generator.h5\")"
      ]
    },
    {
      "cell_type": "markdown",
      "metadata": {},
      "source": [
        "Plot the model loss over epochs"
      ]
    },
    {
      "cell_type": "code",
      "execution_count": null,
      "metadata": {
        "colab": {
          "base_uri": "https://localhost:8080/",
          "height": 430
        },
        "execution": {
          "iopub.execute_input": "2023-10-27T05:50:35.601477Z",
          "iopub.status.busy": "2023-10-27T05:50:35.600923Z",
          "iopub.status.idle": "2023-10-27T05:50:35.703594Z",
          "shell.execute_reply": "2023-10-27T05:50:35.703004Z"
        },
        "id": "PYBSjgDWiUfT",
        "outputId": "c26486d5-bc97-450a-bd27-42f2103e4d14"
      },
      "outputs": [
        {
          "data": {
            "image/png": "[encoded data removed]",
            "text/plain": [
              "<Figure size 640x480 with 1 Axes>"
            ]
          },
          "metadata": {},
          "output_type": "display_data"
        }
      ],
      "source": [
        "plt.plot(history.epoch, history.history['loss'], label='total loss')\n",
        "plt.show()"
      ]
    },
    {
      "cell_type": "code",
      "execution_count": null,
      "metadata": {
        "id": "Ql-14zDek5FJ"
      },
      "outputs": [],
      "source": [
        "import scipy.special\n",
        "\n",
        "# ASSUMPTIONS:\n",
        "# notes_sequence: numpy array of the sequence of notes so far\n",
        "# notes: numpy array of all 128 notes\n",
        "# -1 is sad, 1 is happy\n",
        "\n",
        "def emotion_classifier(notes_sequence, current_emotion):\n",
        "\n",
        "    notes_features = analyze_midi(notes_sequence)\n",
        "    notes_features = np.array([value for value in notes_features.values()])\n",
        "    notes_features = notes_features.reshape(1, -1)\n",
        "\n",
        "    kmeans_model.transform(notes_features)\n",
        "\n",
        "    # Calculate distances from centroids\n",
        "    distances = kmeans_model.transform(notes_features.reshape(1, -1))\n",
        "    softmax_distances = 1 - scipy.special.softmax(distances[0])\n",
        "    emotion = 1 if current_emotion == 1 else 0\n",
        "\n",
        "    # Find the index of the nearest cluster centroid\n",
        "    emotion_score = softmax_distances[emotion]\n",
        "\n",
        "    # Now we have the index of the nearest cluster centroid,\n",
        "    # Use it to classify the new point\n",
        "    print(\"Predicted score for the new point:\", emotion_score)\n",
        "\n",
        "    return emotion_score\n",
        "\n",
        "\n",
        "def pitch_logits_emotion_encloser(notes_sequence, pitches, pitch_logits, step, duration, label):\n",
        "\n",
        "    # To tune hyperparameters\n",
        "    alpha = 0.5\n",
        "    beta = 0.5\n",
        "\n",
        "    # Everything happens after the prediction of the net\n",
        "    # Now we vectorize and do computations to output pitch logits influenced by the emotion\n",
        "    vect_notes_sequence = np.array([notes_sequence] * 128)\n",
        "    vect_step = np.array([step] * 128)\n",
        "    vect_duration = np.array([duration] * 128)\n",
        "\n",
        "    pitches = np.expand_dims(pitches, axis=1)\n",
        "    vect_new_note = np.hstack((pitches, vect_step, vect_duration))\n",
        "    vect_new_note = vect_new_note.reshape((128,1,3))\n",
        "    vect_notes_sequence = np.hstack((vect_notes_sequence, vect_new_note))\n",
        "    emotion_score = emotion_classifier(vect_notes_sequence, label)\n",
        "\n",
        "    logits = alpha*pitch_logits + beta*emotion_score\n",
        "\n",
        "    return logits\n",
        "\n",
        "def step_emotion_encloser():\n",
        "\n",
        "    # Label is assumed 1 or -1 according to the emotion to tune hyperparameters\n",
        "    gamma_mean = 1.0\n",
        "    gamma_std = 0.1\n",
        "    gamma = abs(1-np.random.normal(gamma_mean, gamma_std, 1))\n",
        "    return gamma\n",
        "\n",
        "\n",
        "def duration_emotion_encloser():\n",
        "    \n",
        "    #label is assumed 1 or -1 according to the emotion to tune hyperparameters\n",
        "    delta_mean = 1.0\n",
        "    delta_std = 0.1\n",
        "    delta = abs(1-np.random.normal(delta_mean, delta_std, 1))\n",
        "    return delta\n",
        "\n"
      ]
    },
    {
      "cell_type": "markdown",
      "metadata": {},
      "source": [
        "# !!!! secondo me dovremmo spostare qui la registrazione dell'audio e del viso\n",
        "# facciamo due sezioni uno solo modello e uno per l'utilizzo"
      ]
    },
    {
      "cell_type": "markdown",
      "metadata": {
        "id": "aPWI94lQ8uQA"
      },
      "source": [
        "## Generate notes"
      ]
    },
    {
      "cell_type": "markdown",
      "metadata": {
        "id": "Wbaoiy4Hf-n5"
      },
      "source": [
        "To use the model to generate notes, first we provide a starting sequence of notes.\n",
        "\n",
        "The `temperature` parameter is used to control the randomness of notes generated."
      ]
    },
    {
      "cell_type": "markdown",
      "metadata": {},
      "source": [
        "!!! andre qui devi mettere la spiegazione della scelta della nota"
      ]
    },
    {
      "cell_type": "code",
      "execution_count": null,
      "metadata": {
        "execution": {
          "iopub.execute_input": "2023-10-27T05:50:35.709746Z",
          "iopub.status.busy": "2023-10-27T05:50:35.709360Z",
          "iopub.status.idle": "2023-10-27T05:50:35.714724Z",
          "shell.execute_reply": "2023-10-27T05:50:35.714131Z"
        },
        "id": "1mil8ZyJNe1w"
      },
      "outputs": [],
      "source": [
        "def predict_next_note(\n",
        "    pitches: np.ndarray,\n",
        "    notes: np.ndarray,\n",
        "    model: tf.keras.Model,\n",
        "    temperature: float = 1.0) -> tuple[int, float, float]:\n",
        "  \n",
        "  # Generates a note as a tuple of (pitch, step, duration), using a trained sequence model\n",
        "\n",
        "  assert temperature > 0\n",
        "\n",
        "  # Add batch dimension\n",
        "  inputs = tf.expand_dims(notes, 0)\n",
        "\n",
        "\n",
        "  predictions = model.predict(inputs)\n",
        "  pitch_logits = predictions['pitch']\n",
        "  step = predictions['step']\n",
        "  duration = predictions['duration']\n",
        "  pitch_logits = pitch_logits_emotion_encloser(notes, pitches, pitch_logits, step, duration, label)\n",
        "  pitch_logits /= temperature\n",
        "  pitch = tf.random.categorical(pitch_logits, num_samples=1)\n",
        "  pitch = tf.squeeze(pitch, axis=-1)\n",
        "  duration = tf.squeeze(duration, axis=-1)\n",
        "  step = tf.squeeze(step, axis=-1)\n",
        "\n",
        "  # `step` and `duration` values should be non-negative\n",
        "  step = tf.maximum(0, step)\n",
        "  duration = tf.maximum(0, duration)\n",
        "\n",
        "  return int(pitch), float(step), float(duration)"
      ]
    },
    {
      "cell_type": "markdown",
      "metadata": {
        "id": "W64K-EX3hxU_"
      },
      "source": [
        "Now generate some notes."
      ]
    },
    {
      "cell_type": "code",
      "execution_count": null,
      "metadata": {
        "colab": {
          "base_uri": "https://localhost:8080/"
        },
        "execution": {
          "iopub.execute_input": "2023-10-27T05:50:35.720463Z",
          "iopub.status.busy": "2023-10-27T05:50:35.720078Z",
          "iopub.status.idle": "2023-10-27T05:50:46.044919Z",
          "shell.execute_reply": "2023-10-27T05:50:46.044150Z"
        },
        "id": "87fPl4auPdR3",
        "outputId": "b37420be-ff4a-4ce6-c92a-cf8e7fee6bd1"
      },
      "outputs": [],
      "source": [
        "from keras.models import load_model\n",
        "\n",
        "temperature = 2.0\n",
        "num_predictions = 120\n",
        "\n",
        "model = load_model('music_generator.h5', custom_objects={'non_negative_mse': non_negative_mse})\n",
        "sample_notes = np.stack([raw_notes[key] for key in key_order], axis=1)\n",
        "\n",
        "\n",
        "# The initial sequence of notes; pitch is normalized similar to training\n",
        "# sequences\n",
        "input_notes = (\n",
        "    sample_notes[:seq_length] / np.array([vocab_size, 1, 1]))\n",
        "generated_notes = []\n",
        "prev_start = 0\n",
        "pitches = np.arange(128)\n",
        "pitches = np.expand_dims(pitches, axis=1)\n",
        "gamma = step_emotion_encloser()\n",
        "delta = duration_emotion_encloser()\n",
        "\n",
        "for _ in range(num_predictions):\n",
        "  pitch, step, duration = predict_next_note(pitches,input_notes, model, temperature)\n",
        "  start = prev_start + step\n",
        "  end = start + duration\n",
        "  step = float(step * (1- label * gamma))\n",
        "  duration = float(duration * (1- label * delta))\n",
        "  input_note = (pitch, step, duration)\n",
        "  generated_notes.append((*input_note, start, end))\n",
        "  input_notes = np.delete(input_notes, 0, axis=0)\n",
        "  input_notes = np.append(input_notes, np.expand_dims(input_note, 0), axis=0)\n",
        "  prev_start = start\n",
        "\n",
        "generated_notes = pd.DataFrame(\n",
        "    generated_notes, columns=(*key_order, 'start', 'end'))"
      ]
    },
    {
      "cell_type": "code",
      "execution_count": null,
      "metadata": {
        "colab": {
          "base_uri": "https://localhost:8080/",
          "height": 53
        },
        "execution": {
          "iopub.execute_input": "2023-10-27T05:50:46.048657Z",
          "iopub.status.busy": "2023-10-27T05:50:46.047932Z",
          "iopub.status.idle": "2023-10-27T05:50:46.057577Z",
          "shell.execute_reply": "2023-10-27T05:50:46.056888Z"
        },
        "id": "0MK7HmqLuqka",
        "outputId": "cd31367e-cabc-44d5-ed82-f9719c988541"
      },
      "outputs": [],
      "source": [
        "generated_notes.head(10) # sad(0.6, 2.0) happy(0.4, 1.5)"
      ]
    },
    {
      "cell_type": "code",
      "execution_count": null,
      "metadata": {
        "colab": {
          "base_uri": "https://localhost:8080/",
          "height": 351
        },
        "execution": {
          "iopub.execute_input": "2023-10-27T05:50:46.061009Z",
          "iopub.status.busy": "2023-10-27T05:50:46.060481Z",
          "iopub.status.idle": "2023-10-27T05:50:46.477060Z",
          "shell.execute_reply": "2023-10-27T05:50:46.476278Z"
        },
        "id": "e9K9KHPaTNnK",
        "outputId": "1b465698-5f6c-4c3e-d0bb-5cc461c8bb5c"
      },
      "outputs": [],
      "source": [
        "out_file = 'output.mid'\n",
        "out_pm = notes_to_midi(\n",
        "    generated_notes, out_file=out_file, instrument_name=instrument_name)\n",
        "display_audio(out_pm)"
      ]
    },
    {
      "cell_type": "markdown",
      "metadata": {
        "id": "trp82gTqskPR"
      },
      "source": [
        "Visualize the generated notes."
      ]
    },
    {
      "cell_type": "code",
      "execution_count": null,
      "metadata": {
        "colab": {
          "base_uri": "https://localhost:8080/",
          "height": 337
        },
        "execution": {
          "iopub.execute_input": "2023-10-27T05:50:46.497523Z",
          "iopub.status.busy": "2023-10-27T05:50:46.497000Z",
          "iopub.status.idle": "2023-10-27T05:50:46.945606Z",
          "shell.execute_reply": "2023-10-27T05:50:46.944950Z"
        },
        "id": "NlNsxcnhvbcK",
        "outputId": "af4cefc4-6f46-4860-adbb-cf52015638f9"
      },
      "outputs": [],
      "source": [
        "plot_piano_roll(generated_notes)"
      ]
    },
    {
      "cell_type": "markdown",
      "metadata": {
        "id": "p5_yA9lvvitC"
      },
      "source": [
        "Check the distributions of `pitch`, `step` and `duration`."
      ]
    },
    {
      "cell_type": "code",
      "execution_count": null,
      "metadata": {
        "execution": {
          "iopub.execute_input": "2023-10-27T05:50:46.949427Z",
          "iopub.status.busy": "2023-10-27T05:50:46.948787Z",
          "iopub.status.idle": "2023-10-27T05:50:47.393275Z",
          "shell.execute_reply": "2023-10-27T05:50:47.392629Z"
        },
        "id": "j5bco2WVRkAa",
        "outputId": "b2c4771d-cf0a-4331-9bc1-855a2743aeb2"
      },
      "outputs": [],
      "source": [
        "plot_distributions(generated_notes)"
      ]
    }
  ],
  "metadata": {
    "accelerator": "GPU",
    "colab": {
      "provenance": []
    },
    "kernelspec": {
      "display_name": "Python 3",
      "name": "python3"
    },
    "language_info": {
      "codemirror_mode": {
        "name": "ipython",
        "version": 3
      },
      "file_extension": ".py",
      "mimetype": "text/x-python",
      "name": "python",
      "nbconvert_exporter": "python",
      "pygments_lexer": "ipython3",
      "version": "3.11.7"
    }
  },
  "nbformat": 4,
  "nbformat_minor": 0
}
