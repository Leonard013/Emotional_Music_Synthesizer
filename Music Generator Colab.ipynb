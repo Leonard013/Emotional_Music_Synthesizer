{
  "cells": [
    {
      "cell_type": "markdown",
      "metadata": {
        "id": "0DH9bjZD_Cfi"
      },
      "source": [
        "##### Copyright 2021 The TensorFlow Authors."
      ]
    },
    {
      "cell_type": "code",
      "execution_count": null,
      "metadata": {
        "cellView": "form",
        "execution": {
          "iopub.execute_input": "2023-10-27T05:48:48.384796Z",
          "iopub.status.busy": "2023-10-27T05:48:48.384229Z",
          "iopub.status.idle": "2023-10-27T05:48:48.387846Z",
          "shell.execute_reply": "2023-10-27T05:48:48.387284Z"
        },
        "id": "JO1GUwC1_T2x"
      },
      "outputs": [],
      "source": [
        "#@title Licensed under the Apache License, Version 2.0 (the \"License\");\n",
        "# you may not use this file except in compliance with the License.\n",
        "# You may obtain a copy of the License at\n",
        "#\n",
        "# https://www.apache.org/licenses/LICENSE-2.0\n",
        "#\n",
        "# Unless required by applicable law or agreed to in writing, software\n",
        "# distributed under the License is distributed on an \"AS IS\" BASIS,\n",
        "# WITHOUT WARRANTIES OR CONDITIONS OF ANY KIND, either express or implied.\n",
        "# See the License for the specific language governing permissions and\n",
        "# limitations under the License."
      ]
    },
    {
      "cell_type": "markdown",
      "metadata": {
        "id": "M4xOsFiu-1-c"
      },
      "source": [
        "# Generate music with an RNN"
      ]
    },
    {
      "cell_type": "markdown",
      "metadata": {
        "id": "OyzAxV7Vu_9Y"
      },
      "source": [
        "<table class=\"tfo-notebook-buttons\" align=\"left\">\n",
        "  <td>\n",
        "    <a target=\"_blank\" href=\"https://www.tensorflow.org/tutorials/audio/music_generation\"><img src=\"https://www.tensorflow.org/images/tf_logo_32px.png\" />View on TensorFlow.org</a>\n",
        "  </td>\n",
        "  <td>\n",
        "    <a target=\"_blank\" href=\"https://colab.research.google.com/github/tensorflow/docs/blob/master/site/en/tutorials/audio/music_generation.ipynb\"><img src=\"https://www.tensorflow.org/images/colab_logo_32px.png\" />Run in Google Colab</a>\n",
        "  </td>\n",
        "  <td>\n",
        "    <a target=\"_blank\" href=\"https://github.com/tensorflow/docs/blob/master/site/en/tutorials/audio/music_generation.ipynb\"><img src=\"https://www.tensorflow.org/images/GitHub-Mark-32px.png\" />View source on GitHub</a>\n",
        "  </td>\n",
        "  <td>\n",
        "    <a href=\"https://storage.googleapis.com/tensorflow_docs/docs/site/en/tutorials/audio/music_generation.ipynb\"><img src=\"https://www.tensorflow.org/images/download_logo_32px.png\" />Download notebook</a>\n",
        "  </td>\n",
        "</table>"
      ]
    },
    {
      "cell_type": "markdown",
      "metadata": {
        "id": "hr78EkAY-FFg"
      },
      "source": [
        "This tutorial shows you how to generate musical notes using a simple recurrent neural network (RNN). You will train a model using a collection of piano MIDI files from the [MAESTRO dataset](https://magenta.tensorflow.org/datasets/maestro). Given a sequence of notes, your model will learn to predict the next note in the sequence. You can generate longer sequences of notes by calling the model repeatedly.\n",
        "\n",
        "This tutorial contains complete code to parse and create MIDI files. You can learn more about how RNNs work by visiting the [Text generation with an RNN](https://www.tensorflow.org/text/tutorials/text_generation) tutorial."
      ]
    },
    {
      "cell_type": "markdown",
      "source": [],
      "metadata": {
        "id": "15F7magho2mr"
      }
    },
    {
      "cell_type": "markdown",
      "metadata": {
        "id": "gVRtQvOG2ZKN"
      },
      "source": [
        "## Record Voice"
      ]
    },
    {
      "cell_type": "code",
      "execution_count": 1,
      "metadata": {
        "id": "-p33NTHx2ZKN"
      },
      "outputs": [],
      "source": [
        "from IPython.display import Javascript\n",
        "from google.colab import output\n",
        "from base64 import b64decode\n",
        "from io import BytesIO\n",
        "!pip -q install pydub\n",
        "from pydub import AudioSegment\n",
        "\n",
        "RECORD = \"\"\"\n",
        "const sleep  = time => new Promise(resolve => setTimeout(resolve, time))\n",
        "const b2text = blob => new Promise(resolve => {\n",
        "  const reader = new FileReader()\n",
        "  reader.onloadend = e => resolve(e.srcElement.result)\n",
        "  reader.readAsDataURL(blob)\n",
        "})\n",
        "var record = time => new Promise(async resolve => {\n",
        "  stream = await navigator.mediaDevices.getUserMedia({ audio: true })\n",
        "  recorder = new MediaRecorder(stream)\n",
        "  chunks = []\n",
        "  recorder.ondataavailable = e => chunks.push(e.data)\n",
        "  recorder.start()\n",
        "  await sleep(time)\n",
        "  recorder.onstop = async ()=>{\n",
        "    blob = new Blob(chunks)\n",
        "    text = await b2text(blob)\n",
        "    resolve(text)\n",
        "  }\n",
        "  recorder.stop()\n",
        "})\n",
        "\"\"\"\n",
        "\n",
        "def record(sec=10): # change here the duration of the recording\n",
        "  display(Javascript(RECORD))\n",
        "  s = output.eval_js('record(%d)' % (sec*1000))\n",
        "  b = b64decode(s.split(',')[1])\n",
        "  audio = AudioSegment.from_file(BytesIO(b)) # remove this line if you want to save the audio without playing it\n",
        "  with open('voice.wav','wb') as f:\n",
        "    f.write(b)\n",
        "  return audio"
      ]
    },
    {
      "cell_type": "code",
      "execution_count": 2,
      "metadata": {
        "colab": {
          "base_uri": "https://localhost:8080/",
<<<<<<< Updated upstream
          "height": 378
        },
        "id": "oEbQ-LXL2ZKO",
        "outputId": "dcddc3fc-ec1a-457c-c7b8-e364a8e4f484"
      },
      "outputs": [
        {
          "ename": "ModuleNotFoundError",
          "evalue": "No module named 'sounddevice'",
          "output_type": "error",
          "traceback": [
            "\u001b[0;31m---------------------------------------------------------------------------\u001b[0m",
            "\u001b[0;31mModuleNotFoundError\u001b[0m                       Traceback (most recent call last)",
            "\u001b[0;32m<ipython-input-2-ed50ea560293>\u001b[0m in \u001b[0;36m<cell line: 1>\u001b[0;34m()\u001b[0m\n\u001b[0;32m----> 1\u001b[0;31m \u001b[0;32mimport\u001b[0m \u001b[0msounddevice\u001b[0m \u001b[0;32mas\u001b[0m \u001b[0msd\u001b[0m\u001b[0;34m\u001b[0m\u001b[0;34m\u001b[0m\u001b[0m\n\u001b[0m\u001b[1;32m      2\u001b[0m \u001b[0;32mfrom\u001b[0m \u001b[0mscipy\u001b[0m\u001b[0;34m.\u001b[0m\u001b[0mio\u001b[0m\u001b[0;34m.\u001b[0m\u001b[0mwavfile\u001b[0m \u001b[0;32mimport\u001b[0m \u001b[0mwrite\u001b[0m\u001b[0;34m\u001b[0m\u001b[0;34m\u001b[0m\u001b[0m\n\u001b[1;32m      3\u001b[0m \u001b[0;34m\u001b[0m\u001b[0m\n\u001b[1;32m      4\u001b[0m \u001b[0;31m# Parameters\u001b[0m\u001b[0;34m\u001b[0m\u001b[0;34m\u001b[0m\u001b[0m\n\u001b[1;32m      5\u001b[0m \u001b[0mfs\u001b[0m \u001b[0;34m=\u001b[0m \u001b[0;36m44100\u001b[0m  \u001b[0;31m# Sample rate\u001b[0m\u001b[0;34m\u001b[0m\u001b[0;34m\u001b[0m\u001b[0m\n",
            "\u001b[0;31mModuleNotFoundError\u001b[0m: No module named 'sounddevice'",
            "",
            "\u001b[0;31m---------------------------------------------------------------------------\u001b[0;32m\nNOTE: If your import is failing due to a missing package, you can\nmanually install dependencies using either !pip or !apt.\n\nTo view examples of installing some common dependencies, click the\n\"Open Examples\" button below.\n\u001b[0;31m---------------------------------------------------------------------------\u001b[0m\n"
          ]
        }
      ],
      "source": [
        "import sounddevice as sd\n",
        "from scipy.io.wavfile import write\n",
        "\n",
        "# Parameters\n",
        "fs = 44100  # Sample rate\n",
        "seconds = 10  # Duration of recording\n",
        "filename = 'output.wav'  # Output filename\n",
        "\n",
        "print(\"Recording...\")\n",
        "recording = sd.rec(int(seconds * fs), samplerate=fs, channels=2, dtype='int16')\n",
        "sd.wait()  # Wait until recording is finished\n",
        "print(\"Finished recording.\")\n",
        "\n",
        "write(filename, fs, recording)  # Save as WAV file"
      ]
    },
    {
      "cell_type": "code",
      "execution_count": 3,
      "metadata": {
        "colab": {
          "base_uri": "https://localhost:8080/",
=======
>>>>>>> Stashed changes
          "height": 52
        },
        "id": "7GX1JHOE2ZKP",
        "outputId": "0bc0dde2-7916-44e7-da51-84c101cf3493"
      },
      "outputs": [
        {
          "data": {
            "application/javascript": "\nconst sleep  = time => new Promise(resolve => setTimeout(resolve, time))\nconst b2text = blob => new Promise(resolve => {\n  const reader = new FileReader()\n  reader.onloadend = e => resolve(e.srcElement.result)\n  reader.readAsDataURL(blob)\n})\nvar record = time => new Promise(async resolve => {\n  stream = await navigator.mediaDevices.getUserMedia({ audio: true })\n  recorder = new MediaRecorder(stream)\n  chunks = []\n  recorder.ondataavailable = e => chunks.push(e.data)\n  recorder.start()\n  await sleep(time)\n  recorder.onstop = async ()=>{\n    blob = new Blob(chunks)\n    text = await b2text(blob)\n    resolve(text)\n  }\n  recorder.stop()\n})\n",
            "text/plain": [
              "<IPython.core.display.Javascript object>"
            ]
          },
          "metadata": {},
          "output_type": "display_data"
        },
        {
          "data": {
<<<<<<< Updated upstream
=======
            "text/plain": [
              "<pydub.audio_segment.AudioSegment at 0x7f24a19e9f30>"
            ],
>>>>>>> Stashed changes
            "text/html": [
              "\n",
              "                    <audio controls>\n",
              "                        <source src=\"data:audio/mpeg;base64,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\" type=\"audio/mpeg\"/>\n",
              "                        Your browser does not support the audio element.\n",
              "                    </audio>\n",
              "                  "
            ],
            "text/plain": [
              "<pydub.audio_segment.AudioSegment at 0x7cec60c04ca0>"
            ]
          },
          "execution_count": 3,
          "metadata": {},
<<<<<<< Updated upstream
          "output_type": "execute_result"
=======
          "execution_count": 2
>>>>>>> Stashed changes
        }
      ],
      "source": [
        "record()"
      ]
    },
    {
      "cell_type": "markdown",
      "metadata": {
        "id": "pFsjcJxJ2ZKP"
      },
      "source": [
        "Modify the paths:\n",
        "1) Where to save the midi file\n",
        "2) The file to convert"
      ]
    },
    {
      "cell_type": "markdown",
      "metadata": {
        "id": "4ZniYb7Y_0Ey"
      },
      "source": [
        "## Setup"
      ]
    },
    {
      "cell_type": "code",
      "execution_count": 3,
      "metadata": {
        "id": "BdmQEu6R2ZKP",
        "colab": {
          "base_uri": "https://localhost:8080/"
        },
        "outputId": "335c636a-be6b-46d2-96da-549aff0a6824"
      },
      "outputs": [
        {
          "name": "stdout",
          "output_type": "stream",
          "text": [
            "Collecting basic-pitch\n",
            "  Downloading basic_pitch-0.2.6-py2.py3-none-any.whl (373 kB)\n",
            "\u001b[?25l     \u001b[90m━━━━━━━━━━━━━━━━━━━━━━━━━━━━━━━━━━━━━━━━\u001b[0m \u001b[32m0.0/373.5 kB\u001b[0m \u001b[31m?\u001b[0m eta \u001b[36m-:--:--\u001b[0m\r\u001b[2K     \u001b[91m━━━━━━━━━━━━━━━━━━━━━━━━━━━━━\u001b[0m\u001b[91m╸\u001b[0m\u001b[90m━━━━━━━━━━\u001b[0m \u001b[32m276.5/373.5 kB\u001b[0m \u001b[31m8.1 MB/s\u001b[0m eta \u001b[36m0:00:01\u001b[0m\r\u001b[2K     \u001b[90m━━━━━━━━━━━━━━━━━━━━━━━━━━━━━━━━━━━━━━━━\u001b[0m \u001b[32m373.5/373.5 kB\u001b[0m \u001b[31m7.5 MB/s\u001b[0m eta \u001b[36m0:00:00\u001b[0m\n",
            "\u001b[?25hRequirement already satisfied: librosa>=0.8.0 in /usr/local/lib/python3.10/dist-packages (from basic-pitch) (0.10.1)\n",
            "Collecting mir-eval>=0.6 (from basic-pitch)\n",
            "  Downloading mir_eval-0.7.tar.gz (90 kB)\n",
            "\u001b[2K     \u001b[90m━━━━━━━━━━━━━━━━━━━━━━━━━━━━━━━━━━━━━━━━\u001b[0m \u001b[32m90.7/90.7 kB\u001b[0m \u001b[31m11.9 MB/s\u001b[0m eta \u001b[36m0:00:00\u001b[0m\n",
            "\u001b[?25h  Preparing metadata (setup.py) ... \u001b[?25l\u001b[?25hdone\n",
            "Requirement already satisfied: numpy<1.24,>=1.18 in /usr/local/lib/python3.10/dist-packages (from basic-pitch) (1.23.5)\n",
            "Collecting pretty-midi>=0.2.9 (from basic-pitch)\n",
            "  Downloading pretty_midi-0.2.10.tar.gz (5.6 MB)\n",
            "\u001b[2K     \u001b[90m━━━━━━━━━━━━━━━━━━━━━━━━━━━━━━━━━━━━━━━━\u001b[0m \u001b[32m5.6/5.6 MB\u001b[0m \u001b[31m25.1 MB/s\u001b[0m eta \u001b[36m0:00:00\u001b[0m\n",
            "\u001b[?25h  Preparing metadata (setup.py) ... \u001b[?25l\u001b[?25hdone\n",
            "Collecting resampy>=0.2.2 (from basic-pitch)\n",
            "  Downloading resampy-0.4.2-py3-none-any.whl (3.1 MB)\n",
            "\u001b[2K     \u001b[90m━━━━━━━━━━━━━━━━━━━━━━━━━━━━━━━━━━━━━━━━\u001b[0m \u001b[32m3.1/3.1 MB\u001b[0m \u001b[31m46.6 MB/s\u001b[0m eta \u001b[36m0:00:00\u001b[0m\n",
            "\u001b[?25hRequirement already satisfied: scipy>=1.4.1 in /usr/local/lib/python3.10/dist-packages (from basic-pitch) (1.11.4)\n",
            "Requirement already satisfied: typing-extensions in /usr/local/lib/python3.10/dist-packages (from basic-pitch) (4.9.0)\n",
            "Requirement already satisfied: tensorflow>=2.4.1 in /usr/local/lib/python3.10/dist-packages (from basic-pitch) (2.15.0)\n",
            "Requirement already satisfied: audioread>=2.1.9 in /usr/local/lib/python3.10/dist-packages (from librosa>=0.8.0->basic-pitch) (3.0.1)\n",
            "Requirement already satisfied: scikit-learn>=0.20.0 in /usr/local/lib/python3.10/dist-packages (from librosa>=0.8.0->basic-pitch) (1.2.2)\n",
            "Requirement already satisfied: joblib>=0.14 in /usr/local/lib/python3.10/dist-packages (from librosa>=0.8.0->basic-pitch) (1.3.2)\n",
            "Requirement already satisfied: decorator>=4.3.0 in /usr/local/lib/python3.10/dist-packages (from librosa>=0.8.0->basic-pitch) (4.4.2)\n",
            "Requirement already satisfied: numba>=0.51.0 in /usr/local/lib/python3.10/dist-packages (from librosa>=0.8.0->basic-pitch) (0.58.1)\n",
            "Requirement already satisfied: soundfile>=0.12.1 in /usr/local/lib/python3.10/dist-packages (from librosa>=0.8.0->basic-pitch) (0.12.1)\n",
            "Requirement already satisfied: pooch>=1.0 in /usr/local/lib/python3.10/dist-packages (from librosa>=0.8.0->basic-pitch) (1.8.0)\n",
            "Requirement already satisfied: soxr>=0.3.2 in /usr/local/lib/python3.10/dist-packages (from librosa>=0.8.0->basic-pitch) (0.3.7)\n",
            "Requirement already satisfied: lazy-loader>=0.1 in /usr/local/lib/python3.10/dist-packages (from librosa>=0.8.0->basic-pitch) (0.3)\n",
            "Requirement already satisfied: msgpack>=1.0 in /usr/local/lib/python3.10/dist-packages (from librosa>=0.8.0->basic-pitch) (1.0.7)\n",
            "Requirement already satisfied: future in /usr/local/lib/python3.10/dist-packages (from mir-eval>=0.6->basic-pitch) (0.18.3)\n",
            "Requirement already satisfied: six in /usr/local/lib/python3.10/dist-packages (from mir-eval>=0.6->basic-pitch) (1.16.0)\n",
            "Collecting mido>=1.1.16 (from pretty-midi>=0.2.9->basic-pitch)\n",
            "  Downloading mido-1.3.2-py3-none-any.whl (54 kB)\n",
            "\u001b[2K     \u001b[90m━━━━━━━━━━━━━━━━━━━━━━━━━━━━━━━━━━━━━━━━\u001b[0m \u001b[32m54.6/54.6 kB\u001b[0m \u001b[31m8.8 MB/s\u001b[0m eta \u001b[36m0:00:00\u001b[0m\n",
            "\u001b[?25hRequirement already satisfied: absl-py>=1.0.0 in /usr/local/lib/python3.10/dist-packages (from tensorflow>=2.4.1->basic-pitch) (1.4.0)\n",
            "Requirement already satisfied: astunparse>=1.6.0 in /usr/local/lib/python3.10/dist-packages (from tensorflow>=2.4.1->basic-pitch) (1.6.3)\n",
            "Requirement already satisfied: flatbuffers>=23.5.26 in /usr/local/lib/python3.10/dist-packages (from tensorflow>=2.4.1->basic-pitch) (23.5.26)\n",
            "Requirement already satisfied: gast!=0.5.0,!=0.5.1,!=0.5.2,>=0.2.1 in /usr/local/lib/python3.10/dist-packages (from tensorflow>=2.4.1->basic-pitch) (0.5.4)\n",
            "Requirement already satisfied: google-pasta>=0.1.1 in /usr/local/lib/python3.10/dist-packages (from tensorflow>=2.4.1->basic-pitch) (0.2.0)\n",
            "Requirement already satisfied: h5py>=2.9.0 in /usr/local/lib/python3.10/dist-packages (from tensorflow>=2.4.1->basic-pitch) (3.9.0)\n",
            "Requirement already satisfied: libclang>=13.0.0 in /usr/local/lib/python3.10/dist-packages (from tensorflow>=2.4.1->basic-pitch) (16.0.6)\n",
            "Requirement already satisfied: ml-dtypes~=0.2.0 in /usr/local/lib/python3.10/dist-packages (from tensorflow>=2.4.1->basic-pitch) (0.2.0)\n",
            "Requirement already satisfied: opt-einsum>=2.3.2 in /usr/local/lib/python3.10/dist-packages (from tensorflow>=2.4.1->basic-pitch) (3.3.0)\n",
            "Requirement already satisfied: packaging in /usr/local/lib/python3.10/dist-packages (from tensorflow>=2.4.1->basic-pitch) (23.2)\n",
            "Requirement already satisfied: protobuf!=4.21.0,!=4.21.1,!=4.21.2,!=4.21.3,!=4.21.4,!=4.21.5,<5.0.0dev,>=3.20.3 in /usr/local/lib/python3.10/dist-packages (from tensorflow>=2.4.1->basic-pitch) (3.20.3)\n",
            "Requirement already satisfied: setuptools in /usr/local/lib/python3.10/dist-packages (from tensorflow>=2.4.1->basic-pitch) (67.7.2)\n",
            "Requirement already satisfied: termcolor>=1.1.0 in /usr/local/lib/python3.10/dist-packages (from tensorflow>=2.4.1->basic-pitch) (2.4.0)\n",
            "Requirement already satisfied: wrapt<1.15,>=1.11.0 in /usr/local/lib/python3.10/dist-packages (from tensorflow>=2.4.1->basic-pitch) (1.14.1)\n",
            "Requirement already satisfied: tensorflow-io-gcs-filesystem>=0.23.1 in /usr/local/lib/python3.10/dist-packages (from tensorflow>=2.4.1->basic-pitch) (0.35.0)\n",
            "Requirement already satisfied: grpcio<2.0,>=1.24.3 in /usr/local/lib/python3.10/dist-packages (from tensorflow>=2.4.1->basic-pitch) (1.60.1)\n",
            "Requirement already satisfied: tensorboard<2.16,>=2.15 in /usr/local/lib/python3.10/dist-packages (from tensorflow>=2.4.1->basic-pitch) (2.15.1)\n",
            "Requirement already satisfied: tensorflow-estimator<2.16,>=2.15.0 in /usr/local/lib/python3.10/dist-packages (from tensorflow>=2.4.1->basic-pitch) (2.15.0)\n",
            "Requirement already satisfied: keras<2.16,>=2.15.0 in /usr/local/lib/python3.10/dist-packages (from tensorflow>=2.4.1->basic-pitch) (2.15.0)\n",
            "Requirement already satisfied: wheel<1.0,>=0.23.0 in /usr/local/lib/python3.10/dist-packages (from astunparse>=1.6.0->tensorflow>=2.4.1->basic-pitch) (0.42.0)\n",
            "Requirement already satisfied: llvmlite<0.42,>=0.41.0dev0 in /usr/local/lib/python3.10/dist-packages (from numba>=0.51.0->librosa>=0.8.0->basic-pitch) (0.41.1)\n",
            "Requirement already satisfied: platformdirs>=2.5.0 in /usr/local/lib/python3.10/dist-packages (from pooch>=1.0->librosa>=0.8.0->basic-pitch) (4.2.0)\n",
            "Requirement already satisfied: requests>=2.19.0 in /usr/local/lib/python3.10/dist-packages (from pooch>=1.0->librosa>=0.8.0->basic-pitch) (2.31.0)\n",
            "Requirement already satisfied: threadpoolctl>=2.0.0 in /usr/local/lib/python3.10/dist-packages (from scikit-learn>=0.20.0->librosa>=0.8.0->basic-pitch) (3.2.0)\n",
            "Requirement already satisfied: cffi>=1.0 in /usr/local/lib/python3.10/dist-packages (from soundfile>=0.12.1->librosa>=0.8.0->basic-pitch) (1.16.0)\n",
            "Requirement already satisfied: google-auth<3,>=1.6.3 in /usr/local/lib/python3.10/dist-packages (from tensorboard<2.16,>=2.15->tensorflow>=2.4.1->basic-pitch) (2.17.3)\n",
            "Requirement already satisfied: google-auth-oauthlib<2,>=0.5 in /usr/local/lib/python3.10/dist-packages (from tensorboard<2.16,>=2.15->tensorflow>=2.4.1->basic-pitch) (1.2.0)\n",
            "Requirement already satisfied: markdown>=2.6.8 in /usr/local/lib/python3.10/dist-packages (from tensorboard<2.16,>=2.15->tensorflow>=2.4.1->basic-pitch) (3.5.2)\n",
            "Requirement already satisfied: tensorboard-data-server<0.8.0,>=0.7.0 in /usr/local/lib/python3.10/dist-packages (from tensorboard<2.16,>=2.15->tensorflow>=2.4.1->basic-pitch) (0.7.2)\n",
            "Requirement already satisfied: werkzeug>=1.0.1 in /usr/local/lib/python3.10/dist-packages (from tensorboard<2.16,>=2.15->tensorflow>=2.4.1->basic-pitch) (3.0.1)\n",
            "Requirement already satisfied: pycparser in /usr/local/lib/python3.10/dist-packages (from cffi>=1.0->soundfile>=0.12.1->librosa>=0.8.0->basic-pitch) (2.21)\n",
            "Requirement already satisfied: cachetools<6.0,>=2.0.0 in /usr/local/lib/python3.10/dist-packages (from google-auth<3,>=1.6.3->tensorboard<2.16,>=2.15->tensorflow>=2.4.1->basic-pitch) (5.3.2)\n",
            "Requirement already satisfied: pyasn1-modules>=0.2.1 in /usr/local/lib/python3.10/dist-packages (from google-auth<3,>=1.6.3->tensorboard<2.16,>=2.15->tensorflow>=2.4.1->basic-pitch) (0.3.0)\n",
            "Requirement already satisfied: rsa<5,>=3.1.4 in /usr/local/lib/python3.10/dist-packages (from google-auth<3,>=1.6.3->tensorboard<2.16,>=2.15->tensorflow>=2.4.1->basic-pitch) (4.9)\n",
            "Requirement already satisfied: requests-oauthlib>=0.7.0 in /usr/local/lib/python3.10/dist-packages (from google-auth-oauthlib<2,>=0.5->tensorboard<2.16,>=2.15->tensorflow>=2.4.1->basic-pitch) (1.3.1)\n",
            "Requirement already satisfied: charset-normalizer<4,>=2 in /usr/local/lib/python3.10/dist-packages (from requests>=2.19.0->pooch>=1.0->librosa>=0.8.0->basic-pitch) (3.3.2)\n",
            "Requirement already satisfied: idna<4,>=2.5 in /usr/local/lib/python3.10/dist-packages (from requests>=2.19.0->pooch>=1.0->librosa>=0.8.0->basic-pitch) (3.6)\n",
            "Requirement already satisfied: urllib3<3,>=1.21.1 in /usr/local/lib/python3.10/dist-packages (from requests>=2.19.0->pooch>=1.0->librosa>=0.8.0->basic-pitch) (2.0.7)\n",
            "Requirement already satisfied: certifi>=2017.4.17 in /usr/local/lib/python3.10/dist-packages (from requests>=2.19.0->pooch>=1.0->librosa>=0.8.0->basic-pitch) (2024.2.2)\n",
            "Requirement already satisfied: MarkupSafe>=2.1.1 in /usr/local/lib/python3.10/dist-packages (from werkzeug>=1.0.1->tensorboard<2.16,>=2.15->tensorflow>=2.4.1->basic-pitch) (2.1.5)\n",
            "Requirement already satisfied: pyasn1<0.6.0,>=0.4.6 in /usr/local/lib/python3.10/dist-packages (from pyasn1-modules>=0.2.1->google-auth<3,>=1.6.3->tensorboard<2.16,>=2.15->tensorflow>=2.4.1->basic-pitch) (0.5.1)\n",
            "Requirement already satisfied: oauthlib>=3.0.0 in /usr/local/lib/python3.10/dist-packages (from requests-oauthlib>=0.7.0->google-auth-oauthlib<2,>=0.5->tensorboard<2.16,>=2.15->tensorflow>=2.4.1->basic-pitch) (3.2.2)\n",
            "Building wheels for collected packages: mir-eval, pretty-midi\n",
            "  Building wheel for mir-eval (setup.py) ... \u001b[?25l\u001b[?25hdone\n",
            "  Created wheel for mir-eval: filename=mir_eval-0.7-py3-none-any.whl size=100703 sha256=d65d731c91261125617311681ba724f7ee95096fb6927b1a7c20243d760281cb\n",
            "  Stored in directory: /root/.cache/pip/wheels/3e/2f/0d/dda9c4c77a170e21356b6afa2f7d9bb078338634ba05d94e3f\n",
            "  Building wheel for pretty-midi (setup.py) ... \u001b[?25l\u001b[?25hdone\n",
            "  Created wheel for pretty-midi: filename=pretty_midi-0.2.10-py3-none-any.whl size=5592284 sha256=daeaeb4a9a306cc6487fb6f2d7f23d5c48e1f40a3930e7029bc14a31125592fa\n",
            "  Stored in directory: /root/.cache/pip/wheels/cd/a5/30/7b8b7f58709f5150f67f98fde4b891ebf0be9ef07a8af49f25\n",
            "Successfully built mir-eval pretty-midi\n",
            "Installing collected packages: mido, resampy, pretty-midi, mir-eval, basic-pitch\n",
            "Successfully installed basic-pitch-0.2.6 mido-1.3.2 mir-eval-0.7 pretty-midi-0.2.10 resampy-0.4.2\n",
            "\n",
            "✨✨✨✨✨✨✨✨✨\n",
            "✨ Basic Pitch  ✨\n",
            "✨✨✨✨✨✨✨✨✨\n",
            "\n",
            "Importing Tensorflow (this may take a few seconds)...\n",
            "\n",
            "Predicting MIDI for voice.wav...\n",
            "/usr/local/lib/python3.10/dist-packages/basic_pitch/inference.py:89: UserWarning: PySoundFile failed. Trying audioread instead.\n",
            "  audio_original, _ = librosa.load(str(audio_path), sr=AUDIO_SAMPLE_RATE, mono=True)\n",
            "/usr/local/lib/python3.10/dist-packages/librosa/core/audio.py:183: FutureWarning: librosa.core.audio.__audioread_load\n",
            "\tDeprecated as of librosa version 0.10.0.\n",
            "\tIt will be removed in librosa version 1.0.\n",
            "  y, sr_native = __audioread_load(path, offset, duration, dtype)\n",
            "\n",
            "\n",
            "  Creating midi...\n",
            "  💅 Saved to /content/voice_basic_pitch.mid\n",
            "\n",
            "✨ Done ✨\n",
            "\n"
          ]
        }
      ],
      "source": [
        "!pip install basic-pitch\n",
        "!basic-pitch /content/ voice.wav"
      ]
    },
    {
      "cell_type": "markdown",
      "metadata": {
        "id": "3ks8__E_WUGt"
      },
      "source": [
        "This tutorial uses the [`pretty_midi`](https://github.com/craffel/pretty-midi) library to create and parse MIDI files, and [`pyfluidsynth`](https://github.com/nwhitehead/pyfluidsynth) for generating audio playback in Colab."
      ]
    },
    {
      "cell_type": "code",
      "execution_count": 4,
      "metadata": {
        "colab": {
          "base_uri": "https://localhost:8080/"
        },
        "execution": {
          "iopub.execute_input": "2023-10-27T05:48:48.391602Z",
          "iopub.status.busy": "2023-10-27T05:48:48.391216Z",
          "iopub.status.idle": "2023-10-27T05:49:09.042026Z",
          "shell.execute_reply": "2023-10-27T05:49:09.041092Z"
        },
        "id": "kahm6Z8v_TqC",
<<<<<<< Updated upstream
        "outputId": "f11b61e3-0190-4d87-f37e-55edf5d7c5ab"
=======
        "outputId": "8b1d904d-0eb6-484d-9f2f-d8694908c383"
>>>>>>> Stashed changes
      },
      "outputs": [
        {
          "name": "stdout",
          "output_type": "stream",
          "text": [
            "Collecting fluidsynth\n",
            "  Downloading fluidsynth-0.2.tar.gz (3.7 kB)\n",
            "  Preparing metadata (setup.py) ... \u001b[?25l\u001b[?25hdone\n",
            "Building wheels for collected packages: fluidsynth\n",
            "  Building wheel for fluidsynth (setup.py) ... \u001b[?25l\u001b[?25hdone\n",
            "  Created wheel for fluidsynth: filename=fluidsynth-0.2-py3-none-any.whl size=4487 sha256=20aa712517f04d19b3f5eecf7a4cbd3c2ee400c2c9fdfb9e857418c0e3901b76\n",
            "  Stored in directory: /root/.cache/pip/wheels/72/5a/bf/347b142f199fb1bea87f16f8970916226951bc359c947ba19b\n",
            "Successfully built fluidsynth\n",
            "Installing collected packages: fluidsynth\n",
            "Successfully installed fluidsynth-0.2\n"
          ]
        }
      ],
      "source": [
        "!pip install fluidsynth"
      ]
    },
    {
      "cell_type": "code",
      "execution_count": 5,
      "metadata": {
        "colab": {
          "base_uri": "https://localhost:8080/"
        },
        "execution": {
          "iopub.execute_input": "2023-10-27T05:49:09.046529Z",
          "iopub.status.busy": "2023-10-27T05:49:09.045854Z",
          "iopub.status.idle": "2023-10-27T05:49:11.070158Z",
          "shell.execute_reply": "2023-10-27T05:49:11.069312Z"
        },
        "id": "M0lAReB7_Vqb",
<<<<<<< Updated upstream
        "outputId": "a67b777e-014e-4ba1-e4e8-37f4628db297"
=======
        "outputId": "6dd1b92e-8bbd-4557-957e-f93eaf854005"
>>>>>>> Stashed changes
      },
      "outputs": [
        {
          "name": "stdout",
          "output_type": "stream",
          "text": [
            "Collecting pyfluidsynth\n",
            "  Downloading pyFluidSynth-1.3.2-py3-none-any.whl (19 kB)\n",
            "Requirement already satisfied: numpy in /usr/local/lib/python3.10/dist-packages (from pyfluidsynth) (1.23.5)\n",
            "Installing collected packages: pyfluidsynth\n",
            "Successfully installed pyfluidsynth-1.3.2\n"
          ]
        }
      ],
      "source": [
        "!pip install --upgrade pyfluidsynth"
      ]
    },
    {
      "cell_type": "code",
      "execution_count": 6,
      "metadata": {
        "colab": {
          "base_uri": "https://localhost:8080/"
        },
        "execution": {
          "iopub.execute_input": "2023-10-27T05:49:11.074389Z",
          "iopub.status.busy": "2023-10-27T05:49:11.073843Z",
          "iopub.status.idle": "2023-10-27T05:49:14.356015Z",
          "shell.execute_reply": "2023-10-27T05:49:14.355206Z"
        },
        "id": "G46kKoQZmIa8",
<<<<<<< Updated upstream
        "outputId": "582765e6-fab0-453f-bae3-dcf84f6ef7e5"
=======
        "outputId": "74ec66a5-150d-4d02-b79d-fb19285bb487"
>>>>>>> Stashed changes
      },
      "outputs": [
        {
          "name": "stdout",
          "output_type": "stream",
          "text": [
            "Requirement already satisfied: pretty_midi in /usr/local/lib/python3.10/dist-packages (0.2.10)\n",
            "Requirement already satisfied: numpy>=1.7.0 in /usr/local/lib/python3.10/dist-packages (from pretty_midi) (1.23.5)\n",
            "Requirement already satisfied: mido>=1.1.16 in /usr/local/lib/python3.10/dist-packages (from pretty_midi) (1.3.2)\n",
            "Requirement already satisfied: six in /usr/local/lib/python3.10/dist-packages (from pretty_midi) (1.16.0)\n",
            "Requirement already satisfied: packaging~=23.1 in /usr/local/lib/python3.10/dist-packages (from mido>=1.1.16->pretty_midi) (23.2)\n"
          ]
        }
      ],
      "source": [
        "!pip install pretty_midi"
      ]
    },
    {
      "cell_type": "code",
      "execution_count": 7,
      "metadata": {
        "execution": {
          "iopub.execute_input": "2023-10-27T05:49:14.360535Z",
          "iopub.status.busy": "2023-10-27T05:49:14.359813Z",
          "iopub.status.idle": "2023-10-27T05:49:17.503487Z",
          "shell.execute_reply": "2023-10-27T05:49:17.502667Z"
        },
        "id": "GsLFq7nsiqcq"
      },
      "outputs": [],
      "source": [
        "import collections\n",
        "import datetime\n",
        "import fluidsynth\n",
        "import glob\n",
        "import numpy as np\n",
        "import pathlib\n",
        "import pandas as pd\n",
        "import pretty_midi\n",
        "import seaborn as sns\n",
        "import tensorflow as tf\n",
        "import cv2\n",
        "import dlib\n",
        "import numpy as np\n",
        "import time\n",
        "import threading\n",
        "\n",
        "from IPython import display\n",
        "from matplotlib import pyplot as plt\n",
        "from typing import Optional"
      ]
    },
    {
      "cell_type": "code",
      "execution_count": 8,
      "metadata": {
        "execution": {
          "iopub.execute_input": "2023-10-27T05:49:17.507664Z",
          "iopub.status.busy": "2023-10-27T05:49:17.507237Z",
          "iopub.status.idle": "2023-10-27T05:49:17.511457Z",
          "shell.execute_reply": "2023-10-27T05:49:17.510828Z"
        },
        "id": "Efja_OtJNzAM"
      },
      "outputs": [],
      "source": [
        "seed = 42\n",
        "tf.random.set_seed(seed)\n",
        "np.random.seed(seed)\n",
        "\n",
        "# Sampling rate for audio playback\n",
        "_SAMPLING_RATE = 16000\n"
      ]
    },
    {
      "cell_type": "markdown",
      "metadata": {
        "id": "V0PFBkOa2ZKS"
      },
      "source": [
        "## Smile Detection"
      ]
    },
    {
      "cell_type": "code",
      "execution_count": 9,
      "metadata": {
        "id": "uuCgj0wU2ZKS"
      },
      "outputs": [],
      "source": [
        "def is_smiling(landmarks):\n",
        "    # Get the coordinates of the mouth landmarks\n",
        "   # Points for the left and right of the mouth\n",
        "    left_mouth = (landmarks.part(48).x, landmarks.part(48).y)\n",
        "    right_mouth = (landmarks.part(54).x, landmarks.part(54).y)\n",
        "\n",
        "    # Points for the top and bottom of the mouth\n",
        "    top_mouth = (landmarks.part(51).x, landmarks.part(51).y)\n",
        "    bottom_mouth = (landmarks.part(57).x, landmarks.part(57).y)\n",
        "\n",
        "    # Calculate distances\n",
        "    horizontal_dist = np.linalg.norm(np.array(left_mouth) - np.array(right_mouth))\n",
        "    vertical_dist = np.linalg.norm(np.array(top_mouth) - np.array(bottom_mouth))\n",
        "\n",
        "    # Aspect ratio\n",
        "    aspect_ratio = vertical_dist / horizontal_dist\n",
        "\n",
        "    # Threshold can be adjusted based on empirical data\n",
        "    smile_threshold = 0.30\n",
        "\n",
        "    return aspect_ratio < smile_threshold\n"
      ]
    },
    {
      "cell_type": "code",
<<<<<<< Updated upstream
      "execution_count": 12,
=======
      "execution_count": 10,
>>>>>>> Stashed changes
      "metadata": {
        "id": "wQTQV8yxNeiF"
      },
      "outputs": [],
      "source": [
        "# function to convert the JavaScript object into an OpenCV image\n",
        "def js_to_image(js_reply):\n",
        "  \"\"\"\n",
        "  Params:\n",
        "          js_reply: JavaScript object containing image from webcam\n",
        "  Returns:\n",
        "          img: OpenCV BGR image\n",
        "  \"\"\"\n",
        "  # decode base64 image\n",
        "  image_bytes = b64decode(js_reply.split(',')[1])\n",
        "  # convert bytes to numpy array\n",
        "  jpg_as_np = np.frombuffer(image_bytes, dtype=np.uint8)\n",
        "  # decode numpy array into OpenCV BGR image\n",
        "  img = cv2.imdecode(jpg_as_np, flags=1)\n",
        "\n",
        "  return img\n",
        "\n",
        "# function to convert OpenCV Rectangle bounding box image into base64 byte string to be overlayed on video stream\n",
        "def bbox_to_bytes(bbox_array):\n",
        "  \"\"\"\n",
        "  Params:\n",
        "          bbox_array: Numpy array (pixels) containing rectangle to overlay on video stream.\n",
        "  Returns:\n",
        "        bytes: Base64 image byte string\n",
        "  \"\"\"\n",
        "  # convert array into PIL image\n",
        "  bbox_PIL = PIL.Image.fromarray(bbox_array, 'RGBA')\n",
        "  iobuf = io.BytesIO()\n",
        "  # format bbox into png for return\n",
        "  bbox_PIL.save(iobuf, format='png')\n",
        "  # format return string\n",
        "  bbox_bytes = 'data:image/png;base64,{}'.format((str(b64encode(iobuf.getvalue()), 'utf-8')))\n",
        "\n",
        "  return bbox_bytes\n",
        "# initialize the Haar Cascade face detection model\n",
        "face_cascade = cv2.CascadeClassifier(cv2.samples.findFile(cv2.data.haarcascades + 'haarcascade_frontalface_default.xml'))"
      ]
    },
    {
      "cell_type": "code",
<<<<<<< Updated upstream
      "execution_count": 21,
=======
      "execution_count": 11,
>>>>>>> Stashed changes
      "metadata": {
        "id": "BzRlbR9JNKWX"
      },
      "outputs": [],
      "source": [
        "def take_photo(filename='photo.jpg', quality=0.8):\n",
        "  js = Javascript('''\n",
        "    async function takePhoto(quality) {\n",
        "      const div = document.createElement('div');\n",
        "      const capture = document.createElement('button');\n",
        "      capture.textContent = 'Capture';\n",
        "      div.appendChild(capture);\n",
        "\n",
        "      const video = document.createElement('video');\n",
        "      video.style.display = 'block';\n",
        "      const stream = await navigator.mediaDevices.getUserMedia({video: true});\n",
        "\n",
        "      document.body.appendChild(div);\n",
        "      div.appendChild(video);\n",
        "      video.srcObject = stream;\n",
        "      await video.play();\n",
        "\n",
        "      // Resize the output to fit the video element.\n",
        "      google.colab.output.setIframeHeight(document.documentElement.scrollHeight, true);\n",
        "\n",
        "      // Wait for Capture to be clicked.\n",
        "      await new Promise((resolve) => capture.onclick = resolve);\n",
        "\n",
        "      const canvas = document.createElement('canvas');\n",
        "      canvas.width = video.videoWidth;\n",
        "      canvas.height = video.videoHeight;\n",
        "      canvas.getContext('2d').drawImage(video, 0, 0);\n",
        "      stream.getVideoTracks()[0].stop();\n",
        "      div.remove();\n",
        "      return canvas.toDataURL('image/jpeg', quality);\n",
        "    }\n",
        "    ''')\n",
        "  display(js)\n",
        "\n",
        "  # get photo data\n",
        "  data = output.eval_js('takePhoto({})'.format(quality))\n",
        "  # get OpenCV format image\n",
        "  img = js_to_image(data)\n",
        "  # grayscale img\n",
        "  gray = cv2.cvtColor(img, cv2.COLOR_RGB2GRAY)\n",
        "  print(gray.shape)\n",
        "  # get face bounding box coordinates using Haar Cascade\n",
        "  faces = face_cascade.detectMultiScale(gray)\n",
        "  # draw face bounding box on image\n",
        "  #for (x,y,w,h) in faces:\n",
        "  #    img = cv2.rectangle(img,(x,y),(x+w,y+h),(255,0,0),2)\n",
        "  # save image\n",
        "  cv2.imwrite(filename, img)\n",
        "\n",
        "  return filename"
      ]
    },
    {
      "cell_type": "code",
      "execution_count": 13,
      "metadata": {
        "id": "ak3osOqz2ZKS"
      },
      "outputs": [],
      "source": [
        "# Initialize dlib's face detector and facial landmark predictor\n",
        "detector = dlib.get_frontal_face_detector()\n",
        "predictor = dlib.shape_predictor(\"shape_predictor_68_face_landmarks.dat\")  # You need to download this file"
      ]
    },
    {
      "cell_type": "code",
<<<<<<< Updated upstream
      "execution_count": 50,
=======
      "execution_count": 14,
>>>>>>> Stashed changes
      "metadata": {
        "colab": {
          "base_uri": "https://localhost:8080/",
          "height": 548
        },
        "id": "zegq7rieQNNa",
<<<<<<< Updated upstream
        "outputId": "74d0e27f-daf1-41c7-a6ba-778daf429eb1"
      },
      "outputs": [
        {
          "data": {
            "application/javascript": "\n    async function takePhoto(quality) {\n      const div = document.createElement('div');\n      const capture = document.createElement('button');\n      capture.textContent = 'Capture';\n      div.appendChild(capture);\n\n      const video = document.createElement('video');\n      video.style.display = 'block';\n      const stream = await navigator.mediaDevices.getUserMedia({video: true});\n\n      document.body.appendChild(div);\n      div.appendChild(video);\n      video.srcObject = stream;\n      await video.play();\n\n      // Resize the output to fit the video element.\n      google.colab.output.setIframeHeight(document.documentElement.scrollHeight, true);\n\n      // Wait for Capture to be clicked.\n      await new Promise((resolve) => capture.onclick = resolve);\n\n      const canvas = document.createElement('canvas');\n      canvas.width = video.videoWidth;\n      canvas.height = video.videoHeight;\n      canvas.getContext('2d').drawImage(video, 0, 0);\n      stream.getVideoTracks()[0].stop();\n      div.remove();\n      return canvas.toDataURL('image/jpeg', quality);\n    }\n    ",
            "text/plain": [
              "<IPython.core.display.Javascript object>"
            ]
          },
          "metadata": {},
          "output_type": "display_data"
        },
        {
          "name": "stdout",
          "output_type": "stream",
=======
        "outputId": "57695be5-ba11-4f27-a5d8-c55dfcb45a1b"
      },
      "outputs": [
        {
          "output_type": "display_data",
          "data": {
            "text/plain": [
              "<IPython.core.display.Javascript object>"
            ],
            "application/javascript": [
              "\n",
              "    async function takePhoto(quality) {\n",
              "      const div = document.createElement('div');\n",
              "      const capture = document.createElement('button');\n",
              "      capture.textContent = 'Capture';\n",
              "      div.appendChild(capture);\n",
              "\n",
              "      const video = document.createElement('video');\n",
              "      video.style.display = 'block';\n",
              "      const stream = await navigator.mediaDevices.getUserMedia({video: true});\n",
              "\n",
              "      document.body.appendChild(div);\n",
              "      div.appendChild(video);\n",
              "      video.srcObject = stream;\n",
              "      await video.play();\n",
              "\n",
              "      // Resize the output to fit the video element.\n",
              "      google.colab.output.setIframeHeight(document.documentElement.scrollHeight, true);\n",
              "\n",
              "      // Wait for Capture to be clicked.\n",
              "      await new Promise((resolve) => capture.onclick = resolve);\n",
              "\n",
              "      const canvas = document.createElement('canvas');\n",
              "      canvas.width = video.videoWidth;\n",
              "      canvas.height = video.videoHeight;\n",
              "      canvas.getContext('2d').drawImage(video, 0, 0);\n",
              "      stream.getVideoTracks()[0].stop();\n",
              "      div.remove();\n",
              "      return canvas.toDataURL('image/jpeg', quality);\n",
              "    }\n",
              "    "
            ]
          },
          "metadata": {}
        },
        {
          "output_type": "stream",
          "name": "stdout",
>>>>>>> Stashed changes
          "text": [
            "(480, 640)\n",
            "Saved to photo.jpg\n",
            "face found\n"
          ]
        },
        {
<<<<<<< Updated upstream
          "data": {
            "image/jpeg": "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",
=======
          "output_type": "display_data",
          "data": {
            "image/jpeg": "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\n",
>>>>>>> Stashed changes
            "text/plain": [
              "<IPython.core.display.Image object>"
            ]
          },
<<<<<<< Updated upstream
          "metadata": {},
          "output_type": "display_data"
=======
          "metadata": {}
>>>>>>> Stashed changes
        }
      ],
      "source": [
        "from IPython.display import display, Javascript, Image\n",
        "try:\n",
        "  filename = take_photo('photo.jpg')\n",
        "  print('Saved to {}'.format(filename))\n",
        "\n",
        "  photo = cv2.imread('photo.jpg')\n",
        "  gray = cv2.cvtColor(photo, cv2.COLOR_BGR2GRAY)\n",
        "\n",
        "  detector = dlib.get_frontal_face_detector()\n",
        "  predictor = dlib.shape_predictor(\"shape_predictor_68_face_landmarks.dat\")  # You need to download this file\n",
        "\n",
        "  faces = detector(gray)\n",
        "  if len(faces) == 0:\n",
        "    print(\"no face detected, please try again\")\n",
        "\n",
        "  else:\n",
        "    for face in faces:\n",
        "      print(\"face found\")\n",
        "      landmarks = predictor(gray, face)\n",
        "\n",
        "    if is_smiling(landmarks):\n",
        "      color = (0, 255, 0) # Green\n",
        "    else:\n",
        "      color = (0, 0, 255) # Red\n",
        "\n",
        "    x1, y1, x2, y2 = face.left(), face.top(), face.right(), face.bottom()\n",
        "    cv2.rectangle(photo, (x1, y1), (x2, y2), color, 2)\n",
        "\n",
        "    cv2.imwrite(filename, photo)\n",
        "    # Show the image which was just taken.\n",
        "    display(Image(filename))\n",
        "    label = 1 if is_smiling(landmarks) else -1\n",
        "except Exception as err:\n",
        "  # Errors will be thrown if the user does not have a webcam or if they do not\n",
        "  # grant the page permission to access it.\n",
        "  print(str(err))"
      ]
    },
    {
      "cell_type": "markdown",
      "metadata": {
        "id": "wzcd3H0l2ZKS"
      },
      "source": [
        "## import kmeans model"
      ]
    },
    {
      "cell_type": "code",
      "execution_count": 15,
      "metadata": {
        "id": "xoCTamzR2ZKS"
      },
      "outputs": [],
      "source": [
        "import pickle\n",
        "\n",
        "def analyze_midi(notes_sequence):\n",
        "\n",
        "    # pm = pretty_midi.PrettyMIDI(midi_file)\n",
        "\n",
        "    # get tempo changes\n",
        "    # tempo_changes = notes_sequence.get_tempo_changes()\n",
        "    # bpm = np.mean(tempo_changes)\n",
        "\n",
        "    # get notes\n",
        "    # notes = []\n",
        "    # for instrument in notes_sequence.instruments:\n",
        "    #     for note in instrument.notes:\n",
        "    #         notes.append(note)\n",
        "\n",
        "    # suppose the triples are (pitch, step, duration)\n",
        "    # ANDREA CAMBIALO SE NECESSARIO\n",
        "\n",
        "    # get notes steps\n",
        "    # sorted_notes = sorted(notes_sequence, key=lambda note: note.start)\n",
        "    # prev_start = sorted_notes[0].start\n",
        "    steps = [note[1] for note in notes_sequence]\n",
        "    # for note in sorted_notes:\n",
        "    #     start = note.start\n",
        "    #     steps.append(start - prev_start)\n",
        "    #     prev_start = start\n",
        "    avg_step = np.mean(steps)\n",
        "    max_step = np.max(steps)\n",
        "    std_step = np.std(steps)\n",
        "\n",
        "\n",
        "    # get note durations\n",
        "    # durations = [note.end - note.start for note in notes_sequence]\n",
        "    durations = [note[2] for note in notes_sequence]\n",
        "    # get average duration\n",
        "    avg_duration = np.mean(durations)\n",
        "    max_duration = np.max(durations)\n",
        "    std_duration = np.std(durations)\n",
        "\n",
        "    # get note pitches\n",
        "    # pitches = [note.pitch for note in notes_sequence]\n",
        "    pitches = [note[0] for note in notes_sequence]\n",
        "    # get average pitch\n",
        "    avg_pitch = np.mean(pitches)\n",
        "    max_pitch = np.max(pitches)\n",
        "    std_pitch = np.std(pitches)\n",
        "\n",
        "\n",
        "    return {\n",
        "        # 'bpm': bpm,\n",
        "        'avg_step': avg_step,\n",
        "        'max_step': max_step,\n",
        "        'std_step': std_step,\n",
        "        'avg_duration': avg_duration,\n",
        "        'max_duration': max_duration,\n",
        "        'std_duration': std_duration,\n",
        "        'avg_pitch': avg_pitch,\n",
        "        'max_pitch': max_pitch,\n",
        "        'std_pitch': std_pitch\n",
        "    }\n",
        "\n",
        "with open(\"model.pkl\", \"rb\") as f:\n",
        "    kmeans_model = pickle.load(f)"
      ]
    },
    {
      "cell_type": "markdown",
      "metadata": {
        "id": "FzIbfb-Ikgg7"
      },
      "source": [
        "## Download the Maestro dataset"
      ]
    },
    {
      "cell_type": "code",
      "execution_count": 16,
      "metadata": {
        "execution": {
          "iopub.execute_input": "2023-10-27T05:49:17.515178Z",
          "iopub.status.busy": "2023-10-27T05:49:17.514526Z",
          "iopub.status.idle": "2023-10-27T05:49:18.943808Z",
          "shell.execute_reply": "2023-10-27T05:49:18.943068Z"
        },
        "id": "mwja4SWmibrL",
        "colab": {
          "base_uri": "https://localhost:8080/"
        },
        "outputId": "1c8bc65f-79c6-45b3-99f4-8f3f61b5cea9"
      },
      "outputs": [
        {
          "name": "stdout",
          "output_type": "stream",
          "text": [
            "Downloading data from https://storage.googleapis.com/magentadata/datasets/maestro/v2.0.0/maestro-v2.0.0-midi.zip\n",
            "59243107/59243107 [==============================] - 0s 0us/step\n"
          ]
        }
      ],
      "source": [
        "data_dir = pathlib.Path('data/maestro-v2.0.0')\n",
        "if not data_dir.exists():\n",
        "  tf.keras.utils.get_file(\n",
        "      'maestro-v2.0.0-midi.zip',\n",
        "      origin='https://storage.googleapis.com/magentadata/datasets/maestro/v2.0.0/maestro-v2.0.0-midi.zip',\n",
        "      extract=True,\n",
        "      cache_dir='.', cache_subdir='data',\n",
        "  )"
      ]
    },
    {
      "cell_type": "markdown",
      "metadata": {
        "id": "k7UYBSxcINqJ"
      },
      "source": [
        "The dataset contains about 1,200 MIDI files."
      ]
    },
    {
      "cell_type": "code",
      "execution_count": 17,
      "metadata": {
        "colab": {
          "base_uri": "https://localhost:8080/"
        },
        "execution": {
          "iopub.execute_input": "2023-10-27T05:49:18.948352Z",
          "iopub.status.busy": "2023-10-27T05:49:18.947653Z",
          "iopub.status.idle": "2023-10-27T05:49:18.958186Z",
          "shell.execute_reply": "2023-10-27T05:49:18.957445Z"
        },
        "id": "72iFI1bPB9o1",
        "outputId": "d4222afa-ff07-4615-be7b-3fc73060e31a"
      },
      "outputs": [
        {
          "name": "stdout",
          "output_type": "stream",
          "text": [
            "Number of files: 1282\n"
          ]
        }
      ],
      "source": [
        "filenames = glob.glob(str(data_dir/'**/*.mid*'))\n",
        "print('Number of files:', len(filenames))"
      ]
    },
    {
      "cell_type": "markdown",
      "metadata": {
        "id": "8BlRafYDIRgA"
      },
      "source": [
        "## Process a MIDI file"
      ]
    },
    {
      "cell_type": "markdown",
      "metadata": {
        "id": "oFsmG87gXSbh"
      },
      "source": [
        "First, use ```pretty_midi``` to parse a single MIDI file and inspect the format of the notes. If you would like to download the MIDI file below to play on your computer, you can do so in colab by writing ```files.download(sample_file)```.\n"
      ]
    },
    {
      "cell_type": "code",
      "execution_count": 18,
      "metadata": {
        "colab": {
          "base_uri": "https://localhost:8080/"
        },
        "execution": {
          "iopub.execute_input": "2023-10-27T05:49:18.962088Z",
          "iopub.status.busy": "2023-10-27T05:49:18.961458Z",
          "iopub.status.idle": "2023-10-27T05:49:18.965541Z",
          "shell.execute_reply": "2023-10-27T05:49:18.964820Z"
        },
        "id": "6oSCbHvJNbci",
        "outputId": "774af46d-43c3-460d-d049-081814c94281"
      },
      "outputs": [
        {
          "name": "stdout",
          "output_type": "stream",
          "text": [
            "voice_basic_pitch.mid\n"
          ]
        }
      ],
      "source": [
        "sample_file = \"voice_basic_pitch.mid\"\n",
        "print(sample_file)"
      ]
    },
    {
      "cell_type": "markdown",
      "metadata": {
        "id": "A48VdGEpXnLp"
      },
      "source": [
        "Generate a `PrettyMIDI` object for the sample MIDI file."
      ]
    },
    {
      "cell_type": "code",
      "execution_count": 19,
      "metadata": {
        "execution": {
          "iopub.execute_input": "2023-10-27T05:49:18.969225Z",
          "iopub.status.busy": "2023-10-27T05:49:18.968624Z",
          "iopub.status.idle": "2023-10-27T05:49:19.236655Z",
          "shell.execute_reply": "2023-10-27T05:49:19.236031Z"
        },
        "id": "1YSQ5DjRI2md"
      },
      "outputs": [],
      "source": [
        "pm = pretty_midi.PrettyMIDI(sample_file)"
      ]
    },
    {
      "cell_type": "markdown",
      "metadata": {
        "id": "FZNVsZuA_lef"
      },
      "source": [
        "Play the sample file. The playback widget may take several seconds to load."
      ]
    },
    {
      "cell_type": "code",
      "execution_count": 20,
      "metadata": {
        "execution": {
          "iopub.execute_input": "2023-10-27T05:49:19.240245Z",
          "iopub.status.busy": "2023-10-27T05:49:19.239710Z",
          "iopub.status.idle": "2023-10-27T05:49:19.244009Z",
          "shell.execute_reply": "2023-10-27T05:49:19.243368Z"
        },
        "id": "vzoHAaVY_kyY"
      },
      "outputs": [],
      "source": [
        "def display_audio(pm: pretty_midi.PrettyMIDI, seconds=10):\n",
        "  waveform = pm.fluidsynth(fs=_SAMPLING_RATE)\n",
        "  # Take a sample of the generated waveform to mitigate kernel resets\n",
        "  waveform_short = waveform[:seconds*_SAMPLING_RATE]\n",
        "  return display.Audio(waveform_short, rate=_SAMPLING_RATE)"
      ]
    },
    {
      "cell_type": "code",
      "execution_count": 21,
      "metadata": {
        "colab": {
          "base_uri": "https://localhost:8080/",
          "height": 317
        },
        "execution": {
          "iopub.execute_input": "2023-10-27T05:49:19.247136Z",
          "iopub.status.busy": "2023-10-27T05:49:19.246548Z",
          "iopub.status.idle": "2023-10-27T05:49:22.748111Z",
          "shell.execute_reply": "2023-10-27T05:49:22.747427Z"
        },
        "id": "GOe-3AAi_sRw",
        "outputId": "67525a43-e213-4a7d-dfd6-f2fc90e8a1f5"
      },
      "outputs": [
        {
          "ename": "AttributeError",
          "evalue": "module 'fluidsynth' has no attribute 'Synth'",
          "output_type": "error",
          "traceback": [
            "\u001b[0;31m---------------------------------------------------------------------------\u001b[0m",
            "\u001b[0;31mAttributeError\u001b[0m                            Traceback (most recent call last)",
            "\u001b[0;32m<ipython-input-21-37908e374594>\u001b[0m in \u001b[0;36m<cell line: 1>\u001b[0;34m()\u001b[0m\n\u001b[0;32m----> 1\u001b[0;31m \u001b[0mdisplay_audio\u001b[0m\u001b[0;34m(\u001b[0m\u001b[0mpm\u001b[0m\u001b[0;34m)\u001b[0m\u001b[0;34m\u001b[0m\u001b[0;34m\u001b[0m\u001b[0m\n\u001b[0m",
            "\u001b[0;32m<ipython-input-20-7eb544aa0221>\u001b[0m in \u001b[0;36mdisplay_audio\u001b[0;34m(pm, seconds)\u001b[0m\n\u001b[1;32m      1\u001b[0m \u001b[0;32mdef\u001b[0m \u001b[0mdisplay_audio\u001b[0m\u001b[0;34m(\u001b[0m\u001b[0mpm\u001b[0m\u001b[0;34m:\u001b[0m \u001b[0mpretty_midi\u001b[0m\u001b[0;34m.\u001b[0m\u001b[0mPrettyMIDI\u001b[0m\u001b[0;34m,\u001b[0m \u001b[0mseconds\u001b[0m\u001b[0;34m=\u001b[0m\u001b[0;36m10\u001b[0m\u001b[0;34m)\u001b[0m\u001b[0;34m:\u001b[0m\u001b[0;34m\u001b[0m\u001b[0;34m\u001b[0m\u001b[0m\n\u001b[0;32m----> 2\u001b[0;31m   \u001b[0mwaveform\u001b[0m \u001b[0;34m=\u001b[0m \u001b[0mpm\u001b[0m\u001b[0;34m.\u001b[0m\u001b[0mfluidsynth\u001b[0m\u001b[0;34m(\u001b[0m\u001b[0mfs\u001b[0m\u001b[0;34m=\u001b[0m\u001b[0m_SAMPLING_RATE\u001b[0m\u001b[0;34m)\u001b[0m\u001b[0;34m\u001b[0m\u001b[0;34m\u001b[0m\u001b[0m\n\u001b[0m\u001b[1;32m      3\u001b[0m   \u001b[0;31m# Take a sample of the generated waveform to mitigate kernel resets\u001b[0m\u001b[0;34m\u001b[0m\u001b[0;34m\u001b[0m\u001b[0m\n\u001b[1;32m      4\u001b[0m   \u001b[0mwaveform_short\u001b[0m \u001b[0;34m=\u001b[0m \u001b[0mwaveform\u001b[0m\u001b[0;34m[\u001b[0m\u001b[0;34m:\u001b[0m\u001b[0mseconds\u001b[0m\u001b[0;34m*\u001b[0m\u001b[0m_SAMPLING_RATE\u001b[0m\u001b[0;34m]\u001b[0m\u001b[0;34m\u001b[0m\u001b[0;34m\u001b[0m\u001b[0m\n\u001b[1;32m      5\u001b[0m   \u001b[0;32mreturn\u001b[0m \u001b[0mdisplay\u001b[0m\u001b[0;34m.\u001b[0m\u001b[0mAudio\u001b[0m\u001b[0;34m(\u001b[0m\u001b[0mwaveform_short\u001b[0m\u001b[0;34m,\u001b[0m \u001b[0mrate\u001b[0m\u001b[0;34m=\u001b[0m\u001b[0m_SAMPLING_RATE\u001b[0m\u001b[0;34m)\u001b[0m\u001b[0;34m\u001b[0m\u001b[0;34m\u001b[0m\u001b[0m\n",
            "\u001b[0;32m/usr/local/lib/python3.10/dist-packages/pretty_midi/pretty_midi.py\u001b[0m in \u001b[0;36mfluidsynth\u001b[0;34m(self, fs, sf2_path)\u001b[0m\n\u001b[1;32m    972\u001b[0m             \u001b[0;32mreturn\u001b[0m \u001b[0mnp\u001b[0m\u001b[0;34m.\u001b[0m\u001b[0marray\u001b[0m\u001b[0;34m(\u001b[0m\u001b[0;34m[\u001b[0m\u001b[0;34m]\u001b[0m\u001b[0;34m)\u001b[0m\u001b[0;34m\u001b[0m\u001b[0;34m\u001b[0m\u001b[0m\n\u001b[1;32m    973\u001b[0m         \u001b[0;31m# Get synthesized waveform for each instrument\u001b[0m\u001b[0;34m\u001b[0m\u001b[0;34m\u001b[0m\u001b[0m\n\u001b[0;32m--> 974\u001b[0;31m         waveforms = [i.fluidsynth(fs=fs,\n\u001b[0m\u001b[1;32m    975\u001b[0m                                   sf2_path=sf2_path) for i in self.instruments]\n\u001b[1;32m    976\u001b[0m         \u001b[0;31m# Allocate output waveform, with #sample = max length of all waveforms\u001b[0m\u001b[0;34m\u001b[0m\u001b[0;34m\u001b[0m\u001b[0m\n",
            "\u001b[0;32m/usr/local/lib/python3.10/dist-packages/pretty_midi/pretty_midi.py\u001b[0m in \u001b[0;36m<listcomp>\u001b[0;34m(.0)\u001b[0m\n\u001b[1;32m    972\u001b[0m             \u001b[0;32mreturn\u001b[0m \u001b[0mnp\u001b[0m\u001b[0;34m.\u001b[0m\u001b[0marray\u001b[0m\u001b[0;34m(\u001b[0m\u001b[0;34m[\u001b[0m\u001b[0;34m]\u001b[0m\u001b[0;34m)\u001b[0m\u001b[0;34m\u001b[0m\u001b[0;34m\u001b[0m\u001b[0m\n\u001b[1;32m    973\u001b[0m         \u001b[0;31m# Get synthesized waveform for each instrument\u001b[0m\u001b[0;34m\u001b[0m\u001b[0;34m\u001b[0m\u001b[0m\n\u001b[0;32m--> 974\u001b[0;31m         waveforms = [i.fluidsynth(fs=fs,\n\u001b[0m\u001b[1;32m    975\u001b[0m                                   sf2_path=sf2_path) for i in self.instruments]\n\u001b[1;32m    976\u001b[0m         \u001b[0;31m# Allocate output waveform, with #sample = max length of all waveforms\u001b[0m\u001b[0;34m\u001b[0m\u001b[0;34m\u001b[0m\u001b[0m\n",
            "\u001b[0;32m/usr/local/lib/python3.10/dist-packages/pretty_midi/instrument.py\u001b[0m in \u001b[0;36mfluidsynth\u001b[0;34m(self, fs, sf2_path)\u001b[0m\n\u001b[1;32m    466\u001b[0m \u001b[0;34m\u001b[0m\u001b[0m\n\u001b[1;32m    467\u001b[0m         \u001b[0;31m# Create fluidsynth instance\u001b[0m\u001b[0;34m\u001b[0m\u001b[0;34m\u001b[0m\u001b[0m\n\u001b[0;32m--> 468\u001b[0;31m         \u001b[0mfl\u001b[0m \u001b[0;34m=\u001b[0m \u001b[0mfluidsynth\u001b[0m\u001b[0;34m.\u001b[0m\u001b[0mSynth\u001b[0m\u001b[0;34m(\u001b[0m\u001b[0msamplerate\u001b[0m\u001b[0;34m=\u001b[0m\u001b[0mfs\u001b[0m\u001b[0;34m)\u001b[0m\u001b[0;34m\u001b[0m\u001b[0;34m\u001b[0m\u001b[0m\n\u001b[0m\u001b[1;32m    469\u001b[0m         \u001b[0;31m# Load in the soundfont\u001b[0m\u001b[0;34m\u001b[0m\u001b[0;34m\u001b[0m\u001b[0m\n\u001b[1;32m    470\u001b[0m         \u001b[0msfid\u001b[0m \u001b[0;34m=\u001b[0m \u001b[0mfl\u001b[0m\u001b[0;34m.\u001b[0m\u001b[0msfload\u001b[0m\u001b[0;34m(\u001b[0m\u001b[0msf2_path\u001b[0m\u001b[0;34m)\u001b[0m\u001b[0;34m\u001b[0m\u001b[0;34m\u001b[0m\u001b[0m\n",
            "\u001b[0;31mAttributeError\u001b[0m: module 'fluidsynth' has no attribute 'Synth'"
          ]
        }
      ],
      "source": [
        "display_audio(pm)"
      ]
    },
    {
      "cell_type": "markdown",
      "metadata": {
        "id": "7Lqe7nOsIyh1"
      },
      "source": [
        "Do some inspection on the MIDI file. What kinds of instruments are used?"
      ]
    },
    {
      "cell_type": "code",
      "execution_count": 22,
      "metadata": {
        "colab": {
          "base_uri": "https://localhost:8080/"
        },
        "execution": {
          "iopub.execute_input": "2023-10-27T05:49:22.768476Z",
          "iopub.status.busy": "2023-10-27T05:49:22.767752Z",
          "iopub.status.idle": "2023-10-27T05:49:22.772057Z",
          "shell.execute_reply": "2023-10-27T05:49:22.771456Z"
        },
        "id": "SIGHYQPZQnRo",
        "outputId": "d050d24a-6341-423e-a59f-410ca594c85e"
      },
      "outputs": [
        {
          "name": "stdout",
          "output_type": "stream",
          "text": [
            "Number of instruments: 1\n",
            "Instrument name: Electric Piano 1\n"
          ]
        }
      ],
      "source": [
        "print('Number of instruments:', len(pm.instruments))\n",
        "instrument = pm.instruments[0]\n",
        "instrument_name = pretty_midi.program_to_instrument_name(instrument.program)\n",
        "print('Instrument name:', instrument_name)"
      ]
    },
    {
      "cell_type": "markdown",
      "metadata": {
        "id": "KVQfV2hVKB28"
      },
      "source": [
        "## Extract notes"
      ]
    },
    {
      "cell_type": "code",
      "execution_count": 23,
      "metadata": {
        "colab": {
          "base_uri": "https://localhost:8080/"
        },
        "execution": {
          "iopub.execute_input": "2023-10-27T05:49:22.775309Z",
          "iopub.status.busy": "2023-10-27T05:49:22.774778Z",
          "iopub.status.idle": "2023-10-27T05:49:22.778972Z",
          "shell.execute_reply": "2023-10-27T05:49:22.778333Z"
        },
        "id": "nYZm_VehYOTZ",
        "outputId": "e1fb8de5-9f8f-472f-e224-f2242f6b069a"
      },
      "outputs": [
        {
          "name": "stdout",
          "output_type": "stream",
          "text": [
            "0: pitch=50, note_name=D3, duration=0.0591\n",
            "1: pitch=53, note_name=F3, duration=0.0932\n",
            "2: pitch=47, note_name=B2, duration=0.1523\n",
            "3: pitch=47, note_name=B2, duration=0.0795\n",
            "4: pitch=49, note_name=C#3, duration=0.1273\n",
            "5: pitch=45, note_name=A2, duration=0.0818\n",
            "6: pitch=46, note_name=A#2, duration=0.0705\n",
            "7: pitch=74, note_name=D5, duration=0.0818\n",
            "8: pitch=46, note_name=A#2, duration=0.0705\n",
            "9: pitch=51, note_name=D#3, duration=0.1273\n"
          ]
        }
      ],
      "source": [
        "for i, note in enumerate(instrument.notes[:10]):\n",
        "  note_name = pretty_midi.note_number_to_name(note.pitch)\n",
        "  duration = note.end - note.start\n",
        "  print(f'{i}: pitch={note.pitch}, note_name={note_name},'\n",
        "        f' duration={duration:.4f}')"
      ]
    },
    {
      "cell_type": "markdown",
      "metadata": {
        "id": "jutzynyqX_GC"
      },
      "source": [
        "You will use three variables to represent a note when training the model: `pitch`, `step` and `duration`. The pitch is the perceptual quality of the sound as a MIDI note number.\n",
        "The `step` is the time elapsed from the previous note or start of the track.\n",
        "The `duration` is how long the note will be playing in seconds and is the difference between the note end and note start times.\n"
      ]
    },
    {
      "cell_type": "markdown",
      "metadata": {
        "id": "KGn7Juv_PTi6"
      },
      "source": [
        "Extract the notes from the sample MIDI file."
      ]
    },
    {
      "cell_type": "code",
      "execution_count": 24,
      "metadata": {
        "execution": {
          "iopub.execute_input": "2023-10-27T05:49:22.782152Z",
          "iopub.status.busy": "2023-10-27T05:49:22.781569Z",
          "iopub.status.idle": "2023-10-27T05:49:22.787191Z",
          "shell.execute_reply": "2023-10-27T05:49:22.786583Z"
        },
        "id": "Wyp_wdcEPWby"
      },
      "outputs": [],
      "source": [
        "def midi_to_notes(midi_file: str) -> pd.DataFrame:\n",
        "  pm = pretty_midi.PrettyMIDI(midi_file)\n",
        "  instrument = pm.instruments[0]\n",
        "  notes = collections.defaultdict(list)\n",
        "\n",
        "  # Sort the notes by start time\n",
        "  sorted_notes = sorted(instrument.notes, key=lambda note: note.start)\n",
        "  prev_start = sorted_notes[0].start\n",
        "\n",
        "  for note in sorted_notes:\n",
        "    start = note.start\n",
        "    end = note.end\n",
        "    notes['pitch'].append(note.pitch)\n",
        "    notes['start'].append(start)\n",
        "    notes['end'].append(end)\n",
        "    notes['step'].append(start - prev_start)\n",
        "    notes['duration'].append(end - start)\n",
        "    prev_start = start\n",
        "\n",
        "  return pd.DataFrame({name: np.array(value) for name, value in notes.items()})"
      ]
    },
    {
      "cell_type": "code",
      "execution_count": 25,
      "metadata": {
        "colab": {
          "base_uri": "https://localhost:8080/",
          "height": 204
        },
        "execution": {
          "iopub.execute_input": "2023-10-27T05:49:22.790113Z",
          "iopub.status.busy": "2023-10-27T05:49:22.789536Z",
          "iopub.status.idle": "2023-10-27T05:49:23.059946Z",
          "shell.execute_reply": "2023-10-27T05:49:23.059286Z"
        },
        "id": "X0kPjLBlcnY6",
<<<<<<< Updated upstream
        "outputId": "4dc0babe-5fbe-42f1-a3d1-546b1b75a140"
=======
        "outputId": "17f13bb9-2758-410c-c512-83247a1814b7"
>>>>>>> Stashed changes
      },
      "outputs": [
        {
          "data": {
<<<<<<< Updated upstream
=======
            "text/plain": [
              "   pitch     start       end      step  duration\n",
              "0     50  1.986364  2.045455  0.000000  0.059091\n",
              "1     53  2.172727  2.265909  0.186364  0.093182\n",
              "2     47  2.438636  2.590909  0.265909  0.152273\n",
              "3     47  2.695455  2.775000  0.256818  0.079545\n",
              "4     49  2.915909  3.043182  0.220455  0.127273"
            ],
>>>>>>> Stashed changes
            "text/html": [
              "\n",
              "  <div id=\"df-76639d36-6238-45c0-89e8-b3018dd70b57\" class=\"colab-df-container\">\n",
              "    <div>\n",
              "<style scoped>\n",
              "    .dataframe tbody tr th:only-of-type {\n",
              "        vertical-align: middle;\n",
              "    }\n",
              "\n",
              "    .dataframe tbody tr th {\n",
              "        vertical-align: top;\n",
              "    }\n",
              "\n",
              "    .dataframe thead th {\n",
              "        text-align: right;\n",
              "    }\n",
              "</style>\n",
              "<table border=\"1\" class=\"dataframe\">\n",
              "  <thead>\n",
              "    <tr style=\"text-align: right;\">\n",
              "      <th></th>\n",
              "      <th>pitch</th>\n",
              "      <th>start</th>\n",
              "      <th>end</th>\n",
              "      <th>step</th>\n",
              "      <th>duration</th>\n",
              "    </tr>\n",
              "  </thead>\n",
              "  <tbody>\n",
              "    <tr>\n",
              "      <th>0</th>\n",
              "      <td>50</td>\n",
              "      <td>1.986364</td>\n",
              "      <td>2.045455</td>\n",
              "      <td>0.000000</td>\n",
              "      <td>0.059091</td>\n",
              "    </tr>\n",
              "    <tr>\n",
              "      <th>1</th>\n",
              "      <td>53</td>\n",
              "      <td>2.172727</td>\n",
              "      <td>2.265909</td>\n",
              "      <td>0.186364</td>\n",
              "      <td>0.093182</td>\n",
              "    </tr>\n",
              "    <tr>\n",
              "      <th>2</th>\n",
              "      <td>47</td>\n",
              "      <td>2.438636</td>\n",
              "      <td>2.590909</td>\n",
              "      <td>0.265909</td>\n",
              "      <td>0.152273</td>\n",
              "    </tr>\n",
              "    <tr>\n",
              "      <th>3</th>\n",
              "      <td>47</td>\n",
              "      <td>2.695455</td>\n",
              "      <td>2.775000</td>\n",
              "      <td>0.256818</td>\n",
              "      <td>0.079545</td>\n",
              "    </tr>\n",
              "    <tr>\n",
              "      <th>4</th>\n",
              "      <td>49</td>\n",
              "      <td>2.915909</td>\n",
              "      <td>3.043182</td>\n",
              "      <td>0.220455</td>\n",
              "      <td>0.127273</td>\n",
              "    </tr>\n",
              "  </tbody>\n",
              "</table>\n",
              "</div>\n",
              "    <div class=\"colab-df-buttons\">\n",
              "\n",
              "  <div class=\"colab-df-container\">\n",
              "    <button class=\"colab-df-convert\" onclick=\"convertToInteractive('df-76639d36-6238-45c0-89e8-b3018dd70b57')\"\n",
              "            title=\"Convert this dataframe to an interactive table.\"\n",
              "            style=\"display:none;\">\n",
              "\n",
              "  <svg xmlns=\"http://www.w3.org/2000/svg\" height=\"24px\" viewBox=\"0 -960 960 960\">\n",
              "    <path d=\"M120-120v-720h720v720H120Zm60-500h600v-160H180v160Zm220 220h160v-160H400v160Zm0 220h160v-160H400v160ZM180-400h160v-160H180v160Zm440 0h160v-160H620v160ZM180-180h160v-160H180v160Zm440 0h160v-160H620v160Z\"/>\n",
              "  </svg>\n",
              "    </button>\n",
              "\n",
              "  <style>\n",
              "    .colab-df-container {\n",
              "      display:flex;\n",
              "      gap: 12px;\n",
              "    }\n",
              "\n",
              "    .colab-df-convert {\n",
              "      background-color: #E8F0FE;\n",
              "      border: none;\n",
              "      border-radius: 50%;\n",
              "      cursor: pointer;\n",
              "      display: none;\n",
              "      fill: #1967D2;\n",
              "      height: 32px;\n",
              "      padding: 0 0 0 0;\n",
              "      width: 32px;\n",
              "    }\n",
              "\n",
              "    .colab-df-convert:hover {\n",
              "      background-color: #E2EBFA;\n",
              "      box-shadow: 0px 1px 2px rgba(60, 64, 67, 0.3), 0px 1px 3px 1px rgba(60, 64, 67, 0.15);\n",
              "      fill: #174EA6;\n",
              "    }\n",
              "\n",
              "    .colab-df-buttons div {\n",
              "      margin-bottom: 4px;\n",
              "    }\n",
              "\n",
              "    [theme=dark] .colab-df-convert {\n",
              "      background-color: #3B4455;\n",
              "      fill: #D2E3FC;\n",
              "    }\n",
              "\n",
              "    [theme=dark] .colab-df-convert:hover {\n",
              "      background-color: #434B5C;\n",
              "      box-shadow: 0px 1px 3px 1px rgba(0, 0, 0, 0.15);\n",
              "      filter: drop-shadow(0px 1px 2px rgba(0, 0, 0, 0.3));\n",
              "      fill: #FFFFFF;\n",
              "    }\n",
              "  </style>\n",
              "\n",
              "    <script>\n",
              "      const buttonEl =\n",
              "        document.querySelector('#df-76639d36-6238-45c0-89e8-b3018dd70b57 button.colab-df-convert');\n",
              "      buttonEl.style.display =\n",
              "        google.colab.kernel.accessAllowed ? 'block' : 'none';\n",
              "\n",
              "      async function convertToInteractive(key) {\n",
              "        const element = document.querySelector('#df-76639d36-6238-45c0-89e8-b3018dd70b57');\n",
              "        const dataTable =\n",
              "          await google.colab.kernel.invokeFunction('convertToInteractive',\n",
              "                                                    [key], {});\n",
              "        if (!dataTable) return;\n",
              "\n",
              "        const docLinkHtml = 'Like what you see? Visit the ' +\n",
              "          '<a target=\"_blank\" href=https://colab.research.google.com/notebooks/data_table.ipynb>data table notebook</a>'\n",
              "          + ' to learn more about interactive tables.';\n",
              "        element.innerHTML = '';\n",
              "        dataTable['output_type'] = 'display_data';\n",
              "        await google.colab.output.renderOutput(dataTable, element);\n",
              "        const docLink = document.createElement('div');\n",
              "        docLink.innerHTML = docLinkHtml;\n",
              "        element.appendChild(docLink);\n",
              "      }\n",
              "    </script>\n",
              "  </div>\n",
              "\n",
              "\n",
              "<div id=\"df-42631ed1-a4e1-44c3-8910-f4b599f0c62c\">\n",
              "  <button class=\"colab-df-quickchart\" onclick=\"quickchart('df-42631ed1-a4e1-44c3-8910-f4b599f0c62c')\"\n",
              "            title=\"Suggest charts\"\n",
              "            style=\"display:none;\">\n",
              "\n",
              "<svg xmlns=\"http://www.w3.org/2000/svg\" height=\"24px\"viewBox=\"0 0 24 24\"\n",
              "     width=\"24px\">\n",
              "    <g>\n",
              "        <path d=\"M19 3H5c-1.1 0-2 .9-2 2v14c0 1.1.9 2 2 2h14c1.1 0 2-.9 2-2V5c0-1.1-.9-2-2-2zM9 17H7v-7h2v7zm4 0h-2V7h2v10zm4 0h-2v-4h2v4z\"/>\n",
              "    </g>\n",
              "</svg>\n",
              "  </button>\n",
              "\n",
              "<style>\n",
              "  .colab-df-quickchart {\n",
              "      --bg-color: #E8F0FE;\n",
              "      --fill-color: #1967D2;\n",
              "      --hover-bg-color: #E2EBFA;\n",
              "      --hover-fill-color: #174EA6;\n",
              "      --disabled-fill-color: #AAA;\n",
              "      --disabled-bg-color: #DDD;\n",
              "  }\n",
              "\n",
              "  [theme=dark] .colab-df-quickchart {\n",
              "      --bg-color: #3B4455;\n",
              "      --fill-color: #D2E3FC;\n",
              "      --hover-bg-color: #434B5C;\n",
              "      --hover-fill-color: #FFFFFF;\n",
              "      --disabled-bg-color: #3B4455;\n",
              "      --disabled-fill-color: #666;\n",
              "  }\n",
              "\n",
              "  .colab-df-quickchart {\n",
              "    background-color: var(--bg-color);\n",
              "    border: none;\n",
              "    border-radius: 50%;\n",
              "    cursor: pointer;\n",
              "    display: none;\n",
              "    fill: var(--fill-color);\n",
              "    height: 32px;\n",
              "    padding: 0;\n",
              "    width: 32px;\n",
              "  }\n",
              "\n",
              "  .colab-df-quickchart:hover {\n",
              "    background-color: var(--hover-bg-color);\n",
              "    box-shadow: 0 1px 2px rgba(60, 64, 67, 0.3), 0 1px 3px 1px rgba(60, 64, 67, 0.15);\n",
              "    fill: var(--button-hover-fill-color);\n",
              "  }\n",
              "\n",
              "  .colab-df-quickchart-complete:disabled,\n",
              "  .colab-df-quickchart-complete:disabled:hover {\n",
              "    background-color: var(--disabled-bg-color);\n",
              "    fill: var(--disabled-fill-color);\n",
              "    box-shadow: none;\n",
              "  }\n",
              "\n",
              "  .colab-df-spinner {\n",
              "    border: 2px solid var(--fill-color);\n",
              "    border-color: transparent;\n",
              "    border-bottom-color: var(--fill-color);\n",
              "    animation:\n",
              "      spin 1s steps(1) infinite;\n",
              "  }\n",
              "\n",
              "  @keyframes spin {\n",
              "    0% {\n",
              "      border-color: transparent;\n",
              "      border-bottom-color: var(--fill-color);\n",
              "      border-left-color: var(--fill-color);\n",
              "    }\n",
              "    20% {\n",
              "      border-color: transparent;\n",
              "      border-left-color: var(--fill-color);\n",
              "      border-top-color: var(--fill-color);\n",
              "    }\n",
              "    30% {\n",
              "      border-color: transparent;\n",
              "      border-left-color: var(--fill-color);\n",
              "      border-top-color: var(--fill-color);\n",
              "      border-right-color: var(--fill-color);\n",
              "    }\n",
              "    40% {\n",
              "      border-color: transparent;\n",
              "      border-right-color: var(--fill-color);\n",
              "      border-top-color: var(--fill-color);\n",
              "    }\n",
              "    60% {\n",
              "      border-color: transparent;\n",
              "      border-right-color: var(--fill-color);\n",
              "    }\n",
              "    80% {\n",
              "      border-color: transparent;\n",
              "      border-right-color: var(--fill-color);\n",
              "      border-bottom-color: var(--fill-color);\n",
              "    }\n",
              "    90% {\n",
              "      border-color: transparent;\n",
              "      border-bottom-color: var(--fill-color);\n",
              "    }\n",
              "  }\n",
              "</style>\n",
              "\n",
              "  <script>\n",
              "    async function quickchart(key) {\n",
              "      const quickchartButtonEl =\n",
              "        document.querySelector('#' + key + ' button');\n",
              "      quickchartButtonEl.disabled = true;  // To prevent multiple clicks.\n",
              "      quickchartButtonEl.classList.add('colab-df-spinner');\n",
              "      try {\n",
              "        const charts = await google.colab.kernel.invokeFunction(\n",
              "            'suggestCharts', [key], {});\n",
              "      } catch (error) {\n",
              "        console.error('Error during call to suggestCharts:', error);\n",
              "      }\n",
              "      quickchartButtonEl.classList.remove('colab-df-spinner');\n",
              "      quickchartButtonEl.classList.add('colab-df-quickchart-complete');\n",
              "    }\n",
              "    (() => {\n",
              "      let quickchartButtonEl =\n",
              "        document.querySelector('#df-42631ed1-a4e1-44c3-8910-f4b599f0c62c button');\n",
              "      quickchartButtonEl.style.display =\n",
              "        google.colab.kernel.accessAllowed ? 'block' : 'none';\n",
              "    })();\n",
              "  </script>\n",
              "</div>\n",
              "    </div>\n",
              "  </div>\n"
            ],
            "text/plain": [
              "   pitch     start       end      step  duration\n",
              "0     61  0.059091  0.138636  0.000000  0.079545\n",
              "1     61  0.138636  0.209091  0.079545  0.070455\n",
              "2     56  0.138636  0.279545  0.000000  0.140909\n",
              "3     73  0.302273  0.429545  0.163636  0.127273\n",
              "4     61  0.359091  0.800000  0.056818  0.440909"
            ]
          },
          "execution_count": 37,
          "metadata": {},
<<<<<<< Updated upstream
          "output_type": "execute_result"
=======
          "execution_count": 25
>>>>>>> Stashed changes
        }
      ],
      "source": [
        "raw_notes = midi_to_notes(sample_file)\n",
        "raw_notes.head()"
      ]
    },
    {
      "cell_type": "markdown",
      "metadata": {
        "id": "-71LPvjubOSO"
      },
      "source": [
        "It may be easier to interpret the note names rather than the pitches, so you can use the function below to convert from the numeric pitch values to note names.\n",
        "The note name shows the type of note, accidental and octave number\n",
        "(e.g. C#4)."
      ]
    },
    {
      "cell_type": "code",
      "execution_count": null,
      "metadata": {
        "colab": {
          "base_uri": "https://localhost:8080/"
        },
        "execution": {
          "iopub.execute_input": "2023-10-27T05:49:23.063434Z",
          "iopub.status.busy": "2023-10-27T05:49:23.062888Z",
          "iopub.status.idle": "2023-10-27T05:49:23.078053Z",
          "shell.execute_reply": "2023-10-27T05:49:23.077435Z"
        },
        "id": "WE9YXrGZbY2X",
        "outputId": "fd79272a-384a-4e2f-b0d7-a21fdf95eee7"
      },
      "outputs": [
        {
          "data": {
            "text/plain": [
              "array(['B3', 'E4', 'G#4', 'F#4', 'A3', 'F#4', 'B3', 'F#3', 'D#4', 'D#5'],\n",
              "      dtype='<U3')"
            ]
          },
          "execution_count": 38,
          "metadata": {},
<<<<<<< Updated upstream
          "output_type": "execute_result"
=======
          "execution_count": 30
>>>>>>> Stashed changes
        }
      ],
      "source": [
        "get_note_names = np.vectorize(pretty_midi.note_number_to_name)\n",
        "sample_note_names = get_note_names(raw_notes['pitch'])\n",
        "sample_note_names[:10]"
      ]
    },
    {
      "cell_type": "markdown",
      "metadata": {
        "id": "Q7sjqbp1e_f-"
      },
      "source": [
        "To visualize the musical piece, plot the note pitch, start and end across the length of the track (i.e. piano roll). Start with the first 100 notes"
      ]
    },
    {
      "cell_type": "code",
      "execution_count": null,
      "metadata": {
        "execution": {
          "iopub.execute_input": "2023-10-27T05:49:23.081233Z",
          "iopub.status.busy": "2023-10-27T05:49:23.080758Z",
          "iopub.status.idle": "2023-10-27T05:49:23.085712Z",
          "shell.execute_reply": "2023-10-27T05:49:23.085110Z"
        },
        "id": "liD2N7x_WOTp"
      },
      "outputs": [],
      "source": [
        "def plot_piano_roll(notes: pd.DataFrame, count: Optional[int] = None):\n",
        "  if count:\n",
        "    title = f'First {count} notes'\n",
        "  else:\n",
        "    title = f'Whole track'\n",
        "    count = len(notes['pitch'])\n",
        "  plt.figure(figsize=(20, 4))\n",
        "  plot_pitch = np.stack([notes['pitch'], notes['pitch']], axis=0)\n",
        "  plot_start_stop = np.stack([notes['start'], notes['end']], axis=0)\n",
        "  plt.plot(\n",
        "      plot_start_stop[:, :count], plot_pitch[:, :count], color=\"b\", marker=\".\")\n",
        "  plt.xlabel('Time [s]')\n",
        "  plt.ylabel('Pitch')\n",
        "  _ = plt.title(title)"
      ]
    },
    {
      "cell_type": "markdown",
      "metadata": {
        "id": "gcUyCXYhXeVA"
      },
      "source": [
        "Plot the notes for the entire track."
      ]
    },
    {
      "cell_type": "code",
      "execution_count": null,
      "metadata": {
        "colab": {
          "base_uri": "https://localhost:8080/",
          "height": 264
        },
        "execution": {
          "iopub.execute_input": "2023-10-27T05:49:23.534716Z",
          "iopub.status.busy": "2023-10-27T05:49:23.534439Z",
          "iopub.status.idle": "2023-10-27T05:49:26.630422Z",
          "shell.execute_reply": "2023-10-27T05:49:26.629758Z"
        },
        "id": "G7l76hEDZX8Z",
        "outputId": "8a5d5daa-bbd1-43a5-a507-6edca625d25f"
      },
      "outputs": [
        {
          "data": {
            "image/png": "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",
            "text/plain": [
              "<Figure size 2000x400 with 1 Axes>"
<<<<<<< Updated upstream
            ]
=======
            ],
            "image/png": "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\n"
>>>>>>> Stashed changes
          },
          "metadata": {},
          "output_type": "display_data"
        }
      ],
      "source": [
        "plot_piano_roll(raw_notes)"
      ]
    },
    {
      "cell_type": "markdown",
      "metadata": {
        "id": "5GM1bi3aX8rd"
      },
      "source": [
        "Check the distribution of each note variable."
      ]
    },
    {
      "cell_type": "code",
      "execution_count": null,
      "metadata": {
        "execution": {
          "iopub.execute_input": "2023-10-27T05:49:26.634832Z",
          "iopub.status.busy": "2023-10-27T05:49:26.634282Z",
          "iopub.status.idle": "2023-10-27T05:49:26.639513Z",
          "shell.execute_reply": "2023-10-27T05:49:26.638888Z"
        },
        "id": "Pq9C9XBBaK7W"
      },
      "outputs": [],
      "source": [
        "def plot_distributions(notes: pd.DataFrame, drop_percentile=2.5):\n",
        "  plt.figure(figsize=[15, 5])\n",
        "  plt.subplot(1, 3, 1)\n",
        "  sns.histplot(notes, x=\"pitch\", bins=20)\n",
        "\n",
        "  plt.subplot(1, 3, 2)\n",
        "  max_step = np.percentile(notes['step'], 100 - drop_percentile)\n",
        "  sns.histplot(notes, x=\"step\", bins=np.linspace(0, max_step, 21))\n",
        "\n",
        "  plt.subplot(1, 3, 3)\n",
        "  max_duration = np.percentile(notes['duration'], 100 - drop_percentile)\n",
        "  sns.histplot(notes, x=\"duration\", bins=np.linspace(0, max_duration, 21))"
      ]
    },
    {
      "cell_type": "code",
      "execution_count": null,
      "metadata": {
        "colab": {
          "base_uri": "https://localhost:8080/",
          "height": 390
        },
        "execution": {
          "iopub.execute_input": "2023-10-27T05:49:26.642631Z",
          "iopub.status.busy": "2023-10-27T05:49:26.642105Z",
          "iopub.status.idle": "2023-10-27T05:49:27.107338Z",
          "shell.execute_reply": "2023-10-27T05:49:27.106549Z"
        },
        "id": "-Nu2Pw24acFD",
        "outputId": "5ce0d051-d616-46f0-91e8-4a575d58f632"
      },
      "outputs": [
        {
          "data": {
            "image/png": "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",
            "text/plain": [
              "<Figure size 1500x500 with 3 Axes>"
<<<<<<< Updated upstream
            ]
=======
            ],
            "image/png": "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\n"
>>>>>>> Stashed changes
          },
          "metadata": {},
          "output_type": "display_data"
        }
      ],
      "source": [
        "plot_distributions(raw_notes)"
      ]
    },
    {
      "cell_type": "markdown",
      "metadata": {
        "id": "poIivompcfS4"
      },
      "source": [
        "## Create a MIDI file\n",
        "\n",
        "You can generate your own MIDI file from a list of notes using the function below."
      ]
    },
    {
      "cell_type": "code",
      "execution_count": null,
      "metadata": {
        "execution": {
          "iopub.execute_input": "2023-10-27T05:49:27.111241Z",
          "iopub.status.busy": "2023-10-27T05:49:27.110601Z",
          "iopub.status.idle": "2023-10-27T05:49:27.116133Z",
          "shell.execute_reply": "2023-10-27T05:49:27.115497Z"
        },
        "id": "BD5rsMRARYoV"
      },
      "outputs": [],
      "source": [
        "def notes_to_midi(\n",
        "  notes: pd.DataFrame,\n",
        "  out_file: str,\n",
        "  instrument_name: str,\n",
        "  velocity: int = 100,  # note loudness\n",
        ") -> pretty_midi.PrettyMIDI:\n",
        "\n",
        "  pm = pretty_midi.PrettyMIDI()\n",
        "  instrument = pretty_midi.Instrument(\n",
        "      program=pretty_midi.instrument_name_to_program(\n",
        "          instrument_name))\n",
        "\n",
        "  prev_start = 0\n",
        "  for i, note in notes.iterrows():\n",
        "    start = float(prev_start + note['step'])\n",
        "    end = float(start + note['duration'])\n",
        "    note = pretty_midi.Note(\n",
        "        velocity=velocity,\n",
        "        pitch=int(note['pitch']),\n",
        "        start=start,\n",
        "        end=end,\n",
        "    )\n",
        "    instrument.notes.append(note)\n",
        "    prev_start = start\n",
        "\n",
        "  pm.instruments.append(instrument)\n",
        "  pm.write(out_file)\n",
        "  return pm"
      ]
    },
    {
      "cell_type": "code",
      "execution_count": null,
      "metadata": {
        "execution": {
          "iopub.execute_input": "2023-10-27T05:49:27.119331Z",
          "iopub.status.busy": "2023-10-27T05:49:27.118817Z",
          "iopub.status.idle": "2023-10-27T05:49:27.428690Z",
          "shell.execute_reply": "2023-10-27T05:49:27.427818Z"
        },
        "id": "wTazLbuWPIPF"
      },
      "outputs": [],
      "source": [
        "voice_file = 'voice_basic_pitch.mid'\n",
        "example_pm = notes_to_midi(\n",
        "    raw_notes, out_file=voice_file, instrument_name=instrument_name)"
      ]
    },
    {
      "cell_type": "markdown",
      "metadata": {
        "id": "XG0N9zZV_4Gp"
      },
      "source": [
        "Play the generated MIDI file and see if there is any difference."
      ]
    },
    {
      "cell_type": "code",
      "execution_count": null,
      "metadata": {
        "colab": {
          "base_uri": "https://localhost:8080/",
          "height": 317
        },
        "execution": {
          "iopub.execute_input": "2023-10-27T05:49:27.432584Z",
          "iopub.status.busy": "2023-10-27T05:49:27.432071Z",
          "iopub.status.idle": "2023-10-27T05:49:30.572182Z",
          "shell.execute_reply": "2023-10-27T05:49:30.571436Z"
        },
        "id": "fGRLs-eR_4uK",
        "outputId": "4fdd8aee-1bb7-4b06-8968-c291ac5b555f"
      },
      "outputs": [
        {
          "ename": "AttributeError",
          "evalue": "module 'fluidsynth' has no attribute 'Synth'",
          "output_type": "error",
          "traceback": [
            "\u001b[0;31m---------------------------------------------------------------------------\u001b[0m",
            "\u001b[0;31mAttributeError\u001b[0m                            Traceback (most recent call last)",
            "\u001b[0;32m<ipython-input-51-12f8bc710b76>\u001b[0m in \u001b[0;36m<cell line: 1>\u001b[0;34m()\u001b[0m\n\u001b[0;32m----> 1\u001b[0;31m \u001b[0mdisplay_audio\u001b[0m\u001b[0;34m(\u001b[0m\u001b[0mexample_pm\u001b[0m\u001b[0;34m)\u001b[0m\u001b[0;34m\u001b[0m\u001b[0;34m\u001b[0m\u001b[0m\n\u001b[0m",
            "\u001b[0;32m<ipython-input-32-7eb544aa0221>\u001b[0m in \u001b[0;36mdisplay_audio\u001b[0;34m(pm, seconds)\u001b[0m\n\u001b[1;32m      1\u001b[0m \u001b[0;32mdef\u001b[0m \u001b[0mdisplay_audio\u001b[0m\u001b[0;34m(\u001b[0m\u001b[0mpm\u001b[0m\u001b[0;34m:\u001b[0m \u001b[0mpretty_midi\u001b[0m\u001b[0;34m.\u001b[0m\u001b[0mPrettyMIDI\u001b[0m\u001b[0;34m,\u001b[0m \u001b[0mseconds\u001b[0m\u001b[0;34m=\u001b[0m\u001b[0;36m10\u001b[0m\u001b[0;34m)\u001b[0m\u001b[0;34m:\u001b[0m\u001b[0;34m\u001b[0m\u001b[0;34m\u001b[0m\u001b[0m\n\u001b[0;32m----> 2\u001b[0;31m   \u001b[0mwaveform\u001b[0m \u001b[0;34m=\u001b[0m \u001b[0mpm\u001b[0m\u001b[0;34m.\u001b[0m\u001b[0mfluidsynth\u001b[0m\u001b[0;34m(\u001b[0m\u001b[0mfs\u001b[0m\u001b[0;34m=\u001b[0m\u001b[0m_SAMPLING_RATE\u001b[0m\u001b[0;34m)\u001b[0m\u001b[0;34m\u001b[0m\u001b[0;34m\u001b[0m\u001b[0m\n\u001b[0m\u001b[1;32m      3\u001b[0m   \u001b[0;31m# Take a sample of the generated waveform to mitigate kernel resets\u001b[0m\u001b[0;34m\u001b[0m\u001b[0;34m\u001b[0m\u001b[0m\n\u001b[1;32m      4\u001b[0m   \u001b[0mwaveform_short\u001b[0m \u001b[0;34m=\u001b[0m \u001b[0mwaveform\u001b[0m\u001b[0;34m[\u001b[0m\u001b[0;34m:\u001b[0m\u001b[0mseconds\u001b[0m\u001b[0;34m*\u001b[0m\u001b[0m_SAMPLING_RATE\u001b[0m\u001b[0;34m]\u001b[0m\u001b[0;34m\u001b[0m\u001b[0;34m\u001b[0m\u001b[0m\n\u001b[1;32m      5\u001b[0m   \u001b[0;32mreturn\u001b[0m \u001b[0mdisplay\u001b[0m\u001b[0;34m.\u001b[0m\u001b[0mAudio\u001b[0m\u001b[0;34m(\u001b[0m\u001b[0mwaveform_short\u001b[0m\u001b[0;34m,\u001b[0m \u001b[0mrate\u001b[0m\u001b[0;34m=\u001b[0m\u001b[0m_SAMPLING_RATE\u001b[0m\u001b[0;34m)\u001b[0m\u001b[0;34m\u001b[0m\u001b[0;34m\u001b[0m\u001b[0m\n",
            "\u001b[0;32m/usr/local/lib/python3.10/dist-packages/pretty_midi/pretty_midi.py\u001b[0m in \u001b[0;36mfluidsynth\u001b[0;34m(self, fs, sf2_path)\u001b[0m\n\u001b[1;32m    972\u001b[0m             \u001b[0;32mreturn\u001b[0m \u001b[0mnp\u001b[0m\u001b[0;34m.\u001b[0m\u001b[0marray\u001b[0m\u001b[0;34m(\u001b[0m\u001b[0;34m[\u001b[0m\u001b[0;34m]\u001b[0m\u001b[0;34m)\u001b[0m\u001b[0;34m\u001b[0m\u001b[0;34m\u001b[0m\u001b[0m\n\u001b[1;32m    973\u001b[0m         \u001b[0;31m# Get synthesized waveform for each instrument\u001b[0m\u001b[0;34m\u001b[0m\u001b[0;34m\u001b[0m\u001b[0m\n\u001b[0;32m--> 974\u001b[0;31m         waveforms = [i.fluidsynth(fs=fs,\n\u001b[0m\u001b[1;32m    975\u001b[0m                                   sf2_path=sf2_path) for i in self.instruments]\n\u001b[1;32m    976\u001b[0m         \u001b[0;31m# Allocate output waveform, with #sample = max length of all waveforms\u001b[0m\u001b[0;34m\u001b[0m\u001b[0;34m\u001b[0m\u001b[0m\n",
            "\u001b[0;32m/usr/local/lib/python3.10/dist-packages/pretty_midi/pretty_midi.py\u001b[0m in \u001b[0;36m<listcomp>\u001b[0;34m(.0)\u001b[0m\n\u001b[1;32m    972\u001b[0m             \u001b[0;32mreturn\u001b[0m \u001b[0mnp\u001b[0m\u001b[0;34m.\u001b[0m\u001b[0marray\u001b[0m\u001b[0;34m(\u001b[0m\u001b[0;34m[\u001b[0m\u001b[0;34m]\u001b[0m\u001b[0;34m)\u001b[0m\u001b[0;34m\u001b[0m\u001b[0;34m\u001b[0m\u001b[0m\n\u001b[1;32m    973\u001b[0m         \u001b[0;31m# Get synthesized waveform for each instrument\u001b[0m\u001b[0;34m\u001b[0m\u001b[0;34m\u001b[0m\u001b[0m\n\u001b[0;32m--> 974\u001b[0;31m         waveforms = [i.fluidsynth(fs=fs,\n\u001b[0m\u001b[1;32m    975\u001b[0m                                   sf2_path=sf2_path) for i in self.instruments]\n\u001b[1;32m    976\u001b[0m         \u001b[0;31m# Allocate output waveform, with #sample = max length of all waveforms\u001b[0m\u001b[0;34m\u001b[0m\u001b[0;34m\u001b[0m\u001b[0m\n",
            "\u001b[0;32m/usr/local/lib/python3.10/dist-packages/pretty_midi/instrument.py\u001b[0m in \u001b[0;36mfluidsynth\u001b[0;34m(self, fs, sf2_path)\u001b[0m\n\u001b[1;32m    466\u001b[0m \u001b[0;34m\u001b[0m\u001b[0m\n\u001b[1;32m    467\u001b[0m         \u001b[0;31m# Create fluidsynth instance\u001b[0m\u001b[0;34m\u001b[0m\u001b[0;34m\u001b[0m\u001b[0m\n\u001b[0;32m--> 468\u001b[0;31m         \u001b[0mfl\u001b[0m \u001b[0;34m=\u001b[0m \u001b[0mfluidsynth\u001b[0m\u001b[0;34m.\u001b[0m\u001b[0mSynth\u001b[0m\u001b[0;34m(\u001b[0m\u001b[0msamplerate\u001b[0m\u001b[0;34m=\u001b[0m\u001b[0mfs\u001b[0m\u001b[0;34m)\u001b[0m\u001b[0;34m\u001b[0m\u001b[0;34m\u001b[0m\u001b[0m\n\u001b[0m\u001b[1;32m    469\u001b[0m         \u001b[0;31m# Load in the soundfont\u001b[0m\u001b[0;34m\u001b[0m\u001b[0;34m\u001b[0m\u001b[0m\n\u001b[1;32m    470\u001b[0m         \u001b[0msfid\u001b[0m \u001b[0;34m=\u001b[0m \u001b[0mfl\u001b[0m\u001b[0;34m.\u001b[0m\u001b[0msfload\u001b[0m\u001b[0;34m(\u001b[0m\u001b[0msf2_path\u001b[0m\u001b[0;34m)\u001b[0m\u001b[0;34m\u001b[0m\u001b[0;34m\u001b[0m\u001b[0m\n",
            "\u001b[0;31mAttributeError\u001b[0m: module 'fluidsynth' has no attribute 'Synth'"
          ]
        }
      ],
      "source": [
        "display_audio(example_pm)"
      ]
    },
    {
      "cell_type": "markdown",
      "metadata": {
        "id": "CLrUscjhBzYc"
      },
      "source": [
        "As before, you can write ```files.download(example_file)``` to download and play this file."
      ]
    },
    {
      "cell_type": "markdown",
      "metadata": {
        "id": "pfRNk9tEScuf"
      },
      "source": [
        "## Create the training dataset\n"
      ]
    },
    {
      "cell_type": "markdown",
      "metadata": {
        "id": "b77zHR1udDrK"
      },
      "source": [
        "Create the training dataset by extracting notes from the MIDI files. You can start by using a small number of files, and experiment later with more. This may take a couple minutes."
      ]
    },
    {
      "cell_type": "code",
      "execution_count": null,
      "metadata": {
        "execution": {
          "iopub.execute_input": "2023-10-27T05:49:30.593454Z",
          "iopub.status.busy": "2023-10-27T05:49:30.592666Z",
          "iopub.status.idle": "2023-10-27T05:49:32.530301Z",
          "shell.execute_reply": "2023-10-27T05:49:32.529521Z"
        },
        "id": "GiaQiTnXSW-T"
      },
      "outputs": [],
      "source": [
        "num_files = 100\n",
        "all_notes = []\n",
        "for f in filenames[:num_files]:\n",
        "  notes = midi_to_notes(f)\n",
        "  all_notes.append(notes)\n",
        "\n",
        "all_notes = pd.concat(all_notes)"
      ]
    },
    {
      "cell_type": "code",
      "execution_count": null,
      "metadata": {
        "colab": {
          "base_uri": "https://localhost:8080/"
        },
        "execution": {
          "iopub.execute_input": "2023-10-27T05:49:32.534426Z",
          "iopub.status.busy": "2023-10-27T05:49:32.534127Z",
          "iopub.status.idle": "2023-10-27T05:49:32.538351Z",
          "shell.execute_reply": "2023-10-27T05:49:32.537668Z"
        },
        "id": "F4bMDeRvgWqx",
        "outputId": "0cfb932d-0d58-4b7f-f37a-762104d6434b"
      },
      "outputs": [
        {
          "name": "stdout",
          "output_type": "stream",
          "text": [
            "Number of notes parsed: 728774\n"
          ]
        }
      ],
      "source": [
        "n_notes = len(all_notes)\n",
        "print('Number of notes parsed:', n_notes)"
      ]
    },
    {
      "cell_type": "markdown",
      "metadata": {
        "id": "xIBLvj-cODWS"
      },
      "source": [
        "Next, create a `tf.data.Dataset` from the parsed notes."
      ]
    },
    {
      "cell_type": "code",
      "execution_count": null,
      "metadata": {
        "execution": {
          "iopub.execute_input": "2023-10-27T05:49:32.541778Z",
          "iopub.status.busy": "2023-10-27T05:49:32.541144Z",
          "iopub.status.idle": "2023-10-27T05:49:32.545241Z",
          "shell.execute_reply": "2023-10-27T05:49:32.544603Z"
        },
        "id": "mvNHCHZdXG2P"
      },
      "outputs": [],
      "source": [
        "key_order = ['pitch', 'step', 'duration']\n",
        "train_notes = np.stack([all_notes[key] for key in key_order], axis=1)"
      ]
    },
    {
      "cell_type": "code",
      "execution_count": null,
      "metadata": {
        "colab": {
          "base_uri": "https://localhost:8080/"
        },
        "execution": {
          "iopub.execute_input": "2023-10-27T05:49:32.548388Z",
          "iopub.status.busy": "2023-10-27T05:49:32.547812Z",
          "iopub.status.idle": "2023-10-27T05:49:34.742499Z",
          "shell.execute_reply": "2023-10-27T05:49:34.741818Z"
        },
        "id": "PLC_19tshyFk",
        "outputId": "2386f0e0-b2c3-4227-9e3d-940ae86dbe89"
      },
      "outputs": [
        {
          "data": {
            "text/plain": [
              "TensorSpec(shape=(3,), dtype=tf.float64, name=None)"
            ]
          },
          "execution_count": 63,
          "metadata": {},
<<<<<<< Updated upstream
          "output_type": "execute_result"
=======
          "execution_count": 38
>>>>>>> Stashed changes
        }
      ],
      "source": [
        "notes_ds = tf.data.Dataset.from_tensor_slices(train_notes)\n",
        "notes_ds.element_spec"
      ]
    },
    {
      "cell_type": "markdown",
      "metadata": {
        "id": "Sj9SXRCjt3I7"
      },
      "source": [
        "You will train the model on batches of sequences of notes. Each example will consist of a sequence of notes as the input features, and the next note as the label. In this way, the model will be trained to predict the next note in a sequence. You can find a diagram describing this process (and more details) in [Text classification with an RNN](https://www.tensorflow.org/text/tutorials/text_generation).\n",
        "\n",
        "You can use the handy [window](https://www.tensorflow.org/api_docs/python/tf/data/Dataset#window) function with size `seq_length` to create the features and labels in this format."
      ]
    },
    {
      "cell_type": "code",
      "execution_count": null,
      "metadata": {
        "execution": {
          "iopub.execute_input": "2023-10-27T05:49:34.746089Z",
          "iopub.status.busy": "2023-10-27T05:49:34.745838Z",
          "iopub.status.idle": "2023-10-27T05:49:34.751939Z",
          "shell.execute_reply": "2023-10-27T05:49:34.751356Z"
        },
        "id": "ZkEC-5s6wJJV"
      },
      "outputs": [],
      "source": [
        "def create_sequences(\n",
        "    dataset: tf.data.Dataset,\n",
        "    seq_length: int,\n",
        "    vocab_size = 128,\n",
        ") -> tf.data.Dataset:\n",
        "  \"\"\"Returns TF Dataset of sequence and label examples.\"\"\"\n",
        "  seq_length = seq_length+1\n",
        "\n",
        "  # Take 1 extra for the labels\n",
        "  windows = dataset.window(seq_length, shift=1, stride=1,\n",
        "                              drop_remainder=True)\n",
        "\n",
        "  # `flat_map` flattens the\" dataset of datasets\" into a dataset of tensors\n",
        "  flatten = lambda x: x.batch(seq_length, drop_remainder=True)\n",
        "  sequences = windows.flat_map(flatten)\n",
        "\n",
        "  # Normalize note pitch\n",
        "  def scale_pitch(x):\n",
        "    x = x/[vocab_size,1.0,1.0]\n",
        "    return x\n",
        "\n",
        "  # Split the labels\n",
        "  def split_labels(sequences):\n",
        "    inputs = sequences[:-1]\n",
        "    labels_dense = sequences[-1]\n",
        "    labels = {key:labels_dense[i] for i,key in enumerate(key_order)}\n",
        "\n",
        "    return scale_pitch(inputs), labels\n",
        "\n",
        "  return sequences.map(split_labels, num_parallel_calls=tf.data.AUTOTUNE)"
      ]
    },
    {
      "cell_type": "markdown",
      "metadata": {
        "id": "2xDX5pVkegrv"
      },
      "source": [
        "Set the sequence length for each example. Experiment with different lengths (e.g. 50, 100, 150) to see which one works best for the data, or use [hyperparameter tuning](https://www.tensorflow.org/tutorials/keras/keras_tuner). The size of the vocabulary (`vocab_size`) is set to 128 representing all the pitches supported by `pretty_midi`."
      ]
    },
    {
      "cell_type": "code",
      "execution_count": null,
      "metadata": {
        "colab": {
          "base_uri": "https://localhost:8080/"
        },
        "execution": {
          "iopub.execute_input": "2023-10-27T05:49:34.755296Z",
          "iopub.status.busy": "2023-10-27T05:49:34.754816Z",
          "iopub.status.idle": "2023-10-27T05:49:34.850722Z",
          "shell.execute_reply": "2023-10-27T05:49:34.850146Z"
        },
        "id": "fGA3VxcFXZ4T",
        "outputId": "a6e13d80-2f6d-4318-82e9-1f697a09d24e"
      },
      "outputs": [
        {
          "data": {
            "text/plain": [
              "(TensorSpec(shape=(25, 3), dtype=tf.float64, name=None),\n",
              " {'pitch': TensorSpec(shape=(), dtype=tf.float64, name=None),\n",
              "  'step': TensorSpec(shape=(), dtype=tf.float64, name=None),\n",
              "  'duration': TensorSpec(shape=(), dtype=tf.float64, name=None)})"
            ]
          },
          "execution_count": 65,
          "metadata": {},
<<<<<<< Updated upstream
          "output_type": "execute_result"
=======
          "execution_count": 40
>>>>>>> Stashed changes
        }
      ],
      "source": [
        "seq_length = 25\n",
        "vocab_size = 128\n",
        "seq_ds = create_sequences(notes_ds, seq_length, vocab_size)\n",
        "seq_ds.element_spec"
      ]
    },
    {
      "cell_type": "markdown",
      "metadata": {
        "id": "AX9nKmSYetGo"
      },
      "source": [
        "The shape of the dataset is ```(100,1)```, meaning that the model will take 100 notes as input, and learn to predict the following note as output."
      ]
    },
    {
      "cell_type": "code",
      "execution_count": null,
      "metadata": {
        "colab": {
          "base_uri": "https://localhost:8080/"
        },
        "execution": {
          "iopub.execute_input": "2023-10-27T05:49:34.854291Z",
          "iopub.status.busy": "2023-10-27T05:49:34.853656Z",
          "iopub.status.idle": "2023-10-27T05:49:34.913971Z",
          "shell.execute_reply": "2023-10-27T05:49:34.913266Z"
        },
        "id": "ESK9cL7__TF3",
        "outputId": "72bb9afa-9399-40dd-e9f5-6e560e68dcb4"
      },
      "outputs": [
        {
          "name": "stdout",
          "output_type": "stream",
          "text": [
            "sequence shape: (25, 3)\n",
            "sequence elements (first 10): tf.Tensor(\n",
            "[[0.6328125  0.         0.0703125 ]\n",
            " [0.6640625  0.02994792 0.07291667]\n",
            " [0.6875     0.03255208 0.046875  ]\n",
            " [0.59375    0.31510417 0.03776042]\n",
            " [0.5390625  0.0078125  0.03645833]\n",
            " [0.5703125  0.015625   0.03645833]\n",
            " [0.4765625  0.26953125 0.04166667]\n",
            " [0.5        0.0078125  0.02734375]\n",
            " [0.4453125  0.00130208 0.03385417]\n",
            " [0.4609375  0.32291667 0.04296875]], shape=(10, 3), dtype=float64)\n",
            "\n",
            "target: {'pitch': <tf.Tensor: shape=(), dtype=float64, numpy=71.0>, 'step': <tf.Tensor: shape=(), dtype=float64, numpy=0.013020833333333481>, 'duration': <tf.Tensor: shape=(), dtype=float64, numpy=0.02994791666666652>}\n"
          ]
        }
      ],
      "source": [
        "for seq, target in seq_ds.take(1):\n",
        "  print('sequence shape:', seq.shape)\n",
        "  print('sequence elements (first 10):', seq[0: 10])\n",
        "  print()\n",
        "  print('target:', target)"
      ]
    },
    {
      "cell_type": "markdown",
      "metadata": {
        "id": "kR3TVZZGk5Qq"
      },
      "source": [
        "Batch the examples, and configure the dataset for performance."
      ]
    },
    {
      "cell_type": "code",
      "execution_count": null,
      "metadata": {
        "execution": {
          "iopub.execute_input": "2023-10-27T05:49:34.917542Z",
          "iopub.status.busy": "2023-10-27T05:49:34.916944Z",
          "iopub.status.idle": "2023-10-27T05:49:35.898556Z",
          "shell.execute_reply": "2023-10-27T05:49:35.897869Z"
        },
        "id": "fTpFoiM_AV_Y"
      },
      "outputs": [],
      "source": [
        "batch_size = 64\n",
        "buffer_size = n_notes - seq_length  # the number of items in the dataset\n",
        "train_ds = (seq_ds\n",
        "            .shuffle(buffer_size)\n",
        "            .batch(batch_size, drop_remainder=True)\n",
        "            .cache()\n",
        "            .prefetch(tf.data.experimental.AUTOTUNE))"
      ]
    },
    {
      "cell_type": "code",
      "execution_count": null,
      "metadata": {
        "colab": {
          "base_uri": "https://localhost:8080/"
        },
        "execution": {
          "iopub.execute_input": "2023-10-27T05:49:35.902303Z",
          "iopub.status.busy": "2023-10-27T05:49:35.902059Z",
          "iopub.status.idle": "2023-10-27T05:49:35.906779Z",
          "shell.execute_reply": "2023-10-27T05:49:35.906186Z"
        },
        "id": "LySbjV0GzXQu",
        "outputId": "0f2e5604-7faa-4f15-954d-8de04ff00a45"
      },
      "outputs": [
        {
          "data": {
            "text/plain": [
              "(TensorSpec(shape=(64, 25, 3), dtype=tf.float64, name=None),\n",
              " {'pitch': TensorSpec(shape=(64,), dtype=tf.float64, name=None),\n",
              "  'step': TensorSpec(shape=(64,), dtype=tf.float64, name=None),\n",
              "  'duration': TensorSpec(shape=(64,), dtype=tf.float64, name=None)})"
            ]
          },
          "execution_count": 68,
          "metadata": {},
<<<<<<< Updated upstream
          "output_type": "execute_result"
=======
          "execution_count": 46
>>>>>>> Stashed changes
        }
      ],
      "source": [
        "train_ds.element_spec"
      ]
    },
    {
      "cell_type": "markdown",
      "metadata": {
        "id": "cWZmfkshqP8G"
      },
      "source": [
        "## Create and train the model"
      ]
    },
    {
      "cell_type": "markdown",
      "metadata": {
        "id": "iGQn32q-hdK2"
      },
      "source": [
        "The model will have three outputs, one for each note variable. For `step` and `duration`, you will use a custom loss function based on mean squared error that encourages the model to output non-negative values."
      ]
    },
    {
      "cell_type": "code",
      "execution_count": null,
      "metadata": {
        "execution": {
          "iopub.execute_input": "2023-10-27T05:49:35.910163Z",
          "iopub.status.busy": "2023-10-27T05:49:35.909617Z",
          "iopub.status.idle": "2023-10-27T05:49:35.913210Z",
          "shell.execute_reply": "2023-10-27T05:49:35.912637Z"
        },
        "id": "erxLOif08e8v"
      },
      "outputs": [],
      "source": [
        "def mse_with_positive_pressure(y_true: tf.Tensor, y_pred: tf.Tensor):\n",
        "  mse = (y_true - y_pred) ** 2\n",
        "  positive_pressure = 10 * tf.maximum(-y_pred, 0.0)\n",
        "  return tf.reduce_mean(mse + positive_pressure)"
      ]
    },
    {
      "cell_type": "code",
      "execution_count": null,
      "metadata": {
        "colab": {
          "base_uri": "https://localhost:8080/"
        },
        "execution": {
          "iopub.execute_input": "2023-10-27T05:49:35.916227Z",
          "iopub.status.busy": "2023-10-27T05:49:35.915840Z",
          "iopub.status.idle": "2023-10-27T05:49:36.321780Z",
          "shell.execute_reply": "2023-10-27T05:49:36.321133Z"
        },
        "id": "kNaVWcCzAm5V",
        "outputId": "c781c6a6-649f-4e7e-f7cd-81cdcd4e4ba7"
      },
      "outputs": [
        {
          "name": "stdout",
          "output_type": "stream",
          "text": [
            "Model: \"model\"\n",
            "__________________________________________________________________________________________________\n",
            " Layer (type)                Output Shape                 Param #   Connected to                  \n",
            "==================================================================================================\n",
            " input_1 (InputLayer)        [(None, 25, 3)]              0         []                            \n",
            "                                                                                                  \n",
            " lstm (LSTM)                 (None, 128)                  67584     ['input_1[0][0]']             \n",
            "                                                                                                  \n",
            " duration (Dense)            (None, 1)                    129       ['lstm[0][0]']                \n",
            "                                                                                                  \n",
            " pitch (Dense)               (None, 128)                  16512     ['lstm[0][0]']                \n",
            "                                                                                                  \n",
            " step (Dense)                (None, 1)                    129       ['lstm[0][0]']                \n",
            "                                                                                                  \n",
            "==================================================================================================\n",
            "Total params: 84354 (329.51 KB)\n",
            "Trainable params: 84354 (329.51 KB)\n",
            "Non-trainable params: 0 (0.00 Byte)\n",
            "__________________________________________________________________________________________________\n"
          ]
        }
      ],
      "source": [
        "input_shape = (seq_length, 3)\n",
        "learning_rate = 0.005\n",
        "\n",
        "inputs = tf.keras.Input(input_shape)\n",
        "x = tf.keras.layers.LSTM(128)(inputs)\n",
        "\n",
        "outputs = {\n",
        "  'pitch': tf.keras.layers.Dense(128, name='pitch')(x),\n",
        "  'step': tf.keras.layers.Dense(1, name='step')(x),\n",
        "  'duration': tf.keras.layers.Dense(1, name='duration')(x),\n",
        "}\n",
        "\n",
        "model = tf.keras.Model(inputs, outputs)\n",
        "\n",
        "loss = {\n",
        "      'pitch': tf.keras.losses.SparseCategoricalCrossentropy(\n",
        "          from_logits=True),\n",
        "      'step': mse_with_positive_pressure,\n",
        "      'duration': mse_with_positive_pressure,\n",
        "}\n",
        "\n",
        "optimizer = tf.keras.optimizers.Adam(learning_rate=learning_rate)\n",
        "\n",
        "model.compile(loss=loss, optimizer=optimizer)\n",
        "\n",
        "model.summary()"
      ]
    },
    {
      "cell_type": "markdown",
      "metadata": {
        "id": "VDL0Jypt3eU5"
      },
      "source": [
        "Testing the `model.evaluate` function, you can see that the `pitch` loss is significantly greater than the `step` and `duration` losses.\n",
        "Note that `loss` is the total loss computed by summing all the other losses and is currently dominated by the `pitch` loss."
      ]
    },
    {
      "cell_type": "code",
      "execution_count": null,
      "metadata": {
        "execution": {
          "iopub.execute_input": "2023-10-27T05:49:36.329835Z",
          "iopub.status.busy": "2023-10-27T05:49:36.329196Z",
          "iopub.status.idle": "2023-10-27T05:49:39.968077Z",
          "shell.execute_reply": "2023-10-27T05:49:39.967243Z"
        },
        "id": "BlATt7Rl0XJl"
      },
<<<<<<< Updated upstream
      "outputs": [
        {
          "name": "stdout",
          "output_type": "stream",
          "text": [
            "6781/6781 [==============================] - 71s 3ms/step - loss: 5.1790 - duration_loss: 0.1654 - pitch_loss: 4.8575 - step_loss: 0.1561\n"
          ]
        },
        {
          "data": {
            "text/plain": [
              "{'loss': 5.178973197937012,\n",
              " 'duration_loss': 0.16537311673164368,\n",
              " 'pitch_loss': 4.857506275177002,\n",
              " 'step_loss': 0.1560831069946289}"
            ]
          },
          "execution_count": 71,
          "metadata": {},
          "output_type": "execute_result"
        }
      ],
=======
      "outputs": [],
>>>>>>> Stashed changes
      "source": [
        "losses = model.evaluate(train_ds, return_dict=True)\n",
        "losses"
      ]
    },
    {
      "cell_type": "markdown",
      "metadata": {
        "id": "KLvNLvtR3W59"
      },
      "source": [
        "One way balance this is to use the `loss_weights` argument to compile:"
      ]
    },
    {
      "cell_type": "code",
      "execution_count": null,
      "metadata": {
        "execution": {
          "iopub.execute_input": "2023-10-27T05:49:39.971964Z",
          "iopub.status.busy": "2023-10-27T05:49:39.971339Z",
          "iopub.status.idle": "2023-10-27T05:49:39.980154Z",
          "shell.execute_reply": "2023-10-27T05:49:39.979557Z"
        },
        "id": "9fQB5SiN3ufX"
      },
      "outputs": [],
      "source": [
        "model.compile(\n",
        "    loss=loss,\n",
        "    loss_weights={\n",
        "        'pitch': 0.05,\n",
        "        'step': 1.0,\n",
        "        'duration':1.0,\n",
        "    },\n",
        "    optimizer=optimizer,\n",
        ")"
      ]
    },
    {
      "cell_type": "markdown",
      "metadata": {
        "id": "nPMUnIMelHgR"
      },
      "source": [
        "The `loss` then becomes the weighted sum of the individual losses."
      ]
    },
    {
      "cell_type": "code",
      "execution_count": null,
      "metadata": {
        "colab": {
          "base_uri": "https://localhost:8080/"
        },
        "execution": {
          "iopub.execute_input": "2023-10-27T05:49:39.983505Z",
          "iopub.status.busy": "2023-10-27T05:49:39.982993Z",
          "iopub.status.idle": "2023-10-27T05:49:41.529270Z",
          "shell.execute_reply": "2023-10-27T05:49:41.528538Z"
        },
        "id": "T7CzWmFR38ut",
        "outputId": "5f1e1a56-a062-4346-c290-1013775dd081"
      },
      "outputs": [
        {
          "name": "stdout",
          "output_type": "stream",
          "text": [
            "214/214 [==============================] - 2s 3ms/step - loss: 1.1704 - duration_loss: 0.7957 - pitch_loss: 4.8611 - step_loss: 0.1316\n"
          ]
        },
        {
          "data": {
            "text/plain": [
              "{'loss': 1.1704301834106445,\n",
              " 'duration_loss': 0.7957400679588318,\n",
              " 'pitch_loss': 4.861086368560791,\n",
              " 'step_loss': 0.13163532316684723}"
            ]
          },
          "execution_count": 40,
          "metadata": {},
          "output_type": "execute_result"
        }
      ],
      "source": [
        "model.evaluate(train_ds, return_dict=True)"
      ]
    },
    {
      "cell_type": "markdown",
      "metadata": {
        "id": "SJbn7HZgfosr"
      },
      "source": [
        "Train the model."
      ]
    },
    {
      "cell_type": "code",
      "execution_count": null,
      "metadata": {
        "execution": {
          "iopub.execute_input": "2023-10-27T05:49:41.533240Z",
          "iopub.status.busy": "2023-10-27T05:49:41.532589Z",
          "iopub.status.idle": "2023-10-27T05:49:41.536815Z",
          "shell.execute_reply": "2023-10-27T05:49:41.536131Z"
        },
        "id": "uQA_rwKEgPjp"
      },
      "outputs": [],
      "source": [
        "callbacks = [\n",
        "    tf.keras.callbacks.ModelCheckpoint(\n",
        "        filepath='./training_checkpoints/ckpt_{epoch}',\n",
        "        save_weights_only=True),\n",
        "    tf.keras.callbacks.EarlyStopping(\n",
        "        monitor='loss',\n",
        "        patience=5,\n",
        "        verbose=1,\n",
        "        restore_best_weights=True),\n",
        "]"
      ]
    },
    {
      "cell_type": "code",
      "execution_count": null,
      "metadata": {
        "colab": {
<<<<<<< Updated upstream
          "base_uri": "https://localhost:8080/"
=======
          "base_uri": "https://localhost:8080/",
          "height": 453
>>>>>>> Stashed changes
        },
        "execution": {
          "iopub.execute_input": "2023-10-27T05:49:41.540069Z",
          "iopub.status.busy": "2023-10-27T05:49:41.539587Z",
          "iopub.status.idle": "2023-10-27T05:50:35.597977Z",
          "shell.execute_reply": "2023-10-27T05:50:35.597181Z"
        },
        "id": "aLoYY8-XaPFN",
<<<<<<< Updated upstream
        "outputId": "3ffcd6f8-6fc6-4e9b-d773-144de2494306"
=======
        "outputId": "c4b0be51-a1f5-4dba-88df-380b36d7e953"
>>>>>>> Stashed changes
      },
      "outputs": [
        {
          "name": "stdout",
          "output_type": "stream",
          "text": [
            "Epoch 1/50\n"
          ]
        },
        {
          "output_type": "error",
          "ename": "KeyboardInterrupt",
          "evalue": "",
          "traceback": [
            "\u001b[0;31m---------------------------------------------------------------------------\u001b[0m",
            "\u001b[0;31mKeyboardInterrupt\u001b[0m                         Traceback (most recent call last)",
            "\u001b[0;32m<timed exec>\u001b[0m in \u001b[0;36m<module>\u001b[0;34m\u001b[0m\n",
            "\u001b[0;32m/usr/local/lib/python3.10/dist-packages/keras/src/utils/traceback_utils.py\u001b[0m in \u001b[0;36merror_handler\u001b[0;34m(*args, **kwargs)\u001b[0m\n\u001b[1;32m     63\u001b[0m         \u001b[0mfiltered_tb\u001b[0m \u001b[0;34m=\u001b[0m \u001b[0;32mNone\u001b[0m\u001b[0;34m\u001b[0m\u001b[0;34m\u001b[0m\u001b[0m\n\u001b[1;32m     64\u001b[0m         \u001b[0;32mtry\u001b[0m\u001b[0;34m:\u001b[0m\u001b[0;34m\u001b[0m\u001b[0;34m\u001b[0m\u001b[0m\n\u001b[0;32m---> 65\u001b[0;31m             \u001b[0;32mreturn\u001b[0m \u001b[0mfn\u001b[0m\u001b[0;34m(\u001b[0m\u001b[0;34m*\u001b[0m\u001b[0margs\u001b[0m\u001b[0;34m,\u001b[0m \u001b[0;34m**\u001b[0m\u001b[0mkwargs\u001b[0m\u001b[0;34m)\u001b[0m\u001b[0;34m\u001b[0m\u001b[0;34m\u001b[0m\u001b[0m\n\u001b[0m\u001b[1;32m     66\u001b[0m         \u001b[0;32mexcept\u001b[0m \u001b[0mException\u001b[0m \u001b[0;32mas\u001b[0m \u001b[0me\u001b[0m\u001b[0;34m:\u001b[0m\u001b[0;34m\u001b[0m\u001b[0;34m\u001b[0m\u001b[0m\n\u001b[1;32m     67\u001b[0m             \u001b[0mfiltered_tb\u001b[0m \u001b[0;34m=\u001b[0m \u001b[0m_process_traceback_frames\u001b[0m\u001b[0;34m(\u001b[0m\u001b[0me\u001b[0m\u001b[0;34m.\u001b[0m\u001b[0m__traceback__\u001b[0m\u001b[0;34m)\u001b[0m\u001b[0;34m\u001b[0m\u001b[0;34m\u001b[0m\u001b[0m\n",
            "\u001b[0;32m/usr/local/lib/python3.10/dist-packages/keras/src/engine/training.py\u001b[0m in \u001b[0;36mfit\u001b[0;34m(self, x, y, batch_size, epochs, verbose, callbacks, validation_split, validation_data, shuffle, class_weight, sample_weight, initial_epoch, steps_per_epoch, validation_steps, validation_batch_size, validation_freq, max_queue_size, workers, use_multiprocessing)\u001b[0m\n\u001b[1;32m   1805\u001b[0m                         ):\n\u001b[1;32m   1806\u001b[0m                             \u001b[0mcallbacks\u001b[0m\u001b[0;34m.\u001b[0m\u001b[0mon_train_batch_begin\u001b[0m\u001b[0;34m(\u001b[0m\u001b[0mstep\u001b[0m\u001b[0;34m)\u001b[0m\u001b[0;34m\u001b[0m\u001b[0;34m\u001b[0m\u001b[0m\n\u001b[0;32m-> 1807\u001b[0;31m                             \u001b[0mtmp_logs\u001b[0m \u001b[0;34m=\u001b[0m \u001b[0mself\u001b[0m\u001b[0;34m.\u001b[0m\u001b[0mtrain_function\u001b[0m\u001b[0;34m(\u001b[0m\u001b[0miterator\u001b[0m\u001b[0;34m)\u001b[0m\u001b[0;34m\u001b[0m\u001b[0;34m\u001b[0m\u001b[0m\n\u001b[0m\u001b[1;32m   1808\u001b[0m                             \u001b[0;32mif\u001b[0m \u001b[0mdata_handler\u001b[0m\u001b[0;34m.\u001b[0m\u001b[0mshould_sync\u001b[0m\u001b[0;34m:\u001b[0m\u001b[0;34m\u001b[0m\u001b[0;34m\u001b[0m\u001b[0m\n\u001b[1;32m   1809\u001b[0m                                 \u001b[0mcontext\u001b[0m\u001b[0;34m.\u001b[0m\u001b[0masync_wait\u001b[0m\u001b[0;34m(\u001b[0m\u001b[0;34m)\u001b[0m\u001b[0;34m\u001b[0m\u001b[0;34m\u001b[0m\u001b[0m\n",
            "\u001b[0;32m/usr/local/lib/python3.10/dist-packages/tensorflow/python/util/traceback_utils.py\u001b[0m in \u001b[0;36merror_handler\u001b[0;34m(*args, **kwargs)\u001b[0m\n\u001b[1;32m    148\u001b[0m     \u001b[0mfiltered_tb\u001b[0m \u001b[0;34m=\u001b[0m \u001b[0;32mNone\u001b[0m\u001b[0;34m\u001b[0m\u001b[0;34m\u001b[0m\u001b[0m\n\u001b[1;32m    149\u001b[0m     \u001b[0;32mtry\u001b[0m\u001b[0;34m:\u001b[0m\u001b[0;34m\u001b[0m\u001b[0;34m\u001b[0m\u001b[0m\n\u001b[0;32m--> 150\u001b[0;31m       \u001b[0;32mreturn\u001b[0m \u001b[0mfn\u001b[0m\u001b[0;34m(\u001b[0m\u001b[0;34m*\u001b[0m\u001b[0margs\u001b[0m\u001b[0;34m,\u001b[0m \u001b[0;34m**\u001b[0m\u001b[0mkwargs\u001b[0m\u001b[0;34m)\u001b[0m\u001b[0;34m\u001b[0m\u001b[0;34m\u001b[0m\u001b[0m\n\u001b[0m\u001b[1;32m    151\u001b[0m     \u001b[0;32mexcept\u001b[0m \u001b[0mException\u001b[0m \u001b[0;32mas\u001b[0m \u001b[0me\u001b[0m\u001b[0;34m:\u001b[0m\u001b[0;34m\u001b[0m\u001b[0;34m\u001b[0m\u001b[0m\n\u001b[1;32m    152\u001b[0m       \u001b[0mfiltered_tb\u001b[0m \u001b[0;34m=\u001b[0m \u001b[0m_process_traceback_frames\u001b[0m\u001b[0;34m(\u001b[0m\u001b[0me\u001b[0m\u001b[0;34m.\u001b[0m\u001b[0m__traceback__\u001b[0m\u001b[0;34m)\u001b[0m\u001b[0;34m\u001b[0m\u001b[0;34m\u001b[0m\u001b[0m\n",
            "\u001b[0;32m/usr/local/lib/python3.10/dist-packages/tensorflow/python/eager/polymorphic_function/polymorphic_function.py\u001b[0m in \u001b[0;36m__call__\u001b[0;34m(self, *args, **kwds)\u001b[0m\n\u001b[1;32m    830\u001b[0m \u001b[0;34m\u001b[0m\u001b[0m\n\u001b[1;32m    831\u001b[0m       \u001b[0;32mwith\u001b[0m \u001b[0mOptionalXlaContext\u001b[0m\u001b[0;34m(\u001b[0m\u001b[0mself\u001b[0m\u001b[0;34m.\u001b[0m\u001b[0m_jit_compile\u001b[0m\u001b[0;34m)\u001b[0m\u001b[0;34m:\u001b[0m\u001b[0;34m\u001b[0m\u001b[0;34m\u001b[0m\u001b[0m\n\u001b[0;32m--> 832\u001b[0;31m         \u001b[0mresult\u001b[0m \u001b[0;34m=\u001b[0m \u001b[0mself\u001b[0m\u001b[0;34m.\u001b[0m\u001b[0m_call\u001b[0m\u001b[0;34m(\u001b[0m\u001b[0;34m*\u001b[0m\u001b[0margs\u001b[0m\u001b[0;34m,\u001b[0m \u001b[0;34m**\u001b[0m\u001b[0mkwds\u001b[0m\u001b[0;34m)\u001b[0m\u001b[0;34m\u001b[0m\u001b[0;34m\u001b[0m\u001b[0m\n\u001b[0m\u001b[1;32m    833\u001b[0m \u001b[0;34m\u001b[0m\u001b[0m\n\u001b[1;32m    834\u001b[0m       \u001b[0mnew_tracing_count\u001b[0m \u001b[0;34m=\u001b[0m \u001b[0mself\u001b[0m\u001b[0;34m.\u001b[0m\u001b[0mexperimental_get_tracing_count\u001b[0m\u001b[0;34m(\u001b[0m\u001b[0;34m)\u001b[0m\u001b[0;34m\u001b[0m\u001b[0;34m\u001b[0m\u001b[0m\n",
            "\u001b[0;32m/usr/local/lib/python3.10/dist-packages/tensorflow/python/eager/polymorphic_function/polymorphic_function.py\u001b[0m in \u001b[0;36m_call\u001b[0;34m(self, *args, **kwds)\u001b[0m\n\u001b[1;32m    903\u001b[0m         \u001b[0;31m# Lifting succeeded, so variables are initialized and we can run the\u001b[0m\u001b[0;34m\u001b[0m\u001b[0;34m\u001b[0m\u001b[0m\n\u001b[1;32m    904\u001b[0m         \u001b[0;31m# no_variable_creation function.\u001b[0m\u001b[0;34m\u001b[0m\u001b[0;34m\u001b[0m\u001b[0m\n\u001b[0;32m--> 905\u001b[0;31m         return tracing_compilation.call_function(\n\u001b[0m\u001b[1;32m    906\u001b[0m             \u001b[0margs\u001b[0m\u001b[0;34m,\u001b[0m \u001b[0mkwds\u001b[0m\u001b[0;34m,\u001b[0m \u001b[0mself\u001b[0m\u001b[0;34m.\u001b[0m\u001b[0m_no_variable_creation_config\u001b[0m\u001b[0;34m\u001b[0m\u001b[0;34m\u001b[0m\u001b[0m\n\u001b[1;32m    907\u001b[0m         )\n",
            "\u001b[0;32m/usr/local/lib/python3.10/dist-packages/tensorflow/python/eager/polymorphic_function/tracing_compilation.py\u001b[0m in \u001b[0;36mcall_function\u001b[0;34m(args, kwargs, tracing_options)\u001b[0m\n\u001b[1;32m    137\u001b[0m   \u001b[0mbound_args\u001b[0m \u001b[0;34m=\u001b[0m \u001b[0mfunction\u001b[0m\u001b[0;34m.\u001b[0m\u001b[0mfunction_type\u001b[0m\u001b[0;34m.\u001b[0m\u001b[0mbind\u001b[0m\u001b[0;34m(\u001b[0m\u001b[0;34m*\u001b[0m\u001b[0margs\u001b[0m\u001b[0;34m,\u001b[0m \u001b[0;34m**\u001b[0m\u001b[0mkwargs\u001b[0m\u001b[0;34m)\u001b[0m\u001b[0;34m\u001b[0m\u001b[0;34m\u001b[0m\u001b[0m\n\u001b[1;32m    138\u001b[0m   \u001b[0mflat_inputs\u001b[0m \u001b[0;34m=\u001b[0m \u001b[0mfunction\u001b[0m\u001b[0;34m.\u001b[0m\u001b[0mfunction_type\u001b[0m\u001b[0;34m.\u001b[0m\u001b[0munpack_inputs\u001b[0m\u001b[0;34m(\u001b[0m\u001b[0mbound_args\u001b[0m\u001b[0;34m)\u001b[0m\u001b[0;34m\u001b[0m\u001b[0;34m\u001b[0m\u001b[0m\n\u001b[0;32m--> 139\u001b[0;31m   return function._call_flat(  # pylint: disable=protected-access\n\u001b[0m\u001b[1;32m    140\u001b[0m       \u001b[0mflat_inputs\u001b[0m\u001b[0;34m,\u001b[0m \u001b[0mcaptured_inputs\u001b[0m\u001b[0;34m=\u001b[0m\u001b[0mfunction\u001b[0m\u001b[0;34m.\u001b[0m\u001b[0mcaptured_inputs\u001b[0m\u001b[0;34m\u001b[0m\u001b[0;34m\u001b[0m\u001b[0m\n\u001b[1;32m    141\u001b[0m   )\n",
            "\u001b[0;32m/usr/local/lib/python3.10/dist-packages/tensorflow/python/eager/polymorphic_function/concrete_function.py\u001b[0m in \u001b[0;36m_call_flat\u001b[0;34m(self, tensor_inputs, captured_inputs)\u001b[0m\n\u001b[1;32m   1321\u001b[0m         and executing_eagerly):\n\u001b[1;32m   1322\u001b[0m       \u001b[0;31m# No tape is watching; skip to running the function.\u001b[0m\u001b[0;34m\u001b[0m\u001b[0;34m\u001b[0m\u001b[0m\n\u001b[0;32m-> 1323\u001b[0;31m       \u001b[0;32mreturn\u001b[0m \u001b[0mself\u001b[0m\u001b[0;34m.\u001b[0m\u001b[0m_inference_function\u001b[0m\u001b[0;34m.\u001b[0m\u001b[0mcall_preflattened\u001b[0m\u001b[0;34m(\u001b[0m\u001b[0margs\u001b[0m\u001b[0;34m)\u001b[0m\u001b[0;34m\u001b[0m\u001b[0;34m\u001b[0m\u001b[0m\n\u001b[0m\u001b[1;32m   1324\u001b[0m     forward_backward = self._select_forward_and_backward_functions(\n\u001b[1;32m   1325\u001b[0m         \u001b[0margs\u001b[0m\u001b[0;34m,\u001b[0m\u001b[0;34m\u001b[0m\u001b[0;34m\u001b[0m\u001b[0m\n",
            "\u001b[0;32m/usr/local/lib/python3.10/dist-packages/tensorflow/python/eager/polymorphic_function/atomic_function.py\u001b[0m in \u001b[0;36mcall_preflattened\u001b[0;34m(self, args)\u001b[0m\n\u001b[1;32m    214\u001b[0m   \u001b[0;32mdef\u001b[0m \u001b[0mcall_preflattened\u001b[0m\u001b[0;34m(\u001b[0m\u001b[0mself\u001b[0m\u001b[0;34m,\u001b[0m \u001b[0margs\u001b[0m\u001b[0;34m:\u001b[0m \u001b[0mSequence\u001b[0m\u001b[0;34m[\u001b[0m\u001b[0mcore\u001b[0m\u001b[0;34m.\u001b[0m\u001b[0mTensor\u001b[0m\u001b[0;34m]\u001b[0m\u001b[0;34m)\u001b[0m \u001b[0;34m->\u001b[0m \u001b[0mAny\u001b[0m\u001b[0;34m:\u001b[0m\u001b[0;34m\u001b[0m\u001b[0;34m\u001b[0m\u001b[0m\n\u001b[1;32m    215\u001b[0m     \u001b[0;34m\"\"\"Calls with flattened tensor inputs and returns the structured output.\"\"\"\u001b[0m\u001b[0;34m\u001b[0m\u001b[0;34m\u001b[0m\u001b[0m\n\u001b[0;32m--> 216\u001b[0;31m     \u001b[0mflat_outputs\u001b[0m \u001b[0;34m=\u001b[0m \u001b[0mself\u001b[0m\u001b[0;34m.\u001b[0m\u001b[0mcall_flat\u001b[0m\u001b[0;34m(\u001b[0m\u001b[0;34m*\u001b[0m\u001b[0margs\u001b[0m\u001b[0;34m)\u001b[0m\u001b[0;34m\u001b[0m\u001b[0;34m\u001b[0m\u001b[0m\n\u001b[0m\u001b[1;32m    217\u001b[0m     \u001b[0;32mreturn\u001b[0m \u001b[0mself\u001b[0m\u001b[0;34m.\u001b[0m\u001b[0mfunction_type\u001b[0m\u001b[0;34m.\u001b[0m\u001b[0mpack_output\u001b[0m\u001b[0;34m(\u001b[0m\u001b[0mflat_outputs\u001b[0m\u001b[0;34m)\u001b[0m\u001b[0;34m\u001b[0m\u001b[0;34m\u001b[0m\u001b[0m\n\u001b[1;32m    218\u001b[0m \u001b[0;34m\u001b[0m\u001b[0m\n",
            "\u001b[0;32m/usr/local/lib/python3.10/dist-packages/tensorflow/python/eager/polymorphic_function/atomic_function.py\u001b[0m in \u001b[0;36mcall_flat\u001b[0;34m(self, *args)\u001b[0m\n\u001b[1;32m    249\u001b[0m         \u001b[0;32mwith\u001b[0m \u001b[0mrecord\u001b[0m\u001b[0;34m.\u001b[0m\u001b[0mstop_recording\u001b[0m\u001b[0;34m(\u001b[0m\u001b[0;34m)\u001b[0m\u001b[0;34m:\u001b[0m\u001b[0;34m\u001b[0m\u001b[0;34m\u001b[0m\u001b[0m\n\u001b[1;32m    250\u001b[0m           \u001b[0;32mif\u001b[0m \u001b[0mself\u001b[0m\u001b[0;34m.\u001b[0m\u001b[0m_bound_context\u001b[0m\u001b[0;34m.\u001b[0m\u001b[0mexecuting_eagerly\u001b[0m\u001b[0;34m(\u001b[0m\u001b[0;34m)\u001b[0m\u001b[0;34m:\u001b[0m\u001b[0;34m\u001b[0m\u001b[0;34m\u001b[0m\u001b[0m\n\u001b[0;32m--> 251\u001b[0;31m             outputs = self._bound_context.call_function(\n\u001b[0m\u001b[1;32m    252\u001b[0m                 \u001b[0mself\u001b[0m\u001b[0;34m.\u001b[0m\u001b[0mname\u001b[0m\u001b[0;34m,\u001b[0m\u001b[0;34m\u001b[0m\u001b[0;34m\u001b[0m\u001b[0m\n\u001b[1;32m    253\u001b[0m                 \u001b[0mlist\u001b[0m\u001b[0;34m(\u001b[0m\u001b[0margs\u001b[0m\u001b[0;34m)\u001b[0m\u001b[0;34m,\u001b[0m\u001b[0;34m\u001b[0m\u001b[0;34m\u001b[0m\u001b[0m\n",
            "\u001b[0;32m/usr/local/lib/python3.10/dist-packages/tensorflow/python/eager/context.py\u001b[0m in \u001b[0;36mcall_function\u001b[0;34m(self, name, tensor_inputs, num_outputs)\u001b[0m\n\u001b[1;32m   1484\u001b[0m     \u001b[0mcancellation_context\u001b[0m \u001b[0;34m=\u001b[0m \u001b[0mcancellation\u001b[0m\u001b[0;34m.\u001b[0m\u001b[0mcontext\u001b[0m\u001b[0;34m(\u001b[0m\u001b[0;34m)\u001b[0m\u001b[0;34m\u001b[0m\u001b[0;34m\u001b[0m\u001b[0m\n\u001b[1;32m   1485\u001b[0m     \u001b[0;32mif\u001b[0m \u001b[0mcancellation_context\u001b[0m \u001b[0;32mis\u001b[0m \u001b[0;32mNone\u001b[0m\u001b[0;34m:\u001b[0m\u001b[0;34m\u001b[0m\u001b[0;34m\u001b[0m\u001b[0m\n\u001b[0;32m-> 1486\u001b[0;31m       outputs = execute.execute(\n\u001b[0m\u001b[1;32m   1487\u001b[0m           \u001b[0mname\u001b[0m\u001b[0;34m.\u001b[0m\u001b[0mdecode\u001b[0m\u001b[0;34m(\u001b[0m\u001b[0;34m\"utf-8\"\u001b[0m\u001b[0;34m)\u001b[0m\u001b[0;34m,\u001b[0m\u001b[0;34m\u001b[0m\u001b[0;34m\u001b[0m\u001b[0m\n\u001b[1;32m   1488\u001b[0m           \u001b[0mnum_outputs\u001b[0m\u001b[0;34m=\u001b[0m\u001b[0mnum_outputs\u001b[0m\u001b[0;34m,\u001b[0m\u001b[0;34m\u001b[0m\u001b[0;34m\u001b[0m\u001b[0m\n",
            "\u001b[0;32m/usr/local/lib/python3.10/dist-packages/tensorflow/python/eager/execute.py\u001b[0m in \u001b[0;36mquick_execute\u001b[0;34m(op_name, num_outputs, inputs, attrs, ctx, name)\u001b[0m\n\u001b[1;32m     51\u001b[0m   \u001b[0;32mtry\u001b[0m\u001b[0;34m:\u001b[0m\u001b[0;34m\u001b[0m\u001b[0;34m\u001b[0m\u001b[0m\n\u001b[1;32m     52\u001b[0m     \u001b[0mctx\u001b[0m\u001b[0;34m.\u001b[0m\u001b[0mensure_initialized\u001b[0m\u001b[0;34m(\u001b[0m\u001b[0;34m)\u001b[0m\u001b[0;34m\u001b[0m\u001b[0;34m\u001b[0m\u001b[0m\n\u001b[0;32m---> 53\u001b[0;31m     tensors = pywrap_tfe.TFE_Py_Execute(ctx._handle, device_name, op_name,\n\u001b[0m\u001b[1;32m     54\u001b[0m                                         inputs, attrs, num_outputs)\n\u001b[1;32m     55\u001b[0m   \u001b[0;32mexcept\u001b[0m \u001b[0mcore\u001b[0m\u001b[0;34m.\u001b[0m\u001b[0m_NotOkStatusException\u001b[0m \u001b[0;32mas\u001b[0m \u001b[0me\u001b[0m\u001b[0;34m:\u001b[0m\u001b[0;34m\u001b[0m\u001b[0;34m\u001b[0m\u001b[0m\n",
            "\u001b[0;31mKeyboardInterrupt\u001b[0m: "
          ]
        }
      ],
      "source": [
        "%%time\n",
        "epochs = 50\n",
        "\n",
        "history = model.fit(\n",
        "    train_ds,\n",
        "    epochs=epochs,\n",
        "    callbacks=callbacks,\n",
        ")"
      ]
    },
    {
      "cell_type": "code",
<<<<<<< Updated upstream
      "execution_count": 92,
=======
      "execution_count": null,
>>>>>>> Stashed changes
      "metadata": {
        "colab": {
          "base_uri": "https://localhost:8080/"
        },
        "id": "3xddocwY-tAL",
        "outputId": "2a2fb88c-7dff-4150-8eaa-25703662a96c"
      },
      "outputs": [
        {
          "name": "stderr",
          "output_type": "stream",
          "text": [
            "/usr/local/lib/python3.10/dist-packages/keras/src/engine/training.py:3103: UserWarning: You are saving your model as an HDF5 file via `model.save()`. This file format is considered legacy. We recommend using instead the native Keras format, e.g. `model.save('my_model.keras')`.\n",
            "  saving_api.save_model(\n"
          ]
        }
      ],
      "source": [
        "model.save(\"music_generator.h5\")"
      ]
    },
    {
      "cell_type": "code",
      "execution_count": null,
      "metadata": {
        "colab": {
          "base_uri": "https://localhost:8080/",
          "height": 430
        },
        "execution": {
          "iopub.execute_input": "2023-10-27T05:50:35.601477Z",
          "iopub.status.busy": "2023-10-27T05:50:35.600923Z",
          "iopub.status.idle": "2023-10-27T05:50:35.703594Z",
          "shell.execute_reply": "2023-10-27T05:50:35.703004Z"
        },
        "id": "PYBSjgDWiUfT",
        "outputId": "c26486d5-bc97-450a-bd27-42f2103e4d14"
      },
      "outputs": [
        {
          "data": {
            "image/png": "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",
            "text/plain": [
              "<Figure size 640x480 with 1 Axes>"
            ]
          },
          "metadata": {},
          "output_type": "display_data"
        }
      ],
      "source": [
        "plt.plot(history.epoch, history.history['loss'], label='total loss')\n",
        "plt.show()"
      ]
    },
    {
      "cell_type": "code",
      "execution_count": null,
      "metadata": {
        "id": "Ql-14zDek5FJ"
      },
      "outputs": [],
      "source": [
        "import numpy as np\n",
        "import scipy.special\n",
        "# ASSUMPTIONS:\n",
        "# notes_sequence: numpy array of the sequence of notes so far\n",
        "# notes: numpy array of all 128 notes\n",
        "# -1 is sad, 1 is happy\n",
        "def emotion_classifier(notes_sequence, current_emotion):\n",
        "\n",
        "    notes_features = analyze_midi(notes_sequence)\n",
        "    notes_features = np.array([value for value in notes_features.values()])\n",
        "    notes_features = notes_features.reshape(1, -1)\n",
        "\n",
        "    kmeans_model.transform(notes_features)\n",
        "\n",
        "    # Calculate distances from centroids\n",
        "    distances = kmeans_model.transform(notes_features.reshape(1, -1))\n",
        "    softmax_distances = 1 - scipy.special.softmax(distances[0])\n",
        "    emotion = 1 if current_emotion == 1 else 0\n",
        "\n",
        "    # Find the index of the nearest cluster centroid\n",
        "    emotion_score = softmax_distances[emotion]\n",
        "\n",
        "    # Now you have the index of the nearest cluster centroid,\n",
        "    # you can use it to classify the new point\n",
        "    print(\"Predicted score for the new point:\", emotion_score)\n",
        "\n",
        "    return emotion_score\n",
        "\n",
        "\n",
        "def pitch_logits_emotion_encloser(notes_sequence, pitches, pitch_logits, step, duration, label):\n",
        "    # to tune hyperparameters\n",
        "    alpha = 0.5\n",
        "    beta = 0.5\n",
        "    # everything happens after the prediction of the net\n",
        "    # now we vectorize and do computations to output pitch logits influenced by the emotion\n",
        "    vect_notes_sequence = np.array([notes_sequence] * 128)\n",
        "    vect_step = np.array([step] * 128)\n",
        "    vect_duration = np.array([duration] * 128)\n",
        "\n",
        "    pitches = np.expand_dims(pitches, axis=1)\n",
        "    vect_new_note = np.hstack((pitches, vect_step, vect_duration))\n",
        "    vect_new_note = vect_new_note.reshape((128,1,3))\n",
        "    vect_notes_sequence = np.hstack((vect_notes_sequence, vect_new_note))\n",
        "    emotion_score = emotion_classifier(vect_notes_sequence, label)\n",
        "\n",
        "    logits = alpha*pitch_logits + beta*emotion_score\n",
        "\n",
        "    return logits\n",
        "\n",
        "def step_emotion_encloser():\n",
        "    #label is assumed 1 or -1 according to the emotion\n",
        "    # to tune hyperparameters\n",
        "    gamma_mean = 1.0\n",
        "    gamma_std = 0.1\n",
        "    gamma = abs(1-np.random.normal(gamma_mean, gamma_std, 1))\n",
        "    return gamma\n",
        "\n",
        "\n",
        "def duration_emotion_encloser():\n",
        "    #label is assumed 1 or -1 according to the emotion\n",
        "    # to tune hyperparameters\n",
        "    delta_mean = 1.0\n",
        "    delta_std = 0.1\n",
        "    delta = abs(1-np.random.normal(delta_mean, delta_std, 1))\n",
        "    return delta\n",
        "\n"
      ]
    },
    {
      "cell_type": "markdown",
      "metadata": {
        "id": "Yg7YjsbD2ZKc"
      },
      "source": [
        "## import kmeans model"
      ]
    },
    {
      "cell_type": "markdown",
      "metadata": {
        "id": "aPWI94lQ8uQA"
      },
      "source": [
        "## Generate notes"
      ]
    },
    {
      "cell_type": "markdown",
      "metadata": {
        "id": "Wbaoiy4Hf-n5"
      },
      "source": [
        "To use the model to generate notes, you will first need to provide a starting sequence of notes. The function below generates one note from a sequence of notes.\n",
        "\n",
        "For note pitch, it draws a sample from the softmax distribution of notes produced by the model, and does not simply pick the note with the highest probability.\n",
        "Always picking the note with the highest probability would lead to repetitive sequences of notes being generated.\n",
        "\n",
        "The `temperature` parameter can be used to control the randomness of notes generated. You can find more details on temperature in [Text generation with an RNN](https://www.tensorflow.org/text/tutorials/text_generation)."
      ]
    },
    {
      "cell_type": "code",
      "execution_count": null,
      "metadata": {
        "execution": {
          "iopub.execute_input": "2023-10-27T05:50:35.709746Z",
          "iopub.status.busy": "2023-10-27T05:50:35.709360Z",
          "iopub.status.idle": "2023-10-27T05:50:35.714724Z",
          "shell.execute_reply": "2023-10-27T05:50:35.714131Z"
        },
        "id": "1mil8ZyJNe1w"
      },
      "outputs": [],
      "source": [
        "def predict_next_note(\n",
        "    pitches: np.ndarray,\n",
        "    notes: np.ndarray,\n",
        "    model: tf.keras.Model,\n",
        "    temperature: float = 1.0) -> tuple[int, float, float]:\n",
        "  \"\"\"Generates a note as a tuple of (pitch, step, duration), using a trained sequence model.\"\"\"\n",
        "\n",
        "  assert temperature > 0\n",
        "\n",
        "  # Add batch dimension\n",
        "  inputs = tf.expand_dims(notes, 0)\n",
        "\n",
        "\n",
        "  predictions = model.predict(inputs)\n",
        "  pitch_logits = predictions['pitch']\n",
        "  step = predictions['step']\n",
        "  duration = predictions['duration']\n",
        "  pitch_logits = pitch_logits_emotion_encloser(notes, pitches, pitch_logits, step, duration, label)\n",
        "  pitch_logits /= temperature\n",
        "  pitch = tf.random.categorical(pitch_logits, num_samples=1)\n",
        "  pitch = tf.squeeze(pitch, axis=-1)\n",
        "  duration = tf.squeeze(duration, axis=-1)\n",
        "  step = tf.squeeze(step, axis=-1)\n",
        "\n",
        "  # `step` and `duration` values should be non-negative\n",
        "  step = tf.maximum(0, step)\n",
        "  duration = tf.maximum(0, duration)\n",
        "\n",
        "  return int(pitch), float(step), float(duration)"
      ]
    },
    {
      "cell_type": "markdown",
      "metadata": {
        "id": "W64K-EX3hxU_"
      },
      "source": [
        "Now generate some notes. You can play around with temperature and the starting sequence in `next_notes` and see what happens."
      ]
    },
    {
      "cell_type": "code",
      "execution_count": null,
      "metadata": {
        "colab": {
          "base_uri": "https://localhost:8080/"
        },
        "execution": {
          "iopub.execute_input": "2023-10-27T05:50:35.720463Z",
          "iopub.status.busy": "2023-10-27T05:50:35.720078Z",
          "iopub.status.idle": "2023-10-27T05:50:46.044919Z",
          "shell.execute_reply": "2023-10-27T05:50:46.044150Z"
        },
        "id": "87fPl4auPdR3",
        "outputId": "b37420be-ff4a-4ce6-c92a-cf8e7fee6bd1"
      },
      "outputs": [
        {
          "name": "stdout",
          "output_type": "stream",
          "text": [
<<<<<<< Updated upstream
            "1/1 [==============================] - 0s 439ms/step\n"
          ]
        },
        {
          "ename": "AttributeError",
          "evalue": "'numpy.ndarray' object has no attribute 'start'",
          "output_type": "error",
          "traceback": [
            "\u001b[0;31m---------------------------------------------------------------------------\u001b[0m",
            "\u001b[0;31mAttributeError\u001b[0m                            Traceback (most recent call last)",
            "\u001b[0;32m<ipython-input-82-ee0166f099e8>\u001b[0m in \u001b[0;36m<cell line: 21>\u001b[0;34m()\u001b[0m\n\u001b[1;32m     20\u001b[0m \u001b[0;34m\u001b[0m\u001b[0m\n\u001b[1;32m     21\u001b[0m \u001b[0;32mfor\u001b[0m \u001b[0m_\u001b[0m \u001b[0;32min\u001b[0m \u001b[0mrange\u001b[0m\u001b[0;34m(\u001b[0m\u001b[0mnum_predictions\u001b[0m\u001b[0;34m)\u001b[0m\u001b[0;34m:\u001b[0m\u001b[0;34m\u001b[0m\u001b[0;34m\u001b[0m\u001b[0m\n\u001b[0;32m---> 22\u001b[0;31m   \u001b[0mpitch\u001b[0m\u001b[0;34m,\u001b[0m \u001b[0mstep\u001b[0m\u001b[0;34m,\u001b[0m \u001b[0mduration\u001b[0m \u001b[0;34m=\u001b[0m \u001b[0mpredict_next_note\u001b[0m\u001b[0;34m(\u001b[0m\u001b[0mpitches\u001b[0m\u001b[0;34m,\u001b[0m\u001b[0minput_notes\u001b[0m\u001b[0;34m,\u001b[0m \u001b[0mmodel\u001b[0m\u001b[0;34m,\u001b[0m \u001b[0mtemperature\u001b[0m\u001b[0;34m)\u001b[0m\u001b[0;34m\u001b[0m\u001b[0;34m\u001b[0m\u001b[0m\n\u001b[0m\u001b[1;32m     23\u001b[0m   \u001b[0mstart\u001b[0m \u001b[0;34m=\u001b[0m \u001b[0mprev_start\u001b[0m \u001b[0;34m+\u001b[0m \u001b[0mstep\u001b[0m\u001b[0;34m\u001b[0m\u001b[0;34m\u001b[0m\u001b[0m\n\u001b[1;32m     24\u001b[0m   \u001b[0mend\u001b[0m \u001b[0;34m=\u001b[0m \u001b[0mstart\u001b[0m \u001b[0;34m+\u001b[0m \u001b[0mduration\u001b[0m\u001b[0;34m\u001b[0m\u001b[0;34m\u001b[0m\u001b[0m\n",
            "\u001b[0;32m<ipython-input-79-403efe298ea2>\u001b[0m in \u001b[0;36mpredict_next_note\u001b[0;34m(pitches, notes, model, temperature)\u001b[0m\n\u001b[1;32m     16\u001b[0m   \u001b[0mstep\u001b[0m \u001b[0;34m=\u001b[0m \u001b[0mpredictions\u001b[0m\u001b[0;34m[\u001b[0m\u001b[0;34m'step'\u001b[0m\u001b[0;34m]\u001b[0m\u001b[0;34m\u001b[0m\u001b[0;34m\u001b[0m\u001b[0m\n\u001b[1;32m     17\u001b[0m   \u001b[0mduration\u001b[0m \u001b[0;34m=\u001b[0m \u001b[0mpredictions\u001b[0m\u001b[0;34m[\u001b[0m\u001b[0;34m'duration'\u001b[0m\u001b[0;34m]\u001b[0m\u001b[0;34m\u001b[0m\u001b[0;34m\u001b[0m\u001b[0m\n\u001b[0;32m---> 18\u001b[0;31m   \u001b[0mpitch_logits\u001b[0m \u001b[0;34m=\u001b[0m \u001b[0mpitch_logits_emotion_encloser\u001b[0m\u001b[0;34m(\u001b[0m\u001b[0mnotes\u001b[0m\u001b[0;34m,\u001b[0m \u001b[0mpitches\u001b[0m\u001b[0;34m,\u001b[0m \u001b[0mpitch_logits\u001b[0m\u001b[0;34m,\u001b[0m \u001b[0mstep\u001b[0m\u001b[0;34m,\u001b[0m \u001b[0mduration\u001b[0m\u001b[0;34m,\u001b[0m \u001b[0mlabel\u001b[0m\u001b[0;34m)\u001b[0m\u001b[0;34m\u001b[0m\u001b[0;34m\u001b[0m\u001b[0m\n\u001b[0m\u001b[1;32m     19\u001b[0m   \u001b[0mpitch_logits\u001b[0m \u001b[0;34m/=\u001b[0m \u001b[0mtemperature\u001b[0m\u001b[0;34m\u001b[0m\u001b[0;34m\u001b[0m\u001b[0m\n\u001b[1;32m     20\u001b[0m   \u001b[0mpitch\u001b[0m \u001b[0;34m=\u001b[0m \u001b[0mtf\u001b[0m\u001b[0;34m.\u001b[0m\u001b[0mrandom\u001b[0m\u001b[0;34m.\u001b[0m\u001b[0mcategorical\u001b[0m\u001b[0;34m(\u001b[0m\u001b[0mpitch_logits\u001b[0m\u001b[0;34m,\u001b[0m \u001b[0mnum_samples\u001b[0m\u001b[0;34m=\u001b[0m\u001b[0;36m1\u001b[0m\u001b[0;34m)\u001b[0m\u001b[0;34m\u001b[0m\u001b[0;34m\u001b[0m\u001b[0m\n",
            "\u001b[0;32m<ipython-input-81-832317726b19>\u001b[0m in \u001b[0;36mpitch_logits_emotion_encloser\u001b[0;34m(notes_sequence, pitches, pitch_logits, step, duration, label)\u001b[0m\n\u001b[1;32m     41\u001b[0m     \u001b[0mvect_new_note\u001b[0m \u001b[0;34m=\u001b[0m \u001b[0mvect_new_note\u001b[0m\u001b[0;34m.\u001b[0m\u001b[0mreshape\u001b[0m\u001b[0;34m(\u001b[0m\u001b[0;34m(\u001b[0m\u001b[0;36m128\u001b[0m\u001b[0;34m,\u001b[0m\u001b[0;36m1\u001b[0m\u001b[0;34m,\u001b[0m\u001b[0;36m3\u001b[0m\u001b[0;34m)\u001b[0m\u001b[0;34m)\u001b[0m\u001b[0;34m\u001b[0m\u001b[0;34m\u001b[0m\u001b[0m\n\u001b[1;32m     42\u001b[0m     \u001b[0mvect_notes_sequence\u001b[0m \u001b[0;34m=\u001b[0m \u001b[0mnp\u001b[0m\u001b[0;34m.\u001b[0m\u001b[0mhstack\u001b[0m\u001b[0;34m(\u001b[0m\u001b[0;34m(\u001b[0m\u001b[0mvect_notes_sequence\u001b[0m\u001b[0;34m,\u001b[0m \u001b[0mvect_new_note\u001b[0m\u001b[0;34m)\u001b[0m\u001b[0;34m)\u001b[0m\u001b[0;34m\u001b[0m\u001b[0;34m\u001b[0m\u001b[0m\n\u001b[0;32m---> 43\u001b[0;31m     \u001b[0memotion_score\u001b[0m \u001b[0;34m=\u001b[0m \u001b[0memotion_classifier\u001b[0m\u001b[0;34m(\u001b[0m\u001b[0mvect_notes_sequence\u001b[0m\u001b[0;34m,\u001b[0m \u001b[0mlabel\u001b[0m\u001b[0;34m)\u001b[0m\u001b[0;34m\u001b[0m\u001b[0;34m\u001b[0m\u001b[0m\n\u001b[0m\u001b[1;32m     44\u001b[0m \u001b[0;34m\u001b[0m\u001b[0m\n\u001b[1;32m     45\u001b[0m     \u001b[0mlogits\u001b[0m \u001b[0;34m=\u001b[0m \u001b[0malpha\u001b[0m\u001b[0;34m*\u001b[0m\u001b[0mpitch_logits\u001b[0m \u001b[0;34m+\u001b[0m \u001b[0mbeta\u001b[0m\u001b[0;34m*\u001b[0m\u001b[0memotion_score\u001b[0m\u001b[0;34m\u001b[0m\u001b[0;34m\u001b[0m\u001b[0m\n",
            "\u001b[0;32m<ipython-input-81-832317726b19>\u001b[0m in \u001b[0;36memotion_classifier\u001b[0;34m(notes_sequence, current_emotion)\u001b[0m\n\u001b[1;32m      7\u001b[0m \u001b[0;32mdef\u001b[0m \u001b[0memotion_classifier\u001b[0m\u001b[0;34m(\u001b[0m\u001b[0mnotes_sequence\u001b[0m\u001b[0;34m,\u001b[0m \u001b[0mcurrent_emotion\u001b[0m\u001b[0;34m)\u001b[0m\u001b[0;34m:\u001b[0m\u001b[0;34m\u001b[0m\u001b[0;34m\u001b[0m\u001b[0m\n\u001b[1;32m      8\u001b[0m \u001b[0;34m\u001b[0m\u001b[0m\n\u001b[0;32m----> 9\u001b[0;31m     \u001b[0mnotes_features\u001b[0m \u001b[0;34m=\u001b[0m \u001b[0manalyze_midi\u001b[0m\u001b[0;34m(\u001b[0m\u001b[0mnotes_sequence\u001b[0m\u001b[0;34m)\u001b[0m\u001b[0;34m\u001b[0m\u001b[0;34m\u001b[0m\u001b[0m\n\u001b[0m\u001b[1;32m     10\u001b[0m     \u001b[0mnotes_features\u001b[0m \u001b[0;34m=\u001b[0m \u001b[0mnp\u001b[0m\u001b[0;34m.\u001b[0m\u001b[0marray\u001b[0m\u001b[0;34m(\u001b[0m\u001b[0;34m[\u001b[0m\u001b[0mvalue\u001b[0m \u001b[0;32mfor\u001b[0m \u001b[0mvalue\u001b[0m \u001b[0;32min\u001b[0m \u001b[0mnotes_features\u001b[0m\u001b[0;34m.\u001b[0m\u001b[0mvalues\u001b[0m\u001b[0;34m(\u001b[0m\u001b[0;34m)\u001b[0m\u001b[0;34m]\u001b[0m\u001b[0;34m)\u001b[0m\u001b[0;34m\u001b[0m\u001b[0;34m\u001b[0m\u001b[0m\n\u001b[1;32m     11\u001b[0m \u001b[0;34m\u001b[0m\u001b[0m\n",
            "\u001b[0;32m<ipython-input-29-10072b30b654>\u001b[0m in \u001b[0;36manalyze_midi\u001b[0;34m(notes_sequence)\u001b[0m\n\u001b[1;32m     16\u001b[0m \u001b[0;34m\u001b[0m\u001b[0m\n\u001b[1;32m     17\u001b[0m     \u001b[0;31m# get notes steps\u001b[0m\u001b[0;34m\u001b[0m\u001b[0;34m\u001b[0m\u001b[0m\n\u001b[0;32m---> 18\u001b[0;31m     \u001b[0msorted_notes\u001b[0m \u001b[0;34m=\u001b[0m \u001b[0msorted\u001b[0m\u001b[0;34m(\u001b[0m\u001b[0mnotes_sequence\u001b[0m\u001b[0;34m,\u001b[0m \u001b[0mkey\u001b[0m\u001b[0;34m=\u001b[0m\u001b[0;32mlambda\u001b[0m \u001b[0mnote\u001b[0m\u001b[0;34m:\u001b[0m \u001b[0mnote\u001b[0m\u001b[0;34m.\u001b[0m\u001b[0mstart\u001b[0m\u001b[0;34m)\u001b[0m\u001b[0;34m\u001b[0m\u001b[0;34m\u001b[0m\u001b[0m\n\u001b[0m\u001b[1;32m     19\u001b[0m     \u001b[0mprev_start\u001b[0m \u001b[0;34m=\u001b[0m \u001b[0msorted_notes\u001b[0m\u001b[0;34m[\u001b[0m\u001b[0;36m0\u001b[0m\u001b[0;34m]\u001b[0m\u001b[0;34m.\u001b[0m\u001b[0mstart\u001b[0m\u001b[0;34m\u001b[0m\u001b[0;34m\u001b[0m\u001b[0m\n\u001b[1;32m     20\u001b[0m     \u001b[0msteps\u001b[0m \u001b[0;34m=\u001b[0m \u001b[0;34m[\u001b[0m\u001b[0;34m]\u001b[0m\u001b[0;34m\u001b[0m\u001b[0;34m\u001b[0m\u001b[0m\n",
            "\u001b[0;32m<ipython-input-29-10072b30b654>\u001b[0m in \u001b[0;36m<lambda>\u001b[0;34m(note)\u001b[0m\n\u001b[1;32m     16\u001b[0m \u001b[0;34m\u001b[0m\u001b[0m\n\u001b[1;32m     17\u001b[0m     \u001b[0;31m# get notes steps\u001b[0m\u001b[0;34m\u001b[0m\u001b[0;34m\u001b[0m\u001b[0m\n\u001b[0;32m---> 18\u001b[0;31m     \u001b[0msorted_notes\u001b[0m \u001b[0;34m=\u001b[0m \u001b[0msorted\u001b[0m\u001b[0;34m(\u001b[0m\u001b[0mnotes_sequence\u001b[0m\u001b[0;34m,\u001b[0m \u001b[0mkey\u001b[0m\u001b[0;34m=\u001b[0m\u001b[0;32mlambda\u001b[0m \u001b[0mnote\u001b[0m\u001b[0;34m:\u001b[0m \u001b[0mnote\u001b[0m\u001b[0;34m.\u001b[0m\u001b[0mstart\u001b[0m\u001b[0;34m)\u001b[0m\u001b[0;34m\u001b[0m\u001b[0;34m\u001b[0m\u001b[0m\n\u001b[0m\u001b[1;32m     19\u001b[0m     \u001b[0mprev_start\u001b[0m \u001b[0;34m=\u001b[0m \u001b[0msorted_notes\u001b[0m\u001b[0;34m[\u001b[0m\u001b[0;36m0\u001b[0m\u001b[0;34m]\u001b[0m\u001b[0;34m.\u001b[0m\u001b[0mstart\u001b[0m\u001b[0;34m\u001b[0m\u001b[0;34m\u001b[0m\u001b[0m\n\u001b[1;32m     20\u001b[0m     \u001b[0msteps\u001b[0m \u001b[0;34m=\u001b[0m \u001b[0;34m[\u001b[0m\u001b[0;34m]\u001b[0m\u001b[0;34m\u001b[0m\u001b[0;34m\u001b[0m\u001b[0m\n",
            "\u001b[0;31mAttributeError\u001b[0m: 'numpy.ndarray' object has no attribute 'start'"
=======
            "1/1 [==============================] - 0s 350ms/step\n",
            "Predicted score for the new point: 1.5607582792842578e-07\n",
            "1/1 [==============================] - 0s 20ms/step\n",
            "Predicted score for the new point: 1.5614538750874374e-07\n",
            "1/1 [==============================] - 0s 17ms/step\n",
            "Predicted score for the new point: 1.562826603684897e-07\n",
            "1/1 [==============================] - 0s 19ms/step\n",
            "Predicted score for the new point: 1.5657911955901938e-07\n",
            "1/1 [==============================] - 0s 20ms/step\n",
            "Predicted score for the new point: 1.5845961565119637e-07\n",
            "1/1 [==============================] - 0s 20ms/step\n",
            "Predicted score for the new point: 1.5695445165775368e-07\n",
            "1/1 [==============================] - 0s 53ms/step\n",
            "Predicted score for the new point: 1.57258351785039e-07\n",
            "1/1 [==============================] - 0s 76ms/step\n",
            "Predicted score for the new point: 1.5913861095562254e-07\n",
            "1/1 [==============================] - 0s 66ms/step\n",
            "Predicted score for the new point: 1.57916077658804e-07\n",
            "1/1 [==============================] - 0s 49ms/step\n",
            "Predicted score for the new point: 1.5764687288921664e-07\n",
            "1/1 [==============================] - 0s 66ms/step\n",
            "Predicted score for the new point: 1.5589288093753595e-07\n",
            "1/1 [==============================] - 0s 32ms/step\n",
            "Predicted score for the new point: 1.5582794976598535e-07\n",
            "1/1 [==============================] - 0s 53ms/step\n",
            "Predicted score for the new point: 1.5610267800614253e-07\n",
            "1/1 [==============================] - 0s 34ms/step\n",
            "Predicted score for the new point: 1.5549125875757852e-07\n",
            "1/1 [==============================] - 0s 21ms/step\n",
            "Predicted score for the new point: 1.5532965813580546e-07\n",
            "1/1 [==============================] - 0s 19ms/step\n",
            "Predicted score for the new point: 1.5598910441116942e-07\n",
            "1/1 [==============================] - 0s 19ms/step\n",
            "Predicted score for the new point: 1.5566934452593273e-07\n",
            "1/1 [==============================] - 0s 21ms/step\n",
            "Predicted score for the new point: 1.5530559049903303e-07\n",
            "1/1 [==============================] - 0s 18ms/step\n",
            "Predicted score for the new point: 1.5670338437967501e-07\n",
            "1/1 [==============================] - 0s 19ms/step\n",
            "Predicted score for the new point: 1.5801520303337924e-07\n",
            "1/1 [==============================] - 0s 18ms/step\n",
            "Predicted score for the new point: 1.568197518508896e-07\n",
            "1/1 [==============================] - 0s 20ms/step\n",
            "Predicted score for the new point: 1.560711132553294e-07\n",
            "1/1 [==============================] - 0s 20ms/step\n",
            "Predicted score for the new point: 1.564544793719591e-07\n",
            "1/1 [==============================] - 0s 19ms/step\n",
            "Predicted score for the new point: 1.3424334763811885e-06\n",
            "1/1 [==============================] - 0s 20ms/step\n",
            "Predicted score for the new point: 6.190337475786567e-05\n",
            "1/1 [==============================] - 0s 19ms/step\n",
            "Predicted score for the new point: 0.020522153595296078\n",
            "1/1 [==============================] - 0s 18ms/step\n",
            "Predicted score for the new point: 0.557715063862345\n",
            "1/1 [==============================] - 0s 18ms/step\n",
            "Predicted score for the new point: 0.5693794528537882\n",
            "1/1 [==============================] - 0s 31ms/step\n",
            "Predicted score for the new point: 0.7354241385849678\n",
            "1/1 [==============================] - 0s 30ms/step\n",
            "Predicted score for the new point: 0.5883657512134193\n",
            "1/1 [==============================] - 0s 26ms/step\n",
            "Predicted score for the new point: 0.9500266335943989\n",
            "1/1 [==============================] - 0s 28ms/step\n",
            "Predicted score for the new point: 0.046538802094738374\n",
            "1/1 [==============================] - 0s 34ms/step\n",
            "Predicted score for the new point: 0.5070995172675387\n",
            "1/1 [==============================] - 0s 32ms/step\n",
            "Predicted score for the new point: 0.9578076640221356\n",
            "1/1 [==============================] - 0s 32ms/step\n",
            "Predicted score for the new point: 0.6721722882125871\n",
            "1/1 [==============================] - 0s 28ms/step\n",
            "Predicted score for the new point: 0.25165755258949707\n",
            "1/1 [==============================] - 0s 29ms/step\n",
            "Predicted score for the new point: 0.3402599037429499\n",
            "1/1 [==============================] - 0s 29ms/step\n",
            "Predicted score for the new point: 0.05428249380793637\n",
            "1/1 [==============================] - 0s 29ms/step\n",
            "Predicted score for the new point: 0.40330886704894187\n",
            "1/1 [==============================] - 0s 32ms/step\n",
            "Predicted score for the new point: 0.31894847592343245\n",
            "1/1 [==============================] - 0s 31ms/step\n",
            "Predicted score for the new point: 0.5420650282934034\n",
            "1/1 [==============================] - 0s 34ms/step\n",
            "Predicted score for the new point: 0.5420846074977728\n",
            "1/1 [==============================] - 0s 33ms/step\n",
            "Predicted score for the new point: 0.5322732090524205\n",
            "1/1 [==============================] - 0s 30ms/step\n",
            "Predicted score for the new point: 0.5642782808196276\n",
            "1/1 [==============================] - 0s 34ms/step\n",
            "Predicted score for the new point: 0.4981573677272165\n",
            "1/1 [==============================] - 0s 31ms/step\n",
            "Predicted score for the new point: 0.8510128749473512\n",
            "1/1 [==============================] - 0s 34ms/step\n",
            "Predicted score for the new point: 0.43799209558509455\n",
            "1/1 [==============================] - 0s 32ms/step\n",
            "Predicted score for the new point: 0.44466332905068584\n",
            "1/1 [==============================] - 0s 38ms/step\n",
            "Predicted score for the new point: 0.4106571439712975\n",
            "1/1 [==============================] - 0s 20ms/step\n",
            "Predicted score for the new point: 0.687381526521389\n",
            "1/1 [==============================] - 0s 19ms/step\n",
            "Predicted score for the new point: 0.951712595657115\n",
            "1/1 [==============================] - 0s 18ms/step\n",
            "Predicted score for the new point: 0.6523322815194514\n",
            "1/1 [==============================] - 0s 20ms/step\n",
            "Predicted score for the new point: 0.9622282071569204\n",
            "1/1 [==============================] - 0s 22ms/step\n",
            "Predicted score for the new point: 0.7815460320728055\n",
            "1/1 [==============================] - 0s 18ms/step\n",
            "Predicted score for the new point: 0.9579622817069229\n",
            "1/1 [==============================] - 0s 18ms/step\n",
            "Predicted score for the new point: 0.9580789217172343\n",
            "1/1 [==============================] - 0s 24ms/step\n",
            "Predicted score for the new point: 0.47518722235794864\n",
            "1/1 [==============================] - 0s 21ms/step\n",
            "Predicted score for the new point: 0.19182112941955942\n",
            "1/1 [==============================] - 0s 21ms/step\n",
            "Predicted score for the new point: 0.9564008690424466\n",
            "1/1 [==============================] - 0s 20ms/step\n",
            "Predicted score for the new point: 0.11110664201927023\n",
            "1/1 [==============================] - 0s 18ms/step\n",
            "Predicted score for the new point: 0.20637998340674057\n",
            "1/1 [==============================] - 0s 21ms/step\n",
            "Predicted score for the new point: 0.5809440439683684\n",
            "1/1 [==============================] - 0s 20ms/step\n",
            "Predicted score for the new point: 0.8104986495261447\n",
            "1/1 [==============================] - 0s 26ms/step\n",
            "Predicted score for the new point: 0.5767087016453608\n",
            "1/1 [==============================] - 0s 21ms/step\n",
            "Predicted score for the new point: 0.9349902070827932\n",
            "1/1 [==============================] - 0s 19ms/step\n",
            "Predicted score for the new point: 0.19036326165283124\n",
            "1/1 [==============================] - 0s 22ms/step\n",
            "Predicted score for the new point: 0.28079071495323216\n",
            "1/1 [==============================] - 0s 19ms/step\n",
            "Predicted score for the new point: 0.08406533772241154\n",
            "1/1 [==============================] - 0s 20ms/step\n",
            "Predicted score for the new point: 0.8986258604152744\n",
            "1/1 [==============================] - 0s 25ms/step\n",
            "Predicted score for the new point: 0.5481873024661144\n",
            "1/1 [==============================] - 0s 21ms/step\n",
            "Predicted score for the new point: 0.6080592376709891\n",
            "1/1 [==============================] - 0s 21ms/step\n",
            "Predicted score for the new point: 0.2044939278333605\n",
            "1/1 [==============================] - 0s 20ms/step\n",
            "Predicted score for the new point: 0.808616090698592\n",
            "1/1 [==============================] - 0s 20ms/step\n",
            "Predicted score for the new point: 0.2474282764833028\n",
            "1/1 [==============================] - 0s 21ms/step\n",
            "Predicted score for the new point: 0.4625257500891229\n",
            "1/1 [==============================] - 0s 22ms/step\n",
            "Predicted score for the new point: 0.04939044400748693\n",
            "1/1 [==============================] - 0s 18ms/step\n",
            "Predicted score for the new point: 0.9715187949302724\n",
            "1/1 [==============================] - 0s 21ms/step\n",
            "Predicted score for the new point: 0.44933298196857974\n",
            "1/1 [==============================] - 0s 20ms/step\n",
            "Predicted score for the new point: 0.18112075067989086\n",
            "1/1 [==============================] - 0s 22ms/step\n",
            "Predicted score for the new point: 0.29961669579931693\n",
            "1/1 [==============================] - 0s 20ms/step\n",
            "Predicted score for the new point: 0.5235575303226737\n",
            "1/1 [==============================] - 0s 22ms/step\n",
            "Predicted score for the new point: 0.9410032285002703\n",
            "1/1 [==============================] - 0s 21ms/step\n",
            "Predicted score for the new point: 0.39695941205419927\n",
            "1/1 [==============================] - 0s 31ms/step\n",
            "Predicted score for the new point: 0.79556085734565\n",
            "1/1 [==============================] - 0s 20ms/step\n",
            "Predicted score for the new point: 0.5351968218020875\n",
            "1/1 [==============================] - 0s 18ms/step\n",
            "Predicted score for the new point: 0.48435421619808405\n",
            "1/1 [==============================] - 0s 18ms/step\n",
            "Predicted score for the new point: 0.5704867986777897\n",
            "1/1 [==============================] - 0s 19ms/step\n",
            "Predicted score for the new point: 0.5508318974815898\n",
            "1/1 [==============================] - 0s 20ms/step\n",
            "Predicted score for the new point: 0.5087452768696574\n",
            "1/1 [==============================] - 0s 19ms/step\n",
            "Predicted score for the new point: 0.5296951474228808\n",
            "1/1 [==============================] - 0s 20ms/step\n",
            "Predicted score for the new point: 0.9662291726176203\n",
            "1/1 [==============================] - 0s 19ms/step\n",
            "Predicted score for the new point: 0.10020995812381672\n",
            "1/1 [==============================] - 0s 17ms/step\n",
            "Predicted score for the new point: 0.16424643131266803\n",
            "1/1 [==============================] - 0s 18ms/step\n",
            "Predicted score for the new point: 0.008272639764911438\n",
            "1/1 [==============================] - 0s 20ms/step\n",
            "Predicted score for the new point: 0.29998110439849024\n",
            "1/1 [==============================] - 0s 20ms/step\n",
            "Predicted score for the new point: 0.09731531929263004\n",
            "1/1 [==============================] - 0s 20ms/step\n",
            "Predicted score for the new point: 0.03840796260484858\n",
            "1/1 [==============================] - 0s 20ms/step\n",
            "Predicted score for the new point: 0.009859089485029227\n",
            "1/1 [==============================] - 0s 21ms/step\n",
            "Predicted score for the new point: 0.177906894956117\n",
            "1/1 [==============================] - 0s 21ms/step\n",
            "Predicted score for the new point: 0.15099391888182223\n",
            "1/1 [==============================] - 0s 19ms/step\n",
            "Predicted score for the new point: 0.058675169458885734\n",
            "1/1 [==============================] - 0s 21ms/step\n",
            "Predicted score for the new point: 0.5827389605772259\n",
            "1/1 [==============================] - 0s 20ms/step\n",
            "Predicted score for the new point: 0.7047513368477425\n",
            "1/1 [==============================] - 0s 19ms/step\n",
            "Predicted score for the new point: 0.957679161000698\n",
            "1/1 [==============================] - 0s 20ms/step\n",
            "Predicted score for the new point: 0.8244078915061304\n",
            "1/1 [==============================] - 0s 21ms/step\n",
            "Predicted score for the new point: 0.48808602315670724\n",
            "1/1 [==============================] - 0s 21ms/step\n",
            "Predicted score for the new point: 0.9216285773279671\n",
            "1/1 [==============================] - 0s 21ms/step\n",
            "Predicted score for the new point: 0.15684431650876351\n",
            "1/1 [==============================] - 0s 19ms/step\n",
            "Predicted score for the new point: 0.4680869249844134\n",
            "1/1 [==============================] - 0s 19ms/step\n",
            "Predicted score for the new point: 0.5750572387269522\n",
            "1/1 [==============================] - 0s 18ms/step\n",
            "Predicted score for the new point: 0.3536500291358815\n",
            "1/1 [==============================] - 0s 20ms/step\n",
            "Predicted score for the new point: 0.4237478715484474\n",
            "1/1 [==============================] - 0s 18ms/step\n",
            "Predicted score for the new point: 0.4378692769454613\n",
            "1/1 [==============================] - 0s 19ms/step\n",
            "Predicted score for the new point: 0.3868597307003403\n",
            "1/1 [==============================] - 0s 18ms/step\n",
            "Predicted score for the new point: 0.2701696648623434\n",
            "1/1 [==============================] - 0s 22ms/step\n",
            "Predicted score for the new point: 0.27357926205360916\n",
            "1/1 [==============================] - 0s 19ms/step\n",
            "Predicted score for the new point: 0.7228253948954106\n",
            "1/1 [==============================] - 0s 18ms/step\n",
            "Predicted score for the new point: 0.9193448522049075\n",
            "1/1 [==============================] - 0s 18ms/step\n",
            "Predicted score for the new point: 0.5564766879762069\n",
            "1/1 [==============================] - 0s 19ms/step\n",
            "Predicted score for the new point: 0.6384575008166339\n"
>>>>>>> Stashed changes
          ]
        }
      ],
      "source": [
        "from keras.models import load_model\n",
        "\n",
        "temperature = 2.0\n",
        "num_predictions = 120\n",
        "\n",
        "model = load_model('music_generator.h5', custom_objects={'mse_with_positive_pressure': mse_with_positive_pressure})\n",
        "sample_notes = np.stack([raw_notes[key] for key in key_order], axis=1)\n",
        "\n",
        "\n",
        "# The initial sequence of notes; pitch is normalized similar to training\n",
        "# sequences\n",
        "input_notes = (\n",
        "    sample_notes[:seq_length] / np.array([vocab_size, 1, 1]))\n",
        "generated_notes = []\n",
        "prev_start = 0\n",
        "pitches = np.arange(128)\n",
        "pitches = np.expand_dims(pitches, axis=1)\n",
        "gamma = step_emotion_encloser()\n",
        "delta = duration_emotion_encloser()\n",
        "\n",
        "for _ in range(num_predictions):\n",
        "  pitch, step, duration = predict_next_note(pitches,input_notes, model, temperature)\n",
        "  start = prev_start + step\n",
        "  end = start + duration\n",
        "  step = float(step * (1- label * gamma))\n",
        "  duration = float(duration * (1- label * delta))\n",
        "  input_note = (pitch, step, duration)\n",
        "  generated_notes.append((*input_note, start, end))\n",
        "  input_notes = np.delete(input_notes, 0, axis=0)\n",
        "  input_notes = np.append(input_notes, np.expand_dims(input_note, 0), axis=0)\n",
        "  prev_start = start\n",
        "\n",
        "generated_notes = pd.DataFrame(\n",
        "    generated_notes, columns=(*key_order, 'start', 'end'))"
      ]
    },
    {
      "cell_type": "code",
      "execution_count": null,
      "metadata": {
        "colab": {
          "base_uri": "https://localhost:8080/",
          "height": 53
        },
        "execution": {
          "iopub.execute_input": "2023-10-27T05:50:46.048657Z",
          "iopub.status.busy": "2023-10-27T05:50:46.047932Z",
          "iopub.status.idle": "2023-10-27T05:50:46.057577Z",
          "shell.execute_reply": "2023-10-27T05:50:46.056888Z"
        },
        "id": "0MK7HmqLuqka",
        "outputId": "cd31367e-cabc-44d5-ed82-f9719c988541"
      },
      "outputs": [
        {
          "data": {
            "text/html": [
              "\n",
              "  <div id=\"df-8c648da0-1f7e-485a-838a-dec653307729\" class=\"colab-df-container\">\n",
              "    <div>\n",
              "<style scoped>\n",
              "    .dataframe tbody tr th:only-of-type {\n",
              "        vertical-align: middle;\n",
              "    }\n",
              "\n",
              "    .dataframe tbody tr th {\n",
              "        vertical-align: top;\n",
              "    }\n",
              "\n",
              "    .dataframe thead th {\n",
              "        text-align: right;\n",
              "    }\n",
              "</style>\n",
              "<table border=\"1\" class=\"dataframe\">\n",
              "  <thead>\n",
              "    <tr style=\"text-align: right;\">\n",
              "      <th></th>\n",
              "      <th>pitch</th>\n",
              "      <th>step</th>\n",
              "      <th>duration</th>\n",
              "      <th>start</th>\n",
              "      <th>end</th>\n",
              "    </tr>\n",
              "  </thead>\n",
              "  <tbody>\n",
              "  </tbody>\n",
              "</table>\n",
              "</div>\n",
              "    <div class=\"colab-df-buttons\">\n",
              "\n",
              "  <div class=\"colab-df-container\">\n",
              "    <button class=\"colab-df-convert\" onclick=\"convertToInteractive('df-8c648da0-1f7e-485a-838a-dec653307729')\"\n",
              "            title=\"Convert this dataframe to an interactive table.\"\n",
              "            style=\"display:none;\">\n",
              "\n",
              "  <svg xmlns=\"http://www.w3.org/2000/svg\" height=\"24px\" viewBox=\"0 -960 960 960\">\n",
              "    <path d=\"M120-120v-720h720v720H120Zm60-500h600v-160H180v160Zm220 220h160v-160H400v160Zm0 220h160v-160H400v160ZM180-400h160v-160H180v160Zm440 0h160v-160H620v160ZM180-180h160v-160H180v160Zm440 0h160v-160H620v160Z\"/>\n",
              "  </svg>\n",
              "    </button>\n",
              "\n",
              "  <style>\n",
              "    .colab-df-container {\n",
              "      display:flex;\n",
              "      gap: 12px;\n",
              "    }\n",
              "\n",
              "    .colab-df-convert {\n",
              "      background-color: #E8F0FE;\n",
              "      border: none;\n",
              "      border-radius: 50%;\n",
              "      cursor: pointer;\n",
              "      display: none;\n",
              "      fill: #1967D2;\n",
              "      height: 32px;\n",
              "      padding: 0 0 0 0;\n",
              "      width: 32px;\n",
              "    }\n",
              "\n",
              "    .colab-df-convert:hover {\n",
              "      background-color: #E2EBFA;\n",
              "      box-shadow: 0px 1px 2px rgba(60, 64, 67, 0.3), 0px 1px 3px 1px rgba(60, 64, 67, 0.15);\n",
              "      fill: #174EA6;\n",
              "    }\n",
              "\n",
              "    .colab-df-buttons div {\n",
              "      margin-bottom: 4px;\n",
              "    }\n",
              "\n",
              "    [theme=dark] .colab-df-convert {\n",
              "      background-color: #3B4455;\n",
              "      fill: #D2E3FC;\n",
              "    }\n",
              "\n",
              "    [theme=dark] .colab-df-convert:hover {\n",
              "      background-color: #434B5C;\n",
              "      box-shadow: 0px 1px 3px 1px rgba(0, 0, 0, 0.15);\n",
              "      filter: drop-shadow(0px 1px 2px rgba(0, 0, 0, 0.3));\n",
              "      fill: #FFFFFF;\n",
              "    }\n",
              "  </style>\n",
              "\n",
              "    <script>\n",
              "      const buttonEl =\n",
              "        document.querySelector('#df-8c648da0-1f7e-485a-838a-dec653307729 button.colab-df-convert');\n",
              "      buttonEl.style.display =\n",
              "        google.colab.kernel.accessAllowed ? 'block' : 'none';\n",
              "\n",
              "      async function convertToInteractive(key) {\n",
              "        const element = document.querySelector('#df-8c648da0-1f7e-485a-838a-dec653307729');\n",
              "        const dataTable =\n",
              "          await google.colab.kernel.invokeFunction('convertToInteractive',\n",
              "                                                    [key], {});\n",
              "        if (!dataTable) return;\n",
              "\n",
              "        const docLinkHtml = 'Like what you see? Visit the ' +\n",
              "          '<a target=\"_blank\" href=https://colab.research.google.com/notebooks/data_table.ipynb>data table notebook</a>'\n",
              "          + ' to learn more about interactive tables.';\n",
              "        element.innerHTML = '';\n",
              "        dataTable['output_type'] = 'display_data';\n",
              "        await google.colab.output.renderOutput(dataTable, element);\n",
              "        const docLink = document.createElement('div');\n",
              "        docLink.innerHTML = docLinkHtml;\n",
              "        element.appendChild(docLink);\n",
              "      }\n",
              "    </script>\n",
              "  </div>\n",
              "\n",
              "    </div>\n",
              "  </div>\n"
            ],
            "text/plain": [
              "Empty DataFrame\n",
              "Columns: [pitch, step, duration, start, end]\n",
              "Index: []"
            ]
          },
          "execution_count": 99,
          "metadata": {},
          "output_type": "execute_result"
        }
      ],
      "source": [
        "generated_notes.head(10) # sad(0.6, 2.0) happy(0.4, 1.5)"
      ]
    },
    {
      "cell_type": "code",
      "execution_count": null,
      "metadata": {
        "colab": {
          "base_uri": "https://localhost:8080/",
          "height": 351
        },
        "execution": {
          "iopub.execute_input": "2023-10-27T05:50:46.061009Z",
          "iopub.status.busy": "2023-10-27T05:50:46.060481Z",
          "iopub.status.idle": "2023-10-27T05:50:46.477060Z",
          "shell.execute_reply": "2023-10-27T05:50:46.476278Z"
        },
        "id": "e9K9KHPaTNnK",
        "outputId": "1b465698-5f6c-4c3e-d0bb-5cc461c8bb5c"
      },
      "outputs": [
        {
          "output_type": "error",
          "ename": "AttributeError",
          "evalue": "module 'fluidsynth' has no attribute 'Synth'",
          "traceback": [
            "\u001b[0;31m---------------------------------------------------------------------------\u001b[0m",
            "\u001b[0;31mAttributeError\u001b[0m                            Traceback (most recent call last)",
            "\u001b[0;32m<ipython-input-65-4fb7bf3df12b>\u001b[0m in \u001b[0;36m<cell line: 4>\u001b[0;34m()\u001b[0m\n\u001b[1;32m      2\u001b[0m out_pm = notes_to_midi(\n\u001b[1;32m      3\u001b[0m     generated_notes, out_file=out_file, instrument_name=instrument_name)\n\u001b[0;32m----> 4\u001b[0;31m \u001b[0mdisplay_audio\u001b[0m\u001b[0;34m(\u001b[0m\u001b[0mout_pm\u001b[0m\u001b[0;34m)\u001b[0m\u001b[0;34m\u001b[0m\u001b[0;34m\u001b[0m\u001b[0m\n\u001b[0m",
            "\u001b[0;32m<ipython-input-24-7eb544aa0221>\u001b[0m in \u001b[0;36mdisplay_audio\u001b[0;34m(pm, seconds)\u001b[0m\n\u001b[1;32m      1\u001b[0m \u001b[0;32mdef\u001b[0m \u001b[0mdisplay_audio\u001b[0m\u001b[0;34m(\u001b[0m\u001b[0mpm\u001b[0m\u001b[0;34m:\u001b[0m \u001b[0mpretty_midi\u001b[0m\u001b[0;34m.\u001b[0m\u001b[0mPrettyMIDI\u001b[0m\u001b[0;34m,\u001b[0m \u001b[0mseconds\u001b[0m\u001b[0;34m=\u001b[0m\u001b[0;36m10\u001b[0m\u001b[0;34m)\u001b[0m\u001b[0;34m:\u001b[0m\u001b[0;34m\u001b[0m\u001b[0;34m\u001b[0m\u001b[0m\n\u001b[0;32m----> 2\u001b[0;31m   \u001b[0mwaveform\u001b[0m \u001b[0;34m=\u001b[0m \u001b[0mpm\u001b[0m\u001b[0;34m.\u001b[0m\u001b[0mfluidsynth\u001b[0m\u001b[0;34m(\u001b[0m\u001b[0mfs\u001b[0m\u001b[0;34m=\u001b[0m\u001b[0m_SAMPLING_RATE\u001b[0m\u001b[0;34m)\u001b[0m\u001b[0;34m\u001b[0m\u001b[0;34m\u001b[0m\u001b[0m\n\u001b[0m\u001b[1;32m      3\u001b[0m   \u001b[0;31m# Take a sample of the generated waveform to mitigate kernel resets\u001b[0m\u001b[0;34m\u001b[0m\u001b[0;34m\u001b[0m\u001b[0m\n\u001b[1;32m      4\u001b[0m   \u001b[0mwaveform_short\u001b[0m \u001b[0;34m=\u001b[0m \u001b[0mwaveform\u001b[0m\u001b[0;34m[\u001b[0m\u001b[0;34m:\u001b[0m\u001b[0mseconds\u001b[0m\u001b[0;34m*\u001b[0m\u001b[0m_SAMPLING_RATE\u001b[0m\u001b[0;34m]\u001b[0m\u001b[0;34m\u001b[0m\u001b[0;34m\u001b[0m\u001b[0m\n\u001b[1;32m      5\u001b[0m   \u001b[0;32mreturn\u001b[0m \u001b[0mdisplay\u001b[0m\u001b[0;34m.\u001b[0m\u001b[0mAudio\u001b[0m\u001b[0;34m(\u001b[0m\u001b[0mwaveform_short\u001b[0m\u001b[0;34m,\u001b[0m \u001b[0mrate\u001b[0m\u001b[0;34m=\u001b[0m\u001b[0m_SAMPLING_RATE\u001b[0m\u001b[0;34m)\u001b[0m\u001b[0;34m\u001b[0m\u001b[0;34m\u001b[0m\u001b[0m\n",
            "\u001b[0;32m/usr/local/lib/python3.10/dist-packages/pretty_midi/pretty_midi.py\u001b[0m in \u001b[0;36mfluidsynth\u001b[0;34m(self, fs, sf2_path)\u001b[0m\n\u001b[1;32m    972\u001b[0m             \u001b[0;32mreturn\u001b[0m \u001b[0mnp\u001b[0m\u001b[0;34m.\u001b[0m\u001b[0marray\u001b[0m\u001b[0;34m(\u001b[0m\u001b[0;34m[\u001b[0m\u001b[0;34m]\u001b[0m\u001b[0;34m)\u001b[0m\u001b[0;34m\u001b[0m\u001b[0;34m\u001b[0m\u001b[0m\n\u001b[1;32m    973\u001b[0m         \u001b[0;31m# Get synthesized waveform for each instrument\u001b[0m\u001b[0;34m\u001b[0m\u001b[0;34m\u001b[0m\u001b[0m\n\u001b[0;32m--> 974\u001b[0;31m         waveforms = [i.fluidsynth(fs=fs,\n\u001b[0m\u001b[1;32m    975\u001b[0m                                   sf2_path=sf2_path) for i in self.instruments]\n\u001b[1;32m    976\u001b[0m         \u001b[0;31m# Allocate output waveform, with #sample = max length of all waveforms\u001b[0m\u001b[0;34m\u001b[0m\u001b[0;34m\u001b[0m\u001b[0m\n",
            "\u001b[0;32m/usr/local/lib/python3.10/dist-packages/pretty_midi/pretty_midi.py\u001b[0m in \u001b[0;36m<listcomp>\u001b[0;34m(.0)\u001b[0m\n\u001b[1;32m    972\u001b[0m             \u001b[0;32mreturn\u001b[0m \u001b[0mnp\u001b[0m\u001b[0;34m.\u001b[0m\u001b[0marray\u001b[0m\u001b[0;34m(\u001b[0m\u001b[0;34m[\u001b[0m\u001b[0;34m]\u001b[0m\u001b[0;34m)\u001b[0m\u001b[0;34m\u001b[0m\u001b[0;34m\u001b[0m\u001b[0m\n\u001b[1;32m    973\u001b[0m         \u001b[0;31m# Get synthesized waveform for each instrument\u001b[0m\u001b[0;34m\u001b[0m\u001b[0;34m\u001b[0m\u001b[0m\n\u001b[0;32m--> 974\u001b[0;31m         waveforms = [i.fluidsynth(fs=fs,\n\u001b[0m\u001b[1;32m    975\u001b[0m                                   sf2_path=sf2_path) for i in self.instruments]\n\u001b[1;32m    976\u001b[0m         \u001b[0;31m# Allocate output waveform, with #sample = max length of all waveforms\u001b[0m\u001b[0;34m\u001b[0m\u001b[0;34m\u001b[0m\u001b[0m\n",
            "\u001b[0;32m/usr/local/lib/python3.10/dist-packages/pretty_midi/instrument.py\u001b[0m in \u001b[0;36mfluidsynth\u001b[0;34m(self, fs, sf2_path)\u001b[0m\n\u001b[1;32m    466\u001b[0m \u001b[0;34m\u001b[0m\u001b[0m\n\u001b[1;32m    467\u001b[0m         \u001b[0;31m# Create fluidsynth instance\u001b[0m\u001b[0;34m\u001b[0m\u001b[0;34m\u001b[0m\u001b[0m\n\u001b[0;32m--> 468\u001b[0;31m         \u001b[0mfl\u001b[0m \u001b[0;34m=\u001b[0m \u001b[0mfluidsynth\u001b[0m\u001b[0;34m.\u001b[0m\u001b[0mSynth\u001b[0m\u001b[0;34m(\u001b[0m\u001b[0msamplerate\u001b[0m\u001b[0;34m=\u001b[0m\u001b[0mfs\u001b[0m\u001b[0;34m)\u001b[0m\u001b[0;34m\u001b[0m\u001b[0;34m\u001b[0m\u001b[0m\n\u001b[0m\u001b[1;32m    469\u001b[0m         \u001b[0;31m# Load in the soundfont\u001b[0m\u001b[0;34m\u001b[0m\u001b[0;34m\u001b[0m\u001b[0m\n\u001b[1;32m    470\u001b[0m         \u001b[0msfid\u001b[0m \u001b[0;34m=\u001b[0m \u001b[0mfl\u001b[0m\u001b[0;34m.\u001b[0m\u001b[0msfload\u001b[0m\u001b[0;34m(\u001b[0m\u001b[0msf2_path\u001b[0m\u001b[0;34m)\u001b[0m\u001b[0;34m\u001b[0m\u001b[0;34m\u001b[0m\u001b[0m\n",
            "\u001b[0;31mAttributeError\u001b[0m: module 'fluidsynth' has no attribute 'Synth'"
          ]
        }
      ],
      "source": [
        "out_file = 'output.mid'\n",
        "out_pm = notes_to_midi(\n",
        "    generated_notes, out_file=out_file, instrument_name=instrument_name)\n",
        "display_audio(out_pm)"
      ]
    },
    {
      "cell_type": "markdown",
      "metadata": {
        "id": "u4N9_Y03Kw-3"
      },
      "source": [
        "You can also download the audio file by adding the two lines below:\n",
        "\n",
        "```\n",
        "from google.colab import files\n",
        "files.download(out_file)\n",
        "```"
      ]
    },
    {
      "cell_type": "markdown",
      "metadata": {
        "id": "trp82gTqskPR"
      },
      "source": [
        "Visualize the generated notes."
      ]
    },
    {
      "cell_type": "code",
      "execution_count": null,
      "metadata": {
        "colab": {
          "base_uri": "https://localhost:8080/",
          "height": 337
        },
        "execution": {
          "iopub.execute_input": "2023-10-27T05:50:46.497523Z",
          "iopub.status.busy": "2023-10-27T05:50:46.497000Z",
          "iopub.status.idle": "2023-10-27T05:50:46.945606Z",
          "shell.execute_reply": "2023-10-27T05:50:46.944950Z"
        },
        "id": "NlNsxcnhvbcK",
        "outputId": "af4cefc4-6f46-4860-adbb-cf52015638f9"
      },
      "outputs": [
        {
          "data": {
            "image/png": "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",
            "text/plain": [
              "<Figure size 2000x400 with 1 Axes>"
            ]
          },
          "metadata": {},
          "output_type": "display_data"
        }
      ],
      "source": [
        "plot_piano_roll(generated_notes)"
      ]
    },
    {
      "cell_type": "markdown",
      "metadata": {
        "id": "p5_yA9lvvitC"
      },
      "source": [
        "Check the distributions of `pitch`, `step` and `duration`."
      ]
    },
    {
      "cell_type": "code",
      "execution_count": null,
      "metadata": {
        "execution": {
          "iopub.execute_input": "2023-10-27T05:50:46.949427Z",
          "iopub.status.busy": "2023-10-27T05:50:46.948787Z",
          "iopub.status.idle": "2023-10-27T05:50:47.393275Z",
          "shell.execute_reply": "2023-10-27T05:50:47.392629Z"
        },
        "id": "j5bco2WVRkAa",
        "outputId": "b2c4771d-cf0a-4331-9bc1-855a2743aeb2"
      },
      "outputs": [
        {
          "data": {
            "image/png": "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",
            "text/plain": [
              "<Figure size 1500x500 with 3 Axes>"
            ]
          },
          "metadata": {},
          "output_type": "display_data"
        }
      ],
      "source": [
        "plot_distributions(generated_notes)"
      ]
    },
    {
      "cell_type": "markdown",
      "metadata": {
        "id": "iAyxR7Itw3Wh"
      },
      "source": [
        "In the above plots, you will notice the change in distribution of the note variables.\n",
        "Since there is a feedback loop between the model's outputs and inputs, the model tends to generate similar sequences of outputs to reduce the loss.\n",
        "This is particularly relevant for `step` and `duration`, which uses the MSE loss.\n",
        "For `pitch`, you can increase the randomness by increasing the `temperature` in `predict_next_note`.\n"
      ]
    },
    {
      "cell_type": "markdown",
      "metadata": {
        "id": "Bkfe3GYZEu4l"
      },
      "source": [
        "## Next steps\n",
        "\n",
        "This tutorial demonstrated the mechanics of using an RNN to generate sequences of notes from a dataset of MIDI files. To learn more, you can visit the closely related [Text generation with an RNN](https://www.tensorflow.org/text/tutorials/text_generation) tutorial, which contains additional diagrams and explanations.\n",
        "\n",
        "One of the alternatives to using RNNs for music generation is using GANs. Rather than generating audio, a GAN-based approach can generate an entire sequence in parallel. The Magenta team has done impressive work on this approach with [GANSynth](https://magenta.tensorflow.org/gansynth). You can also find many wonderful music and art projects and open-source code on [Magenta project website](https://magenta.tensorflow.org/)."
      ]
    }
  ],
  "metadata": {
    "accelerator": "GPU",
    "colab": {
      "provenance": []
    },
    "kernelspec": {
      "display_name": "Python 3",
      "name": "python3"
    },
    "language_info": {
      "codemirror_mode": {
        "name": "ipython",
        "version": 3
      },
      "file_extension": ".py",
      "mimetype": "text/x-python",
      "name": "python",
      "nbconvert_exporter": "python",
      "pygments_lexer": "ipython3",
      "version": "3.11.7"
    }
  },
  "nbformat": 4,
  "nbformat_minor": 0
}
